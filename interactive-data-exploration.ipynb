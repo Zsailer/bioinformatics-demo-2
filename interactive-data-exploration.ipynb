{
 "cells": [
  {
   "cell_type": "markdown",
   "metadata": {},
   "source": [
    "# Interactive data analysis in Jupyter"
   ]
  },
  {
   "cell_type": "markdown",
   "metadata": {
    "inputHidden": false,
    "outputHidden": false
   },
   "source": [
    "Jupyter is a data-driven document. You can write code, plot data, explain results, and display some math all in a single coherent document. Try it out!"
   ]
  },
  {
   "cell_type": "code",
   "execution_count": 2,
   "metadata": {},
   "outputs": [
    {
     "data": {
      "application/vnd.fasta.fasta": ">F6SKV0_MONDO/30-424\nD-PVSSWGRFGQDDDGLDDSLLELSEGEEDDGHFSYTEEEIQELLKDDDSLNEQSL--GG\nLRKDTGGQAE--KLENYSCISFDSPQDI--NVLCSTGPRAGPASIHNLPQKNIPARHAPI\nPTKSPSRHFVSEKNLLKITLVPPFNTTVCDA-FGPKET---ESSSKDGSSNANCLGTPSS\nLEKDVNREGHGQNDGKLCTKE--ISSACSVWKGTP---PPKAGPPQGPPRANTPICEESV\nPVASPTLGPTPRPD-VALSSGNDG-HKLGDTARSPAVQSSS-TKPVKLDKDSKKKEGYER\nRLGKVIPLQLAKARSKIQTFSKTELEQKKQIYLKNVIAHLKNPLESNQGALGELCALMDQ\nVANGEYQKQNQRWQHPSDLTMRNYPRFRQKPLQRYSLTQWVDRNLRSHRRFQGL\n>G3WF27_SARHA/29-413\nNVPISSWGRFGLDEDGLDDSLLELSEGEEDDGHFSYTEEEIQELLKDDDSLNEQSL--GG\nLRKDTGGDPE--KLGSCSCASFDSPQDI--NVLCSLGPRAGPASIHKLPQISTPASHAPS\n-----SRHFVPEKSLLKITVVPPFNSTVCDDMLGPKKT---EFSSKDGSSNAYYLG-ISS\nLKEDVSKEDHGQNDGKLCTKE--ISSTCSVWEGPQ---PHKAGPSQGAPRASGPSCEESV\nPLASPTLEQSQRQE-VALSSGNGG-HKLGD------ASVHS-TKLVRLDMDSEQKEGYER\nRLGKVIPLLQARARSKIQTFSQTELEQKKQIYLKNVIAHLKHPLESNQGTLGEFYALMDQ\nVANVEYHMQHQRWQHPSDLTMRNYPRFRQKPLLRYSLTQWVDRNLRSHRRFQGL\n>L9JDF8_TUPCH/21-405\nSAPFS-SS--SLDEDGLDDSLLELSDGEEDDGHFSYTEEEIEELLKDDDLLDEHIPREAG\nLCKDDSGRDE--KGERGGHILLDIPQEK--NSLYSLGPVTETPDLFKLPQLSTPVGQRPT\nPNKPLNKRFILDKNLIKVT-VAPFNPTVCDAVLDNDKT----DSSKDTEK-------PSS\nLGEDT---SYNPDENKLCTESEDISPNNAAWDEPLFSSPLNNNFQNTVSDKNIPDSKKPA\nSVFSQISDHSETPFNTGSSWRNGTSHKSSCEVRFPVISNSS-NKD-IPDKVSGKVKVSER\nRLGKVTPVLQTKTRTNVTTFSQSDLEQQKQIYLRSVIAHIEDPVDSNQGPLGELCALMDQ\nV----HYTKNQKWQHPSDLTVRNYARFRQKPLQRCSLTQWVDRNMRSYHRFQR-\n>G3U198_LOXAF/21-410\nSVPFS-WS--SMDEDELDDSLLELSDGEEDDGHFSFTEEEIEMLLQDDDLSDEQSSGRRD\nLLKDDSGHIE--KGERESQILLDAPQEK--NSLYSLGPVAETPGLFKLPQLSTSIGHGST\nPTKPLNRRFALEKNVIKIT-VAPFDPTVYDAVLDKDKT----DSSKDIKK-------PSS\nLGEELREDGLNTNESKLCTESEVISPTNSAWDGHTFPSPSNNNFQETVSDKNMPDSKKPT\nPVFSQVLDHSESSSYMGSSYRNGGSHKSSCEVRFPVVSSSE-KKQHVLDKDSGKMKVHER\nRLGKVIPVLQSKTRTNVPMCSQSDLEQQKEIYLRSVIAHIEDPVDPNQGALGELHALMDQ\nV----HHTQNQKWQHPSDLTMRNYARFRQKSLQRYSLTQWVDRNMGSHHRFQHL\n>S1PBP_BOVIN/21-408\nNAPFS-WS--SLDEDELDDSLLELSDG-EDDGHFSFTEEQIQELLKDDDLSNEHFPWGGG\nLPSDDSRNVE--KGEKGSQIPLDTPQEK--DSPYNMGPEAETPDTFKLPQLTTSVGHGPT\nPAKSLNRRFALEKNLIKVT-VAPFDPTVCDVALDKDKTYVSEVTSRVTEK-------PSS\nLGEEMREDDLSPNESTLCTESEGISPDNSASDGPPLPS-SNSNFQHTVSDKNMSDSKKAT\nPVFSQILDHSETPN-TGSSRRN-GSYKSSFEMKLP-VSSSS-SKD-VLDKDSGKLKVHEK\nRLGKVIPVLQAKTRTNVPTFSPSDLEKQKQSYLRNVIAHIEDPVDSNQGTLGELCALMDQ\nV----HHMHNQKWQHPSDLTRRNYARFRQKSLQRYSLTQWVDRNKRSHHRFQRL\n>E2RNK1_CANLF/21-407\nNAPFS-WG--SLDEDGLDDSLLDLSEGEEDDGHFSFTEEDIQELLKDDDLSNEHFSWGGG\nLLKDN-RHVE--KGGKGNEILLDTSQEK--NSLYSLGPVAETPGLLKLPQLSTSVGNGPT\nPTKPLNRHFALEKNLIKITVVAPFDPTVCDAVLDKDKT----DSSKDTEK-------PSS\nLGEEMRKGGLSPNENKLCSESEGISPSNSAWDAPPLSSPSDNDFEQTVSDKNMPDSKRPT\nPVFSQILDHSETPN-TGSSWKN-GSHKSNCEVRFPVVSSSS-NKD-VLDKDSGKLKVNER\nRLGKVIPVLQAKRRTNVPTFSQSDLEKQKESYLKEVIAHIEHPKDTNQGALGELYALMGQ\nV----HHMQNPKWQHPSDLTMRNYARFRQKPLQRYSLTQWVDRNMRTHHRFQRL\n>H2R1E8_PANTR/22-402\n-APFS-WD--CLDEDGLDDSLLELSEGEEDDGDVNYTEEEIDALLKEDDPSYEQSSGE--\n---DDGGHVE--KGERGSQILLDTPQEK--NSSYSLGPVAETPDLFKLPQLSTSSGHGPA\nHTKPLNRRSVLEKNLIKVT-VAPFNPTVCDALLDKDET----DSSKDTEK-------LSS\nLGEEMREDGLSPNESKLCTESEGISPNNSAWNGPQLSS-SNNNFQQTVSDKNMPDSENPT\nSVFSRISDHSETPN-MELSCRNGGSHKSSCEMRSLVVSTSS-NKQDVLNKDSGKMKGHER\nRLGKVIPVLQTKTRTNVPTFSQSNLEQQKQLYLRSVIAHIEDPEDTNQGVSGELCALMDQ\nV----HHMQHSKWQHPSDLTTRNYAR-RQKHLQRYSLTQWVDRNMRSHHRFQRL\n>H0XCQ7_OTOGA/21-407\nNAPFS-WG--SLDDDVLDDSLLELSDGEEDDGHYSYTEEEIEELLKIDEPSSEDHSWEGG\nLCKDESRHDE--KGERGSQILLDTPQEK--NLLYSLGTVAETSG-FKLPQLSTSIGHGPT\nPTKPLNRRSAVEKNLIKVT-VAPFNPTVCDAVIDKDQT----DSSKDTEK-------SSS\nLGEKLKEDGLSSNESKLCTDSEGIRPSNSAWERPSLSSTSNNTFQQTVSDKAVPNSKKPT\nPAFSQISDHSETPS-VGSSWRNGGSHESSGEMKFPVSSSSNKKKQDVLDKDSGKIKGNER\nRLGKVIPVLQTKARTNVPTFSQSNLEQQKQIYLRSVIAHIEDPEDSNQDVAGELYTLM-E\nV----HHMQNPKWQHPSDLTMRNYAR-RQKPLQRYSLTQWVDRNMRSHHRFQRL\n>D3ZSX9_RAT/21-382\nNASFS-WG--SSDEDELDDSLLEFSDGEEDDGHFSFTEEEIEMLLKDDD-----------\n-----GGHNE--YRARKSQILPHTPQE---NSLYSLGPAAETPGFLKLPQLSPSVGHGPT\nPSKSLNRHFVLEKNLIKVTVVAPFNPTVCDPVLDKDKI----DSSKETEK-------PAS\nLQEQTREDDLHPNESKRCTEPEGVSPNNSAWDGPLLSSPSNNNIEQTASDKNIPESKKPT\nPVFSQISNHSEVPN-----RKNSGSHKSGCEVRIPVVSSSS-NRH-AFDKDSGEAKG-ER\nRLGKVIPVLQTRTR----MFSQSDLEKQKDIYLSKVIAHIEDPGDSNQGALGELDALMDQ\nV-----HMQNPDWQHPSDLTTRNYARFRQRPLQRYSLSQWVDRNKRSHHRFQRL\n>I3MGM1_ICTTR/22-400\n-APFS-WG--SLDEDELDDSLLELSDGEEDDDNFNYTEEEIDELLKDDDPSDEHFSLEER\nLCKDDGRHVE--NGGKGSQVLLETPQEK--NSLYNLRPVAETPGLFKLPQLSTSVGHGPI\nPTKPLNRRFVLEKNLIKVTVVAPFNPSVCDPVLDKDKI----DSSKDTEK-------PSS\nLEEGMREDGLNPNESELCTESEEMSPNNSAWDGSLFSSPLNNNFQQTISDKNTPDSKKST\nPVFSQISEHSETPN-MGSSWKNGGSQKSSCEMRFPVVSSSS-NRD-ILDKDSGEMKVRER\nRLGKVIPVLQTKTRTNVSTFSQSDLEQQKQIYLRSVFDHIEDPGDSNQGTSGELYALMNR\n-------------QHPSDLTMRNYARFRQKPLQRYSLNQWVDRNKRSHHRFQRL\n>G5B5K0_HETGA/21-399\nNAPFS-WS--SLDEDELDDSLLELSDGEEDDGHFSLTEEEIEELLKDDSSSNEEEIEE--\nFLKDDEPSNEHANGEKRSQILLETPQEK--SSLYSLKPVAETPGLFKLPQLNTTVGHEPI\nPAKSLNRHLVLEKNHIKVTVVAPFDPTVCDPVLDKSKT----DSSKDTEK-------LSS\nLGEEMREYDLTPNESKVHTESEEISPNISAWDG--ISSPLNSNFQQTVSVKNTLDSKKPT\nPVFSQISDHSKTPSSTSSSWKNSGSHKLSCEMRSPVVSSSS-KRD-AFDKDSGEMKGREK\nRTGKVIPVLQTKIRTNVSTFSQSDLEQQKQIYLRRVFDHIEDPGDSNQGPSGELYTLMDR\n-------------QHPSDLTMRNYARFRQKPLQRYSLTQWVERNKRSHHRFQRL\n>G1SD82_RABIT/21-404\nNASFS-WS--SLDEEELDDSLLELSDGEEDDGHFSYTEEEIQELLKDDDPSD---VCGEG\nLYKDDGGHVE--NGGKGNQILPDTPQEKNSNSLCSLGPVTETPGLFKLPQLNTSVGHGPT\nPAKPLNRRFALEKNLIKVTIVAPFNPAACDTVREKKKV----NSSKETEK-------PSP\nTGEEMR-NGLTPNEGEACTESEGISPSNSSWEQPQLSS--NSNVQLTVSGKNLPDCKKPT\nPVFSQLSDHPETPN-AESPWRNGGSHRSSCEVKFS-VSSSP-NKD-VFDKDSGKVKVHEK\nRLGKVIPVLQTKTRTNVSTFSQSDLEQQKQIYLRRVIAHIQDPVDSNQGALGELYALMDQ\nV----HHMQNPKRQHPSDLTMRNYARYRQNPPQRYSLTQWVDWNKRSYHRFQHL",
      "text/plain": [
       ">F6SKV0_MONDO/30-424\n",
       "D-PVSSWGRFGQDDDGLDDSLLELSEGEEDDGHFSYTEEEIQELLKDDDSLNEQSL--GG\n",
       "LRKDTGGQAE--KLENYSCISFDSPQDI--NVLCSTGPRAGPASIHNLPQKNIPARHAPI\n",
       "PTKSPSRHFVSEKNLLKITLVPPFNTTVCDA-FGPKET---ESSSKDGSSNANCLGTPSS\n",
       "LEKDVNREGHGQNDGKLCTKE--ISSACSVWKGTP---PPKAGPPQGPPRANTPICEESV\n",
       "PVASPTLGPTPRPD-VALSSGNDG-HKLGDTARSPAVQSSS-TKPVKLDKDSKKKEGYER\n",
       "RLGKVIPLQLAKARSKIQTFSKTELEQKKQIYLKNVIAHLKNPLESNQGALGELCALMDQ\n",
       "VANGEYQKQNQRWQHPSDLTMRNYPRFRQKPLQRYSLTQWVDRNLRSHRRFQGL\n",
       ">G3WF27_SARHA/29-413\n",
       "NVPISSWGRFGLDEDGLDDSLLELSEGEEDDGHFSYTEEEIQELLKDDDSLNEQSL--GG\n",
       "LRKDTGGDPE--KLGSCSCASFDSPQDI--NVLCSLGPRAGPASIHKLPQISTPASHAPS\n",
       "-----SRHFVPEKSLLKITVVPPFNSTVCDDMLGPKKT---EFSSKDGSSNAYYLG-ISS\n",
       "LKEDVSKEDHGQNDGKLCTKE--ISSTCSVWEGPQ---PHKAGPSQGAPRASGPSCEESV\n",
       "PLASPTLEQSQRQE-VALSSGNGG-HKLGD------ASVHS-TKLVRLDMDSEQKEGYER\n",
       "RLGKVIPLLQARARSKIQTFSQTELEQKKQIYLKNVIAHLKHPLESNQGTLGEFYALMDQ\n",
       "VANVEYHMQHQRWQHPSDLTMRNYPRFRQKPLLRYSLTQWVDRNLRSHRRFQGL\n",
       ">L9JDF8_TUPCH/21-405\n",
       "SAPFS-SS--SLDEDGLDDSLLELSDGEEDDGHFSYTEEEIEELLKDDDLLDEHIPREAG\n",
       "LCKDDSGRDE--KGERGGHILLDIPQEK--NSLYSLGPVTETPDLFKLPQLSTPVGQRPT\n",
       "PNKPLNKRFILDKNLIKVT-VAPFNPTVCDAVLDNDKT----DSSKDTEK-------PSS\n",
       "LGEDT---SYNPDENKLCTESEDISPNNAAWDEPLFSSPLNNNFQNTVSDKNIPDSKKPA\n",
       "SVFSQISDHSETPFNTGSSWRNGTSHKSSCEVRFPVISNSS-NKD-IPDKVSGKVKVSER\n",
       "RLGKVTPVLQTKTRTNVTTFSQSDLEQQKQIYLRSVIAHIEDPVDSNQGPLGELCALMDQ\n",
       "V----HYTKNQKWQHPSDLTVRNYARFRQKPLQRCSLTQWVDRNMRSYHRFQR-\n",
       ">G3U198_LOXAF/21-410\n",
       "SVPFS-WS--SMDEDELDDSLLELSDGEEDDGHFSFTEEEIEMLLQDDDLSDEQSSGRRD\n",
       "LLKDDSGHIE--KGERESQILLDAPQEK--NSLYSLGPVAETPGLFKLPQLSTSIGHGST\n",
       "PTKPLNRRFALEKNVIKIT-VAPFDPTVYDAVLDKDKT----DSSKDIKK-------PSS\n",
       "LGEELREDGLNTNESKLCTESEVISPTNSAWDGHTFPSPSNNNFQETVSDKNMPDSKKPT\n",
       "PVFSQVLDHSESSSYMGSSYRNGGSHKSSCEVRFPVVSSSE-KKQHVLDKDSGKMKVHER\n",
       "RLGKVIPVLQSKTRTNVPMCSQSDLEQQKEIYLRSVIAHIEDPVDPNQGALGELHALMDQ\n",
       "V----HHTQNQKWQHPSDLTMRNYARFRQKSLQRYSLTQWVDRNMGSHHRFQHL\n",
       ">S1PBP_BOVIN/21-408\n",
       "NAPFS-WS--SLDEDELDDSLLELSDG-EDDGHFSFTEEQIQELLKDDDLSNEHFPWGGG\n",
       "LPSDDSRNVE--KGEKGSQIPLDTPQEK--DSPYNMGPEAETPDTFKLPQLTTSVGHGPT\n",
       "PAKSLNRRFALEKNLIKVT-VAPFDPTVCDVALDKDKTYVSEVTSRVTEK-------PSS\n",
       "LGEEMREDDLSPNESTLCTESEGISPDNSASDGPPLPS-SNSNFQHTVSDKNMSDSKKAT\n",
       "PVFSQILDHSETPN-TGSSRRN-GSYKSSFEMKLP-VSSSS-SKD-VLDKDSGKLKVHEK\n",
       "RLGKVIPVLQAKTRTNVPTFSPSDLEKQKQSYLRNVIAHIEDPVDSNQGTLGELCALMDQ\n",
       "V----HHMHNQKWQHPSDLTRRNYARFRQKSLQRYSLTQWVDRNKRSHHRFQRL\n",
       ">E2RNK1_CANLF/21-407\n",
       "NAPFS-WG--SLDEDGLDDSLLDLSEGEEDDGHFSFTEEDIQELLKDDDLSNEHFSWGGG\n",
       "LLKDN-RHVE--KGGKGNEILLDTSQEK--NSLYSLGPVAETPGLLKLPQLSTSVGNGPT\n",
       "PTKPLNRHFALEKNLIKITVVAPFDPTVCDAVLDKDKT----DSSKDTEK-------PSS\n",
       "LGEEMRKGGLSPNENKLCSESEGISPSNSAWDAPPLSSPSDNDFEQTVSDKNMPDSKRPT\n",
       "PVFSQILDHSETPN-TGSSWKN-GSHKSNCEVRFPVVSSSS-NKD-VLDKDSGKLKVNER\n",
       "RLGKVIPVLQAKRRTNVPTFSQSDLEKQKESYLKEVIAHIEHPKDTNQGALGELYALMGQ\n",
       "V----HHMQNPKWQHPSDLTMRNYARFRQKPLQRYSLTQWVDRNMRTHHRFQRL\n",
       ">H2R1E8_PANTR/22-402\n",
       "-APFS-WD--CLDEDGLDDSLLELSEGEEDDGDVNYTEEEIDALLKEDDPSYEQSSGE--\n",
       "---DDGGHVE--KGERGSQILLDTPQEK--NSSYSLGPVAETPDLFKLPQLSTSSGHGPA\n",
       "HTKPLNRRSVLEKNLIKVT-VAPFNPTVCDALLDKDET----DSSKDTEK-------LSS\n",
       "LGEEMREDGLSPNESKLCTESEGISPNNSAWNGPQLSS-SNNNFQQTVSDKNMPDSENPT\n",
       "SVFSRISDHSETPN-MELSCRNGGSHKSSCEMRSLVVSTSS-NKQDVLNKDSGKMKGHER\n",
       "RLGKVIPVLQTKTRTNVPTFSQSNLEQQKQLYLRSVIAHIEDPEDTNQGVSGELCALMDQ\n",
       "V----HHMQHSKWQHPSDLTTRNYAR-RQKHLQRYSLTQWVDRNMRSHHRFQRL\n",
       ">H0XCQ7_OTOGA/21-407\n",
       "NAPFS-WG--SLDDDVLDDSLLELSDGEEDDGHYSYTEEEIEELLKIDEPSSEDHSWEGG\n",
       "LCKDESRHDE--KGERGSQILLDTPQEK--NLLYSLGTVAETSG-FKLPQLSTSIGHGPT\n",
       "PTKPLNRRSAVEKNLIKVT-VAPFNPTVCDAVIDKDQT----DSSKDTEK-------SSS\n",
       "LGEKLKEDGLSSNESKLCTDSEGIRPSNSAWERPSLSSTSNNTFQQTVSDKAVPNSKKPT\n",
       "PAFSQISDHSETPS-VGSSWRNGGSHESSGEMKFPVSSSSNKKKQDVLDKDSGKIKGNER\n",
       "RLGKVIPVLQTKARTNVPTFSQSNLEQQKQIYLRSVIAHIEDPEDSNQDVAGELYTLM-E\n",
       "V----HHMQNPKWQHPSDLTMRNYAR-RQKPLQRYSLTQWVDRNMRSHHRFQRL\n",
       ">D3ZSX9_RAT/21-382\n",
       "NASFS-WG--SSDEDELDDSLLEFSDGEEDDGHFSFTEEEIEMLLKDDD-----------\n",
       "-----GGHNE--YRARKSQILPHTPQE---NSLYSLGPAAETPGFLKLPQLSPSVGHGPT\n",
       "PSKSLNRHFVLEKNLIKVTVVAPFNPTVCDPVLDKDKI----DSSKETEK-------PAS\n",
       "LQEQTREDDLHPNESKRCTEPEGVSPNNSAWDGPLLSSPSNNNIEQTASDKNIPESKKPT\n",
       "PVFSQISNHSEVPN-----RKNSGSHKSGCEVRIPVVSSSS-NRH-AFDKDSGEAKG-ER\n",
       "RLGKVIPVLQTRTR----MFSQSDLEKQKDIYLSKVIAHIEDPGDSNQGALGELDALMDQ\n",
       "V-----HMQNPDWQHPSDLTTRNYARFRQRPLQRYSLSQWVDRNKRSHHRFQRL\n",
       ">I3MGM1_ICTTR/22-400\n",
       "-APFS-WG--SLDEDELDDSLLELSDGEEDDDNFNYTEEEIDELLKDDDPSDEHFSLEER\n",
       "LCKDDGRHVE--NGGKGSQVLLETPQEK--NSLYNLRPVAETPGLFKLPQLSTSVGHGPI\n",
       "PTKPLNRRFVLEKNLIKVTVVAPFNPSVCDPVLDKDKI----DSSKDTEK-------PSS\n",
       "LEEGMREDGLNPNESELCTESEEMSPNNSAWDGSLFSSPLNNNFQQTISDKNTPDSKKST\n",
       "PVFSQISEHSETPN-MGSSWKNGGSQKSSCEMRFPVVSSSS-NRD-ILDKDSGEMKVRER\n",
       "RLGKVIPVLQTKTRTNVSTFSQSDLEQQKQIYLRSVFDHIEDPGDSNQGTSGELYALMNR\n",
       "-------------QHPSDLTMRNYARFRQKPLQRYSLNQWVDRNKRSHHRFQRL\n",
       ">G5B5K0_HETGA/21-399\n",
       "NAPFS-WS--SLDEDELDDSLLELSDGEEDDGHFSLTEEEIEELLKDDSSSNEEEIEE--\n",
       "FLKDDEPSNEHANGEKRSQILLETPQEK--SSLYSLKPVAETPGLFKLPQLNTTVGHEPI\n",
       "PAKSLNRHLVLEKNHIKVTVVAPFDPTVCDPVLDKSKT----DSSKDTEK-------LSS\n",
       "LGEEMREYDLTPNESKVHTESEEISPNISAWDG--ISSPLNSNFQQTVSVKNTLDSKKPT\n",
       "PVFSQISDHSKTPSSTSSSWKNSGSHKLSCEMRSPVVSSSS-KRD-AFDKDSGEMKGREK\n",
       "RTGKVIPVLQTKIRTNVSTFSQSDLEQQKQIYLRRVFDHIEDPGDSNQGPSGELYTLMDR\n",
       "-------------QHPSDLTMRNYARFRQKPLQRYSLTQWVERNKRSHHRFQRL\n",
       ">G1SD82_RABIT/21-404\n",
       "NASFS-WS--SLDEEELDDSLLELSDGEEDDGHFSYTEEEIQELLKDDDPSD---VCGEG\n",
       "LYKDDGGHVE--NGGKGNQILPDTPQEKNSNSLCSLGPVTETPGLFKLPQLNTSVGHGPT\n",
       "PAKPLNRRFALEKNLIKVTIVAPFNPAACDTVREKKKV----NSSKETEK-------PSP\n",
       "TGEEMR-NGLTPNEGEACTESEGISPSNSSWEQPQLSS--NSNVQLTVSGKNLPDCKKPT\n",
       "PVFSQLSDHPETPN-AESPWRNGGSHRSSCEVKFS-VSSSP-NKD-VFDKDSGKVKVHEK\n",
       "RLGKVIPVLQTKTRTNVSTFSQSDLEQQKQIYLRRVIAHIQDPVDSNQGALGELYALMDQ\n",
       "V----HHMQNPKRQHPSDLTMRNYARYRQNPPQRYSLTQWVDWNKRSYHRFQHL"
      ]
     },
     "metadata": {},
     "output_type": "display_data"
    }
   ],
   "source": [
    "from IPython.display import display\n",
    "\n",
    "def Fasta(data=''):\n",
    "    bundle = {}\n",
    "    bundle['application/vnd.fasta.fasta'] = data\n",
    "    bundle['text/plain'] = data\n",
    "    display(bundle, raw=True)\n",
    "\n",
    "\n",
    "with open(\"data/s100.fasta\", \"r\") as f:\n",
    "    Fasta(f.read())"
   ]
  },
  {
   "cell_type": "markdown",
   "metadata": {},
   "source": [
    "## Random walks visualization"
   ]
  },
  {
   "cell_type": "code",
   "execution_count": 3,
   "metadata": {},
   "outputs": [
    {
     "data": {
      "text/html": [
       "<div>\n",
       "<style scoped>\n",
       "    .dataframe tbody tr th:only-of-type {\n",
       "        vertical-align: middle;\n",
       "    }\n",
       "\n",
       "    .dataframe tbody tr th {\n",
       "        vertical-align: top;\n",
       "    }\n",
       "\n",
       "    .dataframe thead th {\n",
       "        text-align: right;\n",
       "    }\n",
       "</style>\n",
       "<table border=\"1\" class=\"dataframe\">\n",
       "  <thead>\n",
       "    <tr style=\"text-align: right;\">\n",
       "      <th></th>\n",
       "      <th>id</th>\n",
       "      <th>x</th>\n",
       "      <th>y</th>\n",
       "    </tr>\n",
       "  </thead>\n",
       "  <tbody>\n",
       "    <tr>\n",
       "      <th>0</th>\n",
       "      <td>0</td>\n",
       "      <td>1.764052</td>\n",
       "      <td>-2.552990</td>\n",
       "    </tr>\n",
       "    <tr>\n",
       "      <th>1</th>\n",
       "      <td>1</td>\n",
       "      <td>0.400157</td>\n",
       "      <td>0.653619</td>\n",
       "    </tr>\n",
       "    <tr>\n",
       "      <th>2</th>\n",
       "      <td>2</td>\n",
       "      <td>0.978738</td>\n",
       "      <td>0.864436</td>\n",
       "    </tr>\n",
       "    <tr>\n",
       "      <th>3</th>\n",
       "      <td>3</td>\n",
       "      <td>2.240893</td>\n",
       "      <td>-0.742165</td>\n",
       "    </tr>\n",
       "    <tr>\n",
       "      <th>4</th>\n",
       "      <td>4</td>\n",
       "      <td>1.867558</td>\n",
       "      <td>2.269755</td>\n",
       "    </tr>\n",
       "    <tr>\n",
       "      <th>5</th>\n",
       "      <td>5</td>\n",
       "      <td>-0.977278</td>\n",
       "      <td>-1.454366</td>\n",
       "    </tr>\n",
       "    <tr>\n",
       "      <th>6</th>\n",
       "      <td>6</td>\n",
       "      <td>0.950088</td>\n",
       "      <td>0.045759</td>\n",
       "    </tr>\n",
       "    <tr>\n",
       "      <th>7</th>\n",
       "      <td>7</td>\n",
       "      <td>-0.151357</td>\n",
       "      <td>-0.187184</td>\n",
       "    </tr>\n",
       "    <tr>\n",
       "      <th>8</th>\n",
       "      <td>8</td>\n",
       "      <td>-0.103219</td>\n",
       "      <td>1.532779</td>\n",
       "    </tr>\n",
       "    <tr>\n",
       "      <th>9</th>\n",
       "      <td>9</td>\n",
       "      <td>0.410599</td>\n",
       "      <td>1.469359</td>\n",
       "    </tr>\n",
       "    <tr>\n",
       "      <th>10</th>\n",
       "      <td>10</td>\n",
       "      <td>0.144044</td>\n",
       "      <td>0.154947</td>\n",
       "    </tr>\n",
       "    <tr>\n",
       "      <th>11</th>\n",
       "      <td>11</td>\n",
       "      <td>1.454274</td>\n",
       "      <td>0.378163</td>\n",
       "    </tr>\n",
       "    <tr>\n",
       "      <th>12</th>\n",
       "      <td>12</td>\n",
       "      <td>0.761038</td>\n",
       "      <td>-0.887786</td>\n",
       "    </tr>\n",
       "    <tr>\n",
       "      <th>13</th>\n",
       "      <td>13</td>\n",
       "      <td>0.121675</td>\n",
       "      <td>-1.980796</td>\n",
       "    </tr>\n",
       "    <tr>\n",
       "      <th>14</th>\n",
       "      <td>14</td>\n",
       "      <td>0.443863</td>\n",
       "      <td>-0.347912</td>\n",
       "    </tr>\n",
       "    <tr>\n",
       "      <th>15</th>\n",
       "      <td>15</td>\n",
       "      <td>0.333674</td>\n",
       "      <td>0.156349</td>\n",
       "    </tr>\n",
       "    <tr>\n",
       "      <th>16</th>\n",
       "      <td>16</td>\n",
       "      <td>1.494079</td>\n",
       "      <td>1.230291</td>\n",
       "    </tr>\n",
       "    <tr>\n",
       "      <th>17</th>\n",
       "      <td>17</td>\n",
       "      <td>-0.205158</td>\n",
       "      <td>1.202380</td>\n",
       "    </tr>\n",
       "    <tr>\n",
       "      <th>18</th>\n",
       "      <td>18</td>\n",
       "      <td>0.313068</td>\n",
       "      <td>-0.387327</td>\n",
       "    </tr>\n",
       "    <tr>\n",
       "      <th>19</th>\n",
       "      <td>19</td>\n",
       "      <td>-0.854096</td>\n",
       "      <td>-0.302303</td>\n",
       "    </tr>\n",
       "  </tbody>\n",
       "</table>\n",
       "</div>"
      ],
      "text/plain": [
       "    id         x         y\n",
       "0    0  1.764052 -2.552990\n",
       "1    1  0.400157  0.653619\n",
       "2    2  0.978738  0.864436\n",
       "3    3  2.240893 -0.742165\n",
       "4    4  1.867558  2.269755\n",
       "5    5 -0.977278 -1.454366\n",
       "6    6  0.950088  0.045759\n",
       "7    7 -0.151357 -0.187184\n",
       "8    8 -0.103219  1.532779\n",
       "9    9  0.410599  1.469359\n",
       "10  10  0.144044  0.154947\n",
       "11  11  1.454274  0.378163\n",
       "12  12  0.761038 -0.887786\n",
       "13  13  0.121675 -1.980796\n",
       "14  14  0.443863 -0.347912\n",
       "15  15  0.333674  0.156349\n",
       "16  16  1.494079  1.230291\n",
       "17  17 -0.205158  1.202380\n",
       "18  18  0.313068 -0.387327\n",
       "19  19 -0.854096 -0.302303"
      ]
     },
     "execution_count": 3,
     "metadata": {},
     "output_type": "execute_result"
    }
   ],
   "source": [
    "import altair as alt\n",
    "import pandas as pd\n",
    "import numpy as np\n",
    "\n",
    "np.random.seed(0)\n",
    "\n",
    "n_objects = 20\n",
    "n_times = 50\n",
    "\n",
    "# Create one (x, y) pair of metadata per object\n",
    "locations = pd.DataFrame({\n",
    "    'id': range(n_objects),\n",
    "    'x': np.random.randn(n_objects),\n",
    "    'y': np.random.randn(n_objects)\n",
    "})\n",
    "\n",
    "locations"
   ]
  },
  {
   "cell_type": "code",
   "execution_count": 4,
   "metadata": {},
   "outputs": [
    {
     "data": {
      "application/vnd.vegalite.v2+json": {
       "$schema": "https://vega.github.io/schema/vega-lite/v2.4.3.json",
       "config": {
        "view": {
         "height": 300,
         "width": 400
        }
       },
       "hconcat": [
        {
         "data": {
          "values": [
           {
            "id": 0,
            "time": 0,
            "value": -1.0485529650670926,
            "x": 1.764052345967664,
            "y": -2.5529898158340787
           },
           {
            "id": 0,
            "time": 1,
            "value": -1.7210134128430437,
            "x": 1.764052345967664,
            "y": -2.5529898158340787
           },
           {
            "id": 0,
            "time": 2,
            "value": -2.8861632536264,
            "x": 1.764052345967664,
            "y": -2.5529898158340787
           },
           {
            "id": 0,
            "time": 3,
            "value": -1.0030125565701458,
            "x": 1.764052345967664,
            "y": -2.5529898158340787
           },
           {
            "id": 0,
            "time": 4,
            "value": -0.6265870254145163,
            "x": 1.764052345967664,
            "y": -2.5529898158340787
           },
           {
            "id": 0,
            "time": 5,
            "value": -2.117844618120122,
            "x": 1.764052345967664,
            "y": -2.5529898158340787
           },
           {
            "id": 0,
            "time": 6,
            "value": -2.615877068812427,
            "x": 1.764052345967664,
            "y": -2.5529898158340787
           },
           {
            "id": 0,
            "time": 7,
            "value": -2.969870980065911,
            "x": 1.764052345967664,
            "y": -2.5529898158340787
           },
           {
            "id": 0,
            "time": 8,
            "value": -3.3390528180083545,
            "x": 1.764052345967664,
            "y": -2.5529898158340787
           },
           {
            "id": 0,
            "time": 9,
            "value": -4.294997818501131,
            "x": 1.764052345967664,
            "y": -2.5529898158340787
           },
           {
            "id": 0,
            "time": 10,
            "value": -4.93243484405336,
            "x": 1.764052345967664,
            "y": -2.5529898158340787
           },
           {
            "id": 0,
            "time": 11,
            "value": -6.121294101837389,
            "x": 1.764052345967664,
            "y": -2.5529898158340787
           },
           {
            "id": 0,
            "time": 12,
            "value": -6.231834759069861,
            "x": 1.764052345967664,
            "y": -2.5529898158340787
           },
           {
            "id": 0,
            "time": 13,
            "value": -7.538361610805178,
            "x": 1.764052345967664,
            "y": -2.5529898158340787
           },
           {
            "id": 0,
            "time": 14,
            "value": -8.257965999356971,
            "x": 1.764052345967664,
            "y": -2.5529898158340787
           },
           {
            "id": 0,
            "time": 15,
            "value": -7.189456600040962,
            "x": 1.764052345967664,
            "y": -2.5529898158340787
           },
           {
            "id": 0,
            "time": 16,
            "value": -6.490999450933626,
            "x": 1.764052345967664,
            "y": -2.5529898158340787
           },
           {
            "id": 0,
            "time": 17,
            "value": -8.18910527036588,
            "x": 1.764052345967664,
            "y": -2.5529898158340787
           },
           {
            "id": 0,
            "time": 18,
            "value": -8.787759207288866,
            "x": 1.764052345967664,
            "y": -2.5529898158340787
           },
           {
            "id": 0,
            "time": 19,
            "value": -7.858254095809338,
            "x": 1.764052345967664,
            "y": -2.5529898158340787
           },
           {
            "id": 0,
            "time": 20,
            "value": -8.253483078463692,
            "x": 1.764052345967664,
            "y": -2.5529898158340787
           },
           {
            "id": 0,
            "time": 21,
            "value": -8.771002120974096,
            "x": 1.764052345967664,
            "y": -2.5529898158340787
           },
           {
            "id": 0,
            "time": 22,
            "value": -7.999596172297251,
            "x": 1.764052345967664,
            "y": -2.5529898158340787
           },
           {
            "id": 0,
            "time": 23,
            "value": -7.616863742284982,
            "x": 1.764052345967664,
            "y": -2.5529898158340787
           },
           {
            "id": 0,
            "time": 24,
            "value": -7.839469423233303,
            "x": 1.764052345967664,
            "y": -2.5529898158340787
           },
           {
            "id": 0,
            "time": 25,
            "value": -7.625989374323134,
            "x": 1.764052345967664,
            "y": -2.5529898158340787
           },
           {
            "id": 0,
            "time": 26,
            "value": -5.614732692859997,
            "x": 1.764052345967664,
            "y": -2.5529898158340787
           },
           {
            "id": 0,
            "time": 27,
            "value": -7.566536794341599,
            "x": 1.764052345967664,
            "y": -2.5529898158340787
           },
           {
            "id": 0,
            "time": 28,
            "value": -9.11696613942508,
            "x": 1.764052345967664,
            "y": -2.5529898158340787
           },
           {
            "id": 0,
            "time": 29,
            "value": -8.440505407063457,
            "x": 1.764052345967664,
            "y": -2.5529898158340787
           },
           {
            "id": 0,
            "time": 30,
            "value": -8.530887414340404,
            "x": 1.764052345967664,
            "y": -2.5529898158340787
           },
           {
            "id": 0,
            "time": 31,
            "value": -9.463628325134781,
            "x": 1.764052345967664,
            "y": -2.5529898158340787
           },
           {
            "id": 0,
            "time": 32,
            "value": -10.055030992942893,
            "x": 1.764052345967664,
            "y": -2.5529898158340787
           },
           {
            "id": 0,
            "time": 33,
            "value": -11.499971192016265,
            "x": 1.764052345967664,
            "y": -2.5529898158340787
           },
           {
            "id": 0,
            "time": 34,
            "value": -11.886842038866911,
            "x": 1.764052345967664,
            "y": -2.5529898158340787
           },
           {
            "id": 0,
            "time": 35,
            "value": -13.064471001349542,
            "x": 1.764052345967664,
            "y": -2.5529898158340787
           },
           {
            "id": 0,
            "time": 36,
            "value": -13.515774038452069,
            "x": 1.764052345967664,
            "y": -2.5529898158340787
           },
           {
            "id": 0,
            "time": 37,
            "value": -12.026418076377588,
            "x": 1.764052345967664,
            "y": -2.5529898158340787
           },
           {
            "id": 0,
            "time": 38,
            "value": -10.615246012487976,
            "x": 1.764052345967664,
            "y": -2.5529898158340787
           },
           {
            "id": 0,
            "time": 39,
            "value": -10.626391624329818,
            "x": 1.764052345967664,
            "y": -2.5529898158340787
           },
           {
            "id": 0,
            "time": 40,
            "value": -10.386808864473426,
            "x": 1.764052345967664,
            "y": -2.5529898158340787
           },
           {
            "id": 0,
            "time": 41,
            "value": -9.232624833979408,
            "x": 1.764052345967664,
            "y": -2.5529898158340787
           },
           {
            "id": 0,
            "time": 42,
            "value": -7.9061631916137145,
            "x": 1.764052345967664,
            "y": -2.5529898158340787
           },
           {
            "id": 0,
            "time": 43,
            "value": -9.367895879875123,
            "x": 1.764052345967664,
            "y": -2.5529898158340787
           },
           {
            "id": 0,
            "time": 44,
            "value": -10.666582602038213,
            "x": 1.764052345967664,
            "y": -2.5529898158340787
           },
           {
            "id": 0,
            "time": 45,
            "value": -10.300733814121354,
            "x": 1.764052345967664,
            "y": -2.5529898158340787
           },
           {
            "id": 0,
            "time": 46,
            "value": -10.666284904107393,
            "x": 1.764052345967664,
            "y": -2.5529898158340787
           },
           {
            "id": 0,
            "time": 47,
            "value": -10.306780504536382,
            "x": 1.764052345967664,
            "y": -2.5529898158340787
           },
           {
            "id": 0,
            "time": 48,
            "value": -9.750817824826584,
            "x": 1.764052345967664,
            "y": -2.5529898158340787
           },
           {
            "id": 0,
            "time": 49,
            "value": -8.735152543284482,
            "x": 1.764052345967664,
            "y": -2.5529898158340787
           },
           {
            "id": 1,
            "time": 0,
            "value": -1.4200179371789752,
            "x": 0.4001572083672233,
            "y": 0.6536185954403606
           },
           {
            "id": 1,
            "time": 1,
            "value": -1.7795710987195164,
            "x": 0.4001572083672233,
            "y": 0.6536185954403606
           },
           {
            "id": 1,
            "time": 2,
            "value": -0.8787446117653293,
            "x": 0.4001572083672233,
            "y": 0.6536185954403606
           },
           {
            "id": 1,
            "time": 3,
            "value": -2.226503672907776,
            "x": 0.4001572083672233,
            "y": 0.6536185954403606
           },
           {
            "id": 1,
            "time": 4,
            "value": -3.3259044634919706,
            "x": 0.4001572083672233,
            "y": 0.6536185954403606
           },
           {
            "id": 1,
            "time": 5,
            "value": -2.886512762227434,
            "x": 0.4001572083672233,
            "y": 0.6536185954403606
           },
           {
            "id": 1,
            "time": 6,
            "value": -0.956980708410448,
            "x": 0.4001572083672233,
            "y": 0.6536185954403606
           },
           {
            "id": 1,
            "time": 7,
            "value": -2.331932001828467,
            "x": 0.4001572083672233,
            "y": 0.6536185954403606
           },
           {
            "id": 1,
            "time": 8,
            "value": -2.5713111794043932,
            "x": 0.4001572083672233,
            "y": 0.6536185954403606
           },
           {
            "id": 1,
            "time": 9,
            "value": -2.91729295510378,
            "x": 0.4001572083672233,
            "y": 0.6536185954403606
           },
           {
            "id": 1,
            "time": 10,
            "value": -3.3145647694325775,
            "x": 0.4001572083672233,
            "y": 0.6536185954403606
           },
           {
            "id": 1,
            "time": 11,
            "value": -3.821381123731265,
            "x": 0.4001572083672233,
            "y": 0.6536185954403606
           },
           {
            "id": 1,
            "time": 12,
            "value": -2.801208412015465,
            "x": 0.4001572083672233,
            "y": 0.6536185954403606
           },
           {
            "id": 1,
            "time": 13,
            "value": -1.1430777323972772,
            "x": 0.4001572083672233,
            "y": 0.6536185954403606
           },
           {
            "id": 1,
            "time": 14,
            "value": -1.9560707209513546,
            "x": 0.4001572083672233,
            "y": 0.6536185954403606
           },
           {
            "id": 1,
            "time": 15,
            "value": -2.409456524802742,
            "x": 0.4001572083672233,
            "y": 0.6536185954403606
           },
           {
            "id": 1,
            "time": 16,
            "value": -2.405685635716473,
            "x": 0.4001572083672233,
            "y": 0.6536185954403606
           },
           {
            "id": 1,
            "time": 17,
            "value": -2.0184051603214095,
            "x": 0.4001572083672233,
            "y": 0.6536185954403606
           },
           {
            "id": 1,
            "time": 18,
            "value": -3.134302146281804,
            "x": 0.4001572083672233,
            "y": 0.6536185954403606
           },
           {
            "id": 1,
            "time": 19,
            "value": -2.55207755488388,
            "x": 0.4001572083672233,
            "y": 0.6536185954403606
           },
           {
            "id": 1,
            "time": 20,
            "value": -3.711498071283793,
            "x": 0.4001572083672233,
            "y": 0.6536185954403606
           },
           {
            "id": 1,
            "time": 21,
            "value": -4.690327930642563,
            "x": 0.4001572083672233,
            "y": 0.6536185954403606
           },
           {
            "id": 1,
            "time": 22,
            "value": -3.6608891018597958,
            "x": 0.4001572083672233,
            "y": 0.6536185954403606
           },
           {
            "id": 1,
            "time": 23,
            "value": -3.6951313823917498,
            "x": 0.4001572083672233,
            "y": 0.6536185954403606
           },
           {
            "id": 1,
            "time": 24,
            "value": -4.608210600433546,
            "x": 0.4001572083672233,
            "y": 0.6536185954403606
           },
           {
            "id": 1,
            "time": 25,
            "value": -5.816784254166768,
            "x": 0.4001572083672233,
            "y": 0.6536185954403606
           },
           {
            "id": 1,
            "time": 26,
            "value": -5.861379680622625,
            "x": 0.4001572083672233,
            "y": 0.6536185954403606
           },
           {
            "id": 1,
            "time": 27,
            "value": -6.521271410352123,
            "x": 0.4001572083672233,
            "y": 0.6536185954403606
           },
           {
            "id": 1,
            "time": 28,
            "value": -6.103952589320288,
            "x": 0.4001572083672233,
            "y": 0.6536185954403606
           },
           {
            "id": 1,
            "time": 29,
            "value": -6.4859615448981085,
            "x": 0.4001572083672233,
            "y": 0.6536185954403606
           },
           {
            "id": 1,
            "time": 30,
            "value": -5.118364305091395,
            "x": 0.4001572083672233,
            "y": 0.6536185954403606
           },
           {
            "id": 1,
            "time": 31,
            "value": -6.381432654193671,
            "x": 0.4001572083672233,
            "y": 0.6536185954403606
           },
           {
            "id": 1,
            "time": 32,
            "value": -5.257013469683303,
            "x": 0.4001572083672233,
            "y": 0.6536185954403606
           },
           {
            "id": 1,
            "time": 33,
            "value": -6.4675564638066545,
            "x": 0.4001572083672233,
            "y": 0.6536185954403606
           },
           {
            "id": 1,
            "time": 34,
            "value": -6.977849203440283,
            "x": 0.4001572083672233,
            "y": 0.6536185954403606
           },
           {
            "id": 1,
            "time": 35,
            "value": -8.118045504375244,
            "x": 0.4001572083672233,
            "y": 0.6536185954403606
           },
           {
            "id": 1,
            "time": 36,
            "value": -7.852357529409009,
            "x": 0.4001572083672233,
            "y": 0.6536185954403606
           },
           {
            "id": 1,
            "time": 37,
            "value": -7.331053781133295,
            "x": 0.4001572083672233,
            "y": 0.6536185954403606
           },
           {
            "id": 1,
            "time": 38,
            "value": -6.545249954302122,
            "x": 0.4001572083672233,
            "y": 0.6536185954403606
           },
           {
            "id": 1,
            "time": 39,
            "value": -6.533751054432059,
            "x": 0.4001572083672233,
            "y": 0.6536185954403606
           },
           {
            "id": 1,
            "time": 40,
            "value": -6.903552220735863,
            "x": 0.4001572083672233,
            "y": 0.6536185954403606
           },
           {
            "id": 1,
            "time": 41,
            "value": -6.731047804242997,
            "x": 0.4001572083672233,
            "y": 0.6536185954403606
           },
           {
            "id": 1,
            "time": 42,
            "value": -7.695654228449261,
            "x": 0.4001572083672233,
            "y": 0.6536185954403606
           },
           {
            "id": 1,
            "time": 43,
            "value": -8.379093995237943,
            "x": 0.4001572083672233,
            "y": 0.6536185954403606
           },
           {
            "id": 1,
            "time": 44,
            "value": -7.103018649231755,
            "x": 0.4001572083672233,
            "y": 0.6536185954403606
           },
           {
            "id": 1,
            "time": 45,
            "value": -5.805193382258169,
            "x": 0.4001572083672233,
            "y": 0.6536185954403606
           },
           {
            "id": 1,
            "time": 46,
            "value": -4.867100841352523,
            "x": 0.4001572083672233,
            "y": 0.6536185954403606
           },
           {
            "id": 1,
            "time": 47,
            "value": -5.011667658286259,
            "x": 0.4001572083672233,
            "y": 0.6536185954403606
           },
           {
            "id": 1,
            "time": 48,
            "value": -4.119193770954729,
            "x": 0.4001572083672233,
            "y": 0.6536185954403606
           },
           {
            "id": 1,
            "time": 49,
            "value": -3.4181524297896315,
            "x": 0.4001572083672233,
            "y": 0.6536185954403606
           },
           {
            "id": 2,
            "time": 0,
            "value": -1.7062701906250126,
            "x": 0.9787379841057392,
            "y": 0.8644361988595057
           },
           {
            "id": 2,
            "time": 1,
            "value": -2.5194164726694668,
            "x": 0.9787379841057392,
            "y": 0.8644361988595057
           },
           {
            "id": 2,
            "time": 2,
            "value": -2.0537540329390067,
            "x": 0.9787379841057392,
            "y": 0.8644361988595057
           },
           {
            "id": 2,
            "time": 3,
            "value": -3.3242390314247405,
            "x": 0.9787379841057392,
            "y": 0.8644361988595057
           },
           {
            "id": 2,
            "time": 4,
            "value": -3.0260008572186847,
            "x": 0.9787379841057392,
            "y": 0.8644361988595057
           },
           {
            "id": 2,
            "time": 5,
            "value": -2.8593273618461557,
            "x": 0.9787379841057392,
            "y": 0.8644361988595057
           },
           {
            "id": 2,
            "time": 6,
            "value": -1.9099065549203948,
            "x": 0.9787379841057392,
            "y": 0.8644361988595057
           },
           {
            "id": 2,
            "time": 7,
            "value": -2.5535249577532855,
            "x": 0.9787379841057392,
            "y": 0.8644361988595057
           },
           {
            "id": 2,
            "time": 8,
            "value": -1.4538653618661723,
            "x": 0.9787379841057392,
            "y": 0.8644361988595057
           },
           {
            "id": 2,
            "time": 9,
            "value": -1.9174613365122666,
            "x": 0.9787379841057392,
            "y": 0.8644361988595057
           },
           {
            "id": 2,
            "time": 10,
            "value": -2.050341914099222,
            "x": 0.9787379841057392,
            "y": 0.8644361988595057
           },
           {
            "id": 2,
            "time": 11,
            "value": -2.64665595254973,
            "x": 0.9787379841057392,
            "y": 0.8644361988595057
           },
           {
            "id": 2,
            "time": 12,
            "value": -3.3387058003341212,
            "x": 0.9787379841057392,
            "y": 0.8644361988595057
           },
           {
            "id": 2,
            "time": 13,
            "value": -3.456869845462691,
            "x": 0.9787379841057392,
            "y": 0.8644361988595057
           },
           {
            "id": 2,
            "time": 14,
            "value": -3.1823534877387516,
            "x": 0.9787379841057392,
            "y": 0.8644361988595057
           },
           {
            "id": 2,
            "time": 15,
            "value": -3.870191098767434,
            "x": 0.9787379841057392,
            "y": 0.8644361988595057
           },
           {
            "id": 2,
            "time": 16,
            "value": -2.9383427246531304,
            "x": 0.9787379841057392,
            "y": 0.8644361988595057
           },
           {
            "id": 2,
            "time": 17,
            "value": -5.19390695405532,
            "x": 0.9787379841057392,
            "y": 0.8644361988595057
           },
           {
            "id": 2,
            "time": 18,
            "value": -4.427243772410234,
            "x": 0.9787379841057392,
            "y": 0.8644361988595057
           },
           {
            "id": 2,
            "time": 19,
            "value": -6.521846843616379,
            "x": 0.9787379841057392,
            "y": 0.8644361988595057
           },
           {
            "id": 2,
            "time": 20,
            "value": -6.607777610587991,
            "x": 0.9787379841057392,
            "y": 0.8644361988595057
           },
           {
            "id": 2,
            "time": 21,
            "value": -7.046967132390139,
            "x": 0.9787379841057392,
            "y": 0.8644361988595057
           },
           {
            "id": 2,
            "time": 22,
            "value": -7.955730378349193,
            "x": 0.9787379841057392,
            "y": 0.8644361988595057
           },
           {
            "id": 2,
            "time": 23,
            "value": -6.8593835326833945,
            "x": 0.9787379841057392,
            "y": 0.8644361988595057
           },
           {
            "id": 2,
            "time": 24,
            "value": -8.540601748177828,
            "x": 0.9787379841057392,
            "y": 0.8644361988595057
           },
           {
            "id": 2,
            "time": 25,
            "value": -8.782621578048047,
            "x": 0.9787379841057392,
            "y": 0.8644361988595057
           },
           {
            "id": 2,
            "time": 26,
            "value": -8.587551880896667,
            "x": 0.9787379841057392,
            "y": 0.8644361988595057
           },
           {
            "id": 2,
            "time": 27,
            "value": -9.72735433632344,
            "x": 0.9787379841057392,
            "y": 0.8644361988595057
           },
           {
            "id": 2,
            "time": 28,
            "value": -10.671722827147734,
            "x": 0.9787379841057392,
            "y": 0.8644361988595057
           },
           {
            "id": 2,
            "time": 29,
            "value": -10.895981761399375,
            "x": 0.9787379841057392,
            "y": 0.8644361988595057
           },
           {
            "id": 2,
            "time": 30,
            "value": -9.861571874917857,
            "x": 0.9787379841057392,
            "y": 0.8644361988595057
           },
           {
            "id": 2,
            "time": 31,
            "value": -9.40908278227821,
            "x": 0.9787379841057392,
            "y": 0.8644361988595057
           },
           {
            "id": 2,
            "time": 32,
            "value": -8.653687086614871,
            "x": 0.9787379841057392,
            "y": 0.8644361988595057
           },
           {
            "id": 2,
            "time": 33,
            "value": -9.442356341124238,
            "x": 0.9787379841057392,
            "y": 0.8644361988595057
           },
           {
            "id": 2,
            "time": 34,
            "value": -9.258430846783929,
            "x": 0.9787379841057392,
            "y": 0.8644361988595057
           },
           {
            "id": 2,
            "time": 35,
            "value": -7.50344469304187,
            "x": 0.9787379841057392,
            "y": 0.8644361988595057
           },
           {
            "id": 2,
            "time": 36,
            "value": -6.780344199304072,
            "x": 0.9787379841057392,
            "y": 0.8644361988595057
           },
           {
            "id": 2,
            "time": 37,
            "value": -6.1684170065729145,
            "x": 0.9787379841057392,
            "y": 0.8644361988595057
           },
           {
            "id": 2,
            "time": 38,
            "value": -6.225886525038309,
            "x": 0.9787379841057392,
            "y": 0.8644361988595057
           },
           {
            "id": 2,
            "time": 39,
            "value": -7.063564566946254,
            "x": 0.9787379841057392,
            "y": 0.8644361988595057
           },
           {
            "id": 2,
            "time": 40,
            "value": -6.091028777803717,
            "x": 0.9787379841057392,
            "y": 0.8644361988595057
           },
           {
            "id": 2,
            "time": 41,
            "value": -6.069966756461653,
            "x": 0.9787379841057392,
            "y": 0.8644361988595057
           },
           {
            "id": 2,
            "time": 42,
            "value": -6.010072073345377,
            "x": 0.9787379841057392,
            "y": 0.8644361988595057
           },
           {
            "id": 2,
            "time": 43,
            "value": -5.642527177323108,
            "x": 0.9787379841057392,
            "y": 0.8644361988595057
           },
           {
            "id": 2,
            "time": 44,
            "value": -4.317513124436292,
            "x": 0.9787379841057392,
            "y": 0.8644361988595057
           },
           {
            "id": 2,
            "time": 45,
            "value": -3.836397998047457,
            "x": 0.9787379841057392,
            "y": 0.8644361988595057
           },
           {
            "id": 2,
            "time": 46,
            "value": -3.5396648255533436,
            "x": 0.9787379841057392,
            "y": 0.8644361988595057
           },
           {
            "id": 2,
            "time": 47,
            "value": -3.9012641063349633,
            "x": 0.9787379841057392,
            "y": 0.8644361988595057
           },
           {
            "id": 2,
            "time": 48,
            "value": -4.323578930460234,
            "x": 0.9787379841057392,
            "y": 0.8644361988595057
           },
           {
            "id": 2,
            "time": 49,
            "value": -4.741056280345267,
            "x": 0.9787379841057392,
            "y": 0.8644361988595057
           },
           {
            "id": 3,
            "time": 0,
            "value": 1.9507753952317897,
            "x": 2.240893199201458,
            "y": -0.7421650204064419
           },
           {
            "id": 3,
            "time": 1,
            "value": 0.22449279290011281,
            "x": 2.240893199201458,
            "y": -0.7421650204064419
           },
           {
            "id": 3,
            "time": 2,
            "value": -1.311750893377111,
            "x": 2.240893199201458,
            "y": -0.7421650204064419
           },
           {
            "id": 3,
            "time": 3,
            "value": -0.34235418521909977,
            "x": 2.240893199201458,
            "y": -0.7421650204064419
           },
           {
            "id": 3,
            "time": 4,
            "value": 0.9840317114679306,
            "x": 2.240893199201458,
            "y": -0.7421650204064419
           },
           {
            "id": 3,
            "time": 5,
            "value": 1.6190631483600368,
            "x": 2.240893199201458,
            "y": -0.7421650204064419
           },
           {
            "id": 3,
            "time": 6,
            "value": 1.7066143897452277,
            "x": 2.240893199201458,
            "y": -0.7421650204064419
           },
           {
            "id": 3,
            "time": 7,
            "value": -0.5167887624791989,
            "x": 2.240893199201458,
            "y": -0.7421650204064419
           },
           {
            "id": 3,
            "time": 8,
            "value": 0.1384749682433989,
            "x": 2.240893199201458,
            "y": -0.7421650204064419
           },
           {
            "id": 3,
            "time": 9,
            "value": 0.6199564420168611,
            "x": 2.240893199201458,
            "y": -0.7421650204064419
           },
           {
            "id": 3,
            "time": 10,
            "value": 0.32216556261513274,
            "x": 2.240893199201458,
            "y": -0.7421650204064419
           },
           {
            "id": 3,
            "time": 11,
            "value": 0.2695982663455865,
            "x": 2.240893199201458,
            "y": -0.7421650204064419
           },
           {
            "id": 3,
            "time": 12,
            "value": 1.8059753205913842,
            "x": 2.240893199201458,
            "y": -0.7421650204064419
           },
           {
            "id": 3,
            "time": 13,
            "value": 1.125797116594534,
            "x": 2.240893199201458,
            "y": -0.7421650204064419
           },
           {
            "id": 3,
            "time": 14,
            "value": 0.23488203359900606,
            "x": 2.240893199201458,
            "y": -0.7421650204064419
           },
           {
            "id": 3,
            "time": 15,
            "value": -0.9791953694951145,
            "x": 2.240893199201458,
            "y": -0.7421650204064419
           },
           {
            "id": 3,
            "time": 16,
            "value": -0.6392303856938526,
            "x": 2.240893199201458,
            "y": -0.7421650204064419
           },
           {
            "id": 3,
            "time": 17,
            "value": -1.6617372293294561,
            "x": 2.240893199201458,
            "y": -0.7421650204064419
           },
           {
            "id": 3,
            "time": 18,
            "value": -1.305444411857167,
            "x": 2.240893199201458,
            "y": -0.7421650204064419
           },
           {
            "id": 3,
            "time": 19,
            "value": -1.1817224976236604,
            "x": 2.240893199201458,
            "y": -0.7421650204064419
           },
           {
            "id": 3,
            "time": 20,
            "value": -0.9874295595778888,
            "x": 2.240893199201458,
            "y": -0.7421650204064419
           },
           {
            "id": 3,
            "time": 21,
            "value": -0.8060911303600675,
            "x": 2.240893199201458,
            "y": -0.7421650204064419
           },
           {
            "id": 3,
            "time": 22,
            "value": -1.230408751337969,
            "x": 2.240893199201458,
            "y": -0.7421650204064419
           },
           {
            "id": 3,
            "time": 23,
            "value": -1.4646245526825055,
            "x": 2.240893199201458,
            "y": -0.7421650204064419
           },
           {
            "id": 3,
            "time": 24,
            "value": -2.3535959107779556,
            "x": 2.240893199201458,
            "y": -0.7421650204064419
           },
           {
            "id": 3,
            "time": 25,
            "value": -0.8353347404222502,
            "x": 2.240893199201458,
            "y": -0.7421650204064419
           },
           {
            "id": 3,
            "time": 26,
            "value": -2.6168975961278416,
            "x": 2.240893199201458,
            "y": -0.7421650204064419
           },
           {
            "id": 3,
            "time": 27,
            "value": -1.8319400748873416,
            "x": 2.240893199201458,
            "y": -0.7421650204064419
           },
           {
            "id": 3,
            "time": 28,
            "value": -1.5938369270550294,
            "x": 2.240893199201458,
            "y": -0.7421650204064419
           },
           {
            "id": 3,
            "time": 29,
            "value": -1.8960866575100994,
            "x": 2.240893199201458,
            "y": -0.7421650204064419
           },
           {
            "id": 3,
            "time": 30,
            "value": -2.8922992978811655,
            "x": 2.240893199201458,
            "y": -0.7421650204064419
           },
           {
            "id": 3,
            "time": 31,
            "value": -2.794403152468538,
            "x": 2.240893199201458,
            "y": -0.7421650204064419
           },
           {
            "id": 3,
            "time": 32,
            "value": -1.9269957411136203,
            "x": 2.240893199201458,
            "y": -0.7421650204064419
           },
           {
            "id": 3,
            "time": 33,
            "value": -0.8323573664015289,
            "x": 2.240893199201458,
            "y": -0.7421650204064419
           },
           {
            "id": 3,
            "time": 34,
            "value": -1.2178471267771371,
            "x": 2.240893199201458,
            "y": -0.7421650204064419
           },
           {
            "id": 3,
            "time": 35,
            "value": -1.3508355490867292,
            "x": 2.240893199201458,
            "y": -0.7421650204064419
           },
           {
            "id": 3,
            "time": 36,
            "value": -1.3262234238388175,
            "x": 2.240893199201458,
            "y": -0.7421650204064419
           },
           {
            "id": 3,
            "time": 37,
            "value": -2.66772014942186,
            "x": 2.240893199201458,
            "y": -0.7421650204064419
           },
           {
            "id": 3,
            "time": 38,
            "value": -3.0589372015958762,
            "x": 2.240893199201458,
            "y": -0.7421650204064419
           },
           {
            "id": 3,
            "time": 39,
            "value": -3.650120305360306,
            "x": 2.240893199201458,
            "y": -0.7421650204064419
           },
           {
            "id": 3,
            "time": 40,
            "value": -1.5162520581557688,
            "x": 2.240893199201458,
            "y": -0.7421650204064419
           },
           {
            "id": 3,
            "time": 41,
            "value": -1.4167976011250571,
            "x": 2.240893199201458,
            "y": -0.7421650204064419
           },
           {
            "id": 3,
            "time": 42,
            "value": -1.6293206458953664,
            "x": 2.240893199201458,
            "y": -0.7421650204064419
           },
           {
            "id": 3,
            "time": 43,
            "value": -1.4390090883014266,
            "x": 2.240893199201458,
            "y": -0.7421650204064419
           },
           {
            "id": 3,
            "time": 44,
            "value": -1.2336765245234669,
            "x": 2.240893199201458,
            "y": -0.7421650204064419
           },
           {
            "id": 3,
            "time": 45,
            "value": 1.5256785894981153,
            "x": 2.240893199201458,
            "y": -0.7421650204064419
           },
           {
            "id": 3,
            "time": 46,
            "value": 2.3556647485792186,
            "x": 2.240893199201458,
            "y": -0.7421650204064419
           },
           {
            "id": 3,
            "time": 47,
            "value": 3.4202498847070704,
            "x": 2.240893199201458,
            "y": -0.7421650204064419
           },
           {
            "id": 3,
            "time": 48,
            "value": 3.5249639141403546,
            "x": 2.240893199201458,
            "y": -0.7421650204064419
           },
           {
            "id": 3,
            "time": 49,
            "value": 2.42746725937011,
            "x": 2.240893199201458,
            "y": -0.7421650204064419
           },
           {
            "id": 4,
            "time": 0,
            "value": -0.5096521817516535,
            "x": 1.8675579901499675,
            "y": 2.2697546239876076
           },
           {
            "id": 4,
            "time": 1,
            "value": -0.33222603949790064,
            "x": 1.8675579901499675,
            "y": 2.2697546239876076
           },
           {
            "id": 4,
            "time": 2,
            "value": 1.156026154297699,
            "x": 1.8675579901499675,
            "y": 2.2697546239876076
           },
           {
            "id": 4,
            "time": 3,
            "value": -0.01709725081646085,
            "x": 1.8675579901499675,
            "y": 2.2697546239876076
           },
           {
            "id": 4,
            "time": 4,
            "value": -0.7116651105478263,
            "x": 1.8675579901499675,
            "y": 2.2697546239876076
           },
           {
            "id": 4,
            "time": 5,
            "value": 1.6714796643161156,
            "x": 1.8675579901499675,
            "y": 2.2697546239876076
           },
           {
            "id": 4,
            "time": 6,
            "value": 0.4460441454859476,
            "x": 1.8675579901499675,
            "y": 2.2697546239876076
           },
           {
            "id": 4,
            "time": 7,
            "value": 1.071275596513135,
            "x": 1.8675579901499675,
            "y": 2.2697546239876076
           },
           {
            "id": 4,
            "time": 8,
            "value": 1.7114071226107272,
            "x": 1.8675579901499675,
            "y": 2.2697546239876076
           },
           {
            "id": 4,
            "time": 9,
            "value": 0.17061010816610245,
            "x": 1.8675579901499675,
            "y": 2.2697546239876076
           },
           {
            "id": 4,
            "time": 10,
            "value": -0.13840286088101977,
            "x": 1.8675579901499675,
            "y": 2.2697546239876076
           },
           {
            "id": 4,
            "time": 11,
            "value": -2.0746826667275267,
            "x": 1.8675579901499675,
            "y": 2.2697546239876076
           },
           {
            "id": 4,
            "time": 12,
            "value": -1.788338977835247,
            "x": 1.8675579901499675,
            "y": 2.2697546239876076
           },
           {
            "id": 4,
            "time": 13,
            "value": -1.1219558958033327,
            "x": 1.8675579901499675,
            "y": 2.2697546239876076
           },
           {
            "id": 4,
            "time": 14,
            "value": -2.2793111549941862,
            "x": 1.8675579901499675,
            "y": 2.2697546239876076
           },
           {
            "id": 4,
            "time": 15,
            "value": -2.7202337872867774,
            "x": 1.8675579901499675,
            "y": 2.2697546239876076
           },
           {
            "id": 4,
            "time": 16,
            "value": -2.735915898889332,
            "x": 1.8675579901499675,
            "y": 2.2697546239876076
           },
           {
            "id": 4,
            "time": 17,
            "value": -2.697285347049144,
            "x": 1.8675579901499675,
            "y": 2.2697546239876076
           },
           {
            "id": 4,
            "time": 18,
            "value": -4.465823797726175,
            "x": 1.8675579901499675,
            "y": 2.2697546239876076
           },
           {
            "id": 4,
            "time": 19,
            "value": -4.595930751919879,
            "x": 1.8675579901499675,
            "y": 2.2697546239876076
           },
           {
            "id": 4,
            "time": 20,
            "value": -3.7200979903325484,
            "x": 1.8675579901499675,
            "y": 2.2697546239876076
           },
           {
            "id": 4,
            "time": 21,
            "value": -4.222914690975086,
            "x": 1.8675579901499675,
            "y": 2.2697546239876076
           },
           {
            "id": 4,
            "time": 22,
            "value": -3.3603186796466353,
            "x": 1.8675579901499675,
            "y": 2.2697546239876076
           },
           {
            "id": 4,
            "time": 23,
            "value": -3.7077693321451988,
            "x": 1.8675579901499675,
            "y": 2.2697546239876076
           },
           {
            "id": 4,
            "time": 24,
            "value": -3.465651371160076,
            "x": 1.8675579901499675,
            "y": 2.2697546239876076
           },
           {
            "id": 4,
            "time": 25,
            "value": -3.8502967943025936,
            "x": 1.8675579901499675,
            "y": 2.2697546239876076
           },
           {
            "id": 4,
            "time": 26,
            "value": -4.579341453097289,
            "x": 1.8675579901499675,
            "y": 2.2697546239876076
           },
           {
            "id": 4,
            "time": 27,
            "value": -5.1336510796685895,
            "x": 1.8675579901499675,
            "y": 2.2697546239876076
           },
           {
            "id": 4,
            "time": 28,
            "value": -6.539613995936489,
            "x": 1.8675579901499675,
            "y": 2.2697546239876076
           },
           {
            "id": 4,
            "time": 29,
            "value": -6.914761112597773,
            "x": 1.8675579901499675,
            "y": 2.2697546239876076
           },
           {
            "id": 4,
            "time": 30,
            "value": -8.132699624190924,
            "x": 1.8675579901499675,
            "y": 2.2697546239876076
           },
           {
            "id": 4,
            "time": 31,
            "value": -8.580864986871632,
            "x": 1.8675579901499675,
            "y": 2.2697546239876076
           },
           {
            "id": 4,
            "time": 32,
            "value": -9.237328661843163,
            "x": 1.8675579901499675,
            "y": 2.2697546239876076
           },
           {
            "id": 4,
            "time": 33,
            "value": -9.002507135894431,
            "x": 1.8675579901499675,
            "y": 2.2697546239876076
           },
           {
            "id": 4,
            "time": 34,
            "value": -10.604343184866968,
            "x": 1.8675579901499675,
            "y": 2.2697546239876076
           },
           {
            "id": 4,
            "time": 35,
            "value": -11.370045379345054,
            "x": 1.8675579901499675,
            "y": 2.2697546239876076
           },
           {
            "id": 4,
            "time": 36,
            "value": -10.65006164920189,
            "x": 1.8675579901499675,
            "y": 2.2697546239876076
           },
           {
            "id": 4,
            "time": 37,
            "value": -10.173163280279667,
            "x": 1.8675579901499675,
            "y": 2.2697546239876076
           },
           {
            "id": 4,
            "time": 38,
            "value": -9.232245665704554,
            "x": 1.8675579901499675,
            "y": 2.2697546239876076
           },
           {
            "id": 4,
            "time": 39,
            "value": -9.899965952063953,
            "x": 1.8675579901499675,
            "y": 2.2697546239876076
           },
           {
            "id": 4,
            "time": 40,
            "value": -9.493550458387746,
            "x": 1.8675579901499675,
            "y": 2.2697546239876076
           },
           {
            "id": 4,
            "time": 41,
            "value": -9.266157683266618,
            "x": 1.8675579901499675,
            "y": 2.2697546239876076
           },
           {
            "id": 4,
            "time": 42,
            "value": -10.028272195189116,
            "x": 1.8675579901499675,
            "y": 2.2697546239876076
           },
           {
            "id": 4,
            "time": 43,
            "value": -10.880001392442706,
            "x": 1.8675579901499675,
            "y": 2.2697546239876076
           },
           {
            "id": 4,
            "time": 44,
            "value": -10.834867377010696,
            "x": 1.8675579901499675,
            "y": 2.2697546239876076
           },
           {
            "id": 4,
            "time": 45,
            "value": -10.909535355261845,
            "x": 1.8675579901499675,
            "y": 2.2697546239876076
           },
           {
            "id": 4,
            "time": 46,
            "value": -11.405637689244408,
            "x": 1.8675579901499675,
            "y": 2.2697546239876076
           },
           {
            "id": 4,
            "time": 47,
            "value": -12.34351792039586,
            "x": 1.8675579901499675,
            "y": 2.2697546239876076
           },
           {
            "id": 4,
            "time": 48,
            "value": -12.115464595271792,
            "x": 1.8675579901499675,
            "y": 2.2697546239876076
           },
           {
            "id": 4,
            "time": 49,
            "value": -10.403159373928496,
            "x": 1.8675579901499675,
            "y": 2.2697546239876076
           },
           {
            "id": 5,
            "time": 0,
            "value": -0.4380743016111864,
            "x": -0.977277879876411,
            "y": -1.4543656745987648
           },
           {
            "id": 5,
            "time": 1,
            "value": -0.8398552378194483,
            "x": -0.977277879876411,
            "y": -1.4543656745987648
           },
           {
            "id": 5,
            "time": 2,
            "value": 1.0560339382111348,
            "x": -0.977277879876411,
            "y": -1.4543656745987648
           },
           {
            "id": 5,
            "time": 3,
            "value": 2.9996551238604274,
            "x": -0.977277879876411,
            "y": -1.4543656745987648
           },
           {
            "id": 5,
            "time": 4,
            "value": 2.8500205835327566,
            "x": -0.977277879876411,
            "y": -1.4543656745987648
           },
           {
            "id": 5,
            "time": 5,
            "value": 3.7945000705231706,
            "x": -0.977277879876411,
            "y": -1.4543656745987648
           },
           {
            "id": 5,
            "time": 6,
            "value": 4.638863046924718,
            "x": -0.977277879876411,
            "y": -1.4543656745987648
           },
           {
            "id": 5,
            "time": 7,
            "value": 3.0368053913179702,
            "x": -0.977277879876411,
            "y": -1.4543656745987648
           },
           {
            "id": 5,
            "time": 8,
            "value": 1.4198493470071358,
            "x": -0.977277879876411,
            "y": -1.4543656745987648
           },
           {
            "id": 5,
            "time": 9,
            "value": 1.4831113412074675,
            "x": -0.977277879876411,
            "y": -1.4543656745987648
           },
           {
            "id": 5,
            "time": 10,
            "value": -0.19289246512250924,
            "x": -0.977277879876411,
            "y": -1.4543656745987648
           },
           {
            "id": 5,
            "time": 11,
            "value": -0.0041138683286806865,
            "x": -0.977277879876411,
            "y": -1.4543656745987648
           },
           {
            "id": 5,
            "time": 12,
            "value": 0.6047299661467701,
            "x": -0.977277879876411,
            "y": -1.4543656745987648
           },
           {
            "id": 5,
            "time": 13,
            "value": 0.1440101787582168,
            "x": -0.977277879876411,
            "y": -1.4543656745987648
           },
           {
            "id": 5,
            "time": 14,
            "value": -0.1682820723674765,
            "x": -0.977277879876411,
            "y": -1.4543656745987648
           },
           {
            "id": 5,
            "time": 15,
            "value": -0.4486375675519856,
            "x": -0.977277879876411,
            "y": -1.4543656745987648
           },
           {
            "id": 5,
            "time": 16,
            "value": -0.2877093992537626,
            "x": -0.977277879876411,
            "y": -1.4543656745987648
           },
           {
            "id": 5,
            "time": 17,
            "value": -1.9444245015757162,
            "x": -0.977277879876411,
            "y": -1.4543656745987648
           },
           {
            "id": 5,
            "time": 18,
            "value": -1.5889427088319472,
            "x": -0.977277879876411,
            "y": -1.4543656745987648
           },
           {
            "id": 5,
            "time": 19,
            "value": -1.4949894794463785,
            "x": -0.977277879876411,
            "y": -1.4543656745987648
           },
           {
            "id": 5,
            "time": 20,
            "value": -1.6100969479336051,
            "x": -0.977277879876411,
            "y": -1.4543656745987648
           },
           {
            "id": 5,
            "time": 21,
            "value": 0.8023567316101434,
            "x": -0.977277879876411,
            "y": -1.4543656745987648
           },
           {
            "id": 5,
            "time": 22,
            "value": -1.8532623613647894,
            "x": -0.977277879876411,
            "y": -1.4543656745987648
           },
           {
            "id": 5,
            "time": 23,
            "value": -2.4345308382251147,
            "x": -0.977277879876411,
            "y": -1.4543656745987648
           },
           {
            "id": 5,
            "time": 24,
            "value": -3.3232510955787458,
            "x": -0.977277879876411,
            "y": -1.4543656745987648
           },
           {
            "id": 5,
            "time": 25,
            "value": -3.7670871887339437,
            "x": -0.977277879876411,
            "y": -1.4543656745987648
           },
           {
            "id": 5,
            "time": 26,
            "value": -3.5705297880051585,
            "x": -0.977277879876411,
            "y": -1.4543656745987648
           },
           {
            "id": 5,
            "time": 27,
            "value": -4.04116744615995,
            "x": -0.977277879876411,
            "y": -1.4543656745987648
           },
           {
            "id": 5,
            "time": 28,
            "value": -4.6312250920294895,
            "x": -0.977277879876411,
            "y": -1.4543656745987648
           },
           {
            "id": 5,
            "time": 29,
            "value": -5.857421283812508,
            "x": -0.977277879876411,
            "y": -1.4543656745987648
           },
           {
            "id": 5,
            "time": 30,
            "value": -6.162384921666929,
            "x": -0.977277879876411,
            "y": -1.4543656745987648
           },
           {
            "id": 5,
            "time": 31,
            "value": -6.8117228493973165,
            "x": -0.977277879876411,
            "y": -1.4543656745987648
           },
           {
            "id": 5,
            "time": 32,
            "value": -9.64627735467202,
            "x": -0.977277879876411,
            "y": -1.4543656745987648
           },
           {
            "id": 5,
            "time": 33,
            "value": -7.514123944101575,
            "x": -0.977277879876411,
            "y": -1.4543656745987648
           },
           {
            "id": 5,
            "time": 34,
            "value": -8.401304885946615,
            "x": -0.977277879876411,
            "y": -1.4543656745987648
           },
           {
            "id": 5,
            "time": 35,
            "value": -7.845517921863742,
            "x": -0.977277879876411,
            "y": -1.4543656745987648
           },
           {
            "id": 5,
            "time": 36,
            "value": -8.948424134819112,
            "x": -0.977277879876411,
            "y": -1.4543656745987648
           },
           {
            "id": 5,
            "time": 37,
            "value": -8.799974553439034,
            "x": -0.977277879876411,
            "y": -1.4543656745987648
           },
           {
            "id": 5,
            "time": 38,
            "value": -8.394770473116147,
            "x": -0.977277879876411,
            "y": -1.4543656745987648
           },
           {
            "id": 5,
            "time": 39,
            "value": -8.067807877711688,
            "x": -0.977277879876411,
            "y": -1.4543656745987648
           },
           {
            "id": 5,
            "time": 40,
            "value": -8.260984579261528,
            "x": -0.977277879876411,
            "y": -1.4543656745987648
           },
           {
            "id": 5,
            "time": 41,
            "value": -9.277723227871297,
            "x": -0.977277879876411,
            "y": -1.4543656745987648
           },
           {
            "id": 5,
            "time": 42,
            "value": -10.165503364507233,
            "x": -0.977277879876411,
            "y": -1.4543656745987648
           },
           {
            "id": 5,
            "time": 43,
            "value": -8.342779764379273,
            "x": -0.977277879876411,
            "y": -1.4543656745987648
           },
           {
            "id": 5,
            "time": 44,
            "value": -6.0031549583592145,
            "x": -0.977277879876411,
            "y": -1.4543656745987648
           },
           {
            "id": 5,
            "time": 45,
            "value": -5.744438518129469,
            "x": -0.977277879876411,
            "y": -1.4543656745987648
           },
           {
            "id": 5,
            "time": 46,
            "value": -5.81924350080981,
            "x": -0.977277879876411,
            "y": -1.4543656745987648
           },
           {
            "id": 5,
            "time": 47,
            "value": -5.3861355476584665,
            "x": -0.977277879876411,
            "y": -1.4543656745987648
           },
           {
            "id": 5,
            "time": 48,
            "value": -5.184655600954033,
            "x": -0.977277879876411,
            "y": -1.4543656745987648
           },
           {
            "id": 5,
            "time": 49,
            "value": -5.976770621519184,
            "x": -0.977277879876411,
            "y": -1.4543656745987648
           },
           {
            "id": 6,
            "time": 0,
            "value": -1.2527953600499262,
            "x": 0.9500884175255894,
            "y": 0.04575851730144607
           },
           {
            "id": 6,
            "time": 1,
            "value": -2.882993707015971,
            "x": 0.9500884175255894,
            "y": 0.04575851730144607
           },
           {
            "id": 6,
            "time": 2,
            "value": -1.7042141358563203,
            "x": 0.9500884175255894,
            "y": 0.04575851730144607
           },
           {
            "id": 6,
            "time": 3,
            "value": -2.1178331166160675,
            "x": 0.9500884175255894,
            "y": 0.04575851730144607
           },
           {
            "id": 6,
            "time": 4,
            "value": -2.552986668337705,
            "x": 0.9500884175255894,
            "y": 0.04575851730144607
           },
           {
            "id": 6,
            "time": 5,
            "value": -3.4658088937818636,
            "x": 0.9500884175255894,
            "y": 0.04575851730144607
           },
           {
            "id": 6,
            "time": 6,
            "value": -4.466024241171429,
            "x": 0.9500884175255894,
            "y": 0.04575851730144607
           },
           {
            "id": 6,
            "time": 7,
            "value": -5.570407580599879,
            "x": 0.9500884175255894,
            "y": 0.04575851730144607
           },
           {
            "id": 6,
            "time": 8,
            "value": -5.594733704998815,
            "x": 0.9500884175255894,
            "y": 0.04575851730144607
           },
           {
            "id": 6,
            "time": 9,
            "value": -5.438227167033439,
            "x": 0.9500884175255894,
            "y": 0.04575851730144607
           },
           {
            "id": 6,
            "time": 10,
            "value": -4.285895602250319,
            "x": 0.9500884175255894,
            "y": 0.04575851730144607
           },
           {
            "id": 6,
            "time": 11,
            "value": -3.7620045784161134,
            "x": 0.9500884175255894,
            "y": 0.04575851730144607
           },
           {
            "id": 6,
            "time": 12,
            "value": -4.807257944563068,
            "x": 0.9500884175255894,
            "y": 0.04575851730144607
           },
           {
            "id": 6,
            "time": 13,
            "value": -6.141516415965821,
            "x": 0.9500884175255894,
            "y": 0.04575851730144607
           },
           {
            "id": 6,
            "time": 14,
            "value": -6.299183432129637,
            "x": 0.9500884175255894,
            "y": 0.04575851730144607
           },
           {
            "id": 6,
            "time": 15,
            "value": -6.663876976521323,
            "x": 0.9500884175255894,
            "y": 0.04575851730144607
           },
           {
            "id": 6,
            "time": 16,
            "value": -6.854530470102722,
            "x": 0.9500884175255894,
            "y": 0.04575851730144607
           },
           {
            "id": 6,
            "time": 17,
            "value": -7.840041207786872,
            "x": 0.9500884175255894,
            "y": 0.04575851730144607
           },
           {
            "id": 6,
            "time": 18,
            "value": -7.025521385299006,
            "x": 0.9500884175255894,
            "y": 0.04575851730144607
           },
           {
            "id": 6,
            "time": 19,
            "value": -6.0824752979764884,
            "x": 0.9500884175255894,
            "y": 0.04575851730144607
           },
           {
            "id": 6,
            "time": 20,
            "value": -5.625059691755498,
            "x": 0.9500884175255894,
            "y": 0.04575851730144607
           },
           {
            "id": 6,
            "time": 21,
            "value": -6.585564073388646,
            "x": 0.9500884175255894,
            "y": 0.04575851730144607
           },
           {
            "id": 6,
            "time": 22,
            "value": -5.072235990815441,
            "x": 0.9500884175255894,
            "y": 0.04575851730144607
           },
           {
            "id": 6,
            "time": 23,
            "value": -6.704870517049937,
            "x": 0.9500884175255894,
            "y": 0.04575851730144607
           },
           {
            "id": 6,
            "time": 24,
            "value": -5.76812805351468,
            "x": 0.9500884175255894,
            "y": 0.04575851730144607
           },
           {
            "id": 6,
            "time": 25,
            "value": -4.689930749800442,
            "x": 0.9500884175255894,
            "y": 0.04575851730144607
           },
           {
            "id": 6,
            "time": 26,
            "value": -4.335173056687224,
            "x": 0.9500884175255894,
            "y": 0.04575851730144607
           },
           {
            "id": 6,
            "time": 27,
            "value": -4.552122626623873,
            "x": 0.9500884175255894,
            "y": 0.04575851730144607
           },
           {
            "id": 6,
            "time": 28,
            "value": -4.6626120316898,
            "x": 0.9500884175255894,
            "y": 0.04575851730144607
           },
           {
            "id": 6,
            "time": 29,
            "value": -4.479272832432199,
            "x": 0.9500884175255894,
            "y": 0.04575851730144607
           },
           {
            "id": 6,
            "time": 30,
            "value": -3.4503373398373443,
            "x": 0.9500884175255894,
            "y": 0.04575851730144607
           },
           {
            "id": 6,
            "time": 31,
            "value": -3.4737604448587964,
            "x": 0.9500884175255894,
            "y": 0.04575851730144607
           },
           {
            "id": 6,
            "time": 32,
            "value": -1.356969423375121,
            "x": 0.9500884175255894,
            "y": 0.04575851730144607
           },
           {
            "id": 6,
            "time": 33,
            "value": -0.4205236975440052,
            "x": 0.9500884175255894,
            "y": 0.04575851730144607
           },
           {
            "id": 6,
            "time": 34,
            "value": -1.3533127390504434,
            "x": 0.9500884175255894,
            "y": 0.04575851730144607
           },
           {
            "id": 6,
            "time": 35,
            "value": -1.342963424484144,
            "x": 0.9500884175255894,
            "y": 0.04575851730144607
           },
           {
            "id": 6,
            "time": 36,
            "value": -1.4446606990390156,
            "x": 0.9500884175255894,
            "y": 0.04575851730144607
           },
           {
            "id": 6,
            "time": 37,
            "value": -0.915615460704584,
            "x": 0.9500884175255894,
            "y": 0.04575851730144607
           },
           {
            "id": 6,
            "time": 38,
            "value": -0.4175630560217273,
            "x": 0.9500884175255894,
            "y": 0.04575851730144607
           },
           {
            "id": 6,
            "time": 39,
            "value": -0.08752794151141563,
            "x": 0.9500884175255894,
            "y": 0.04575851730144607
           },
           {
            "id": 6,
            "time": 40,
            "value": 0.668212347383127,
            "x": 0.9500884175255894,
            "y": 0.04575851730144607
           },
           {
            "id": 6,
            "time": 41,
            "value": 0.5534370226123287,
            "x": 0.9500884175255894,
            "y": 0.04575851730144607
           },
           {
            "id": 6,
            "time": 42,
            "value": 1.4898355661647882,
            "x": 0.9500884175255894,
            "y": 0.04575851730144607
           },
           {
            "id": 6,
            "time": 43,
            "value": 0.9682558881714151,
            "x": 0.9500884175255894,
            "y": 0.04575851730144607
           },
           {
            "id": 6,
            "time": 44,
            "value": 0.6918230431555779,
            "x": 0.9500884175255894,
            "y": 0.04575851730144607
           },
           {
            "id": 6,
            "time": 45,
            "value": 0.9674237171396343,
            "x": 0.9500884175255894,
            "y": 0.04575851730144607
           },
           {
            "id": 6,
            "time": 46,
            "value": 0.9796557007784517,
            "x": 0.9500884175255894,
            "y": 0.04575851730144607
           },
           {
            "id": 6,
            "time": 47,
            "value": 0.5737139735899682,
            "x": 0.9500884175255894,
            "y": 0.04575851730144607
           },
           {
            "id": 6,
            "time": 48,
            "value": 1.1144875588903584,
            "x": 0.9500884175255894,
            "y": 0.04575851730144607
           },
           {
            "id": 6,
            "time": 49,
            "value": 0.06896300182089266,
            "x": 0.9500884175255894,
            "y": 0.04575851730144607
           },
           {
            "id": 7,
            "time": 0,
            "value": 0.7774903558319101,
            "x": -0.1513572082976979,
            "y": -0.1871838500258336
           },
           {
            "id": 7,
            "time": 1,
            "value": 1.2402726113576843,
            "x": -0.1513572082976979,
            "y": -0.1871838500258336
           },
           {
            "id": 7,
            "time": 2,
            "value": 1.0603477755453334,
            "x": -0.1513572082976979,
            "y": -0.1871838500258336
           },
           {
            "id": 7,
            "time": 3,
            "value": 0.3128929641045757,
            "x": -0.1513572082976979,
            "y": -0.1871838500258336
           },
           {
            "id": 7,
            "time": 4,
            "value": 2.1621566925839177,
            "x": -0.1513572082976979,
            "y": -0.1871838500258336
           },
           {
            "id": 7,
            "time": 5,
            "value": 3.2791729806797707,
            "x": -0.1513572082976979,
            "y": -0.1871838500258336
           },
           {
            "id": 7,
            "time": 6,
            "value": 1.734401883902159,
            "x": -0.1513572082976979,
            "y": -0.1871838500258336
           },
           {
            "id": 7,
            "time": 7,
            "value": 1.7865669631631336,
            "x": -0.1513572082976979,
            "y": -0.1871838500258336
           },
           {
            "id": 7,
            "time": 8,
            "value": 1.0485360539574449,
            "x": -0.1513572082976979,
            "y": -0.1871838500258336
           },
           {
            "id": 7,
            "time": 9,
            "value": 1.2807170901577207,
            "x": -0.1513572082976979,
            "y": -0.1871838500258336
           },
           {
            "id": 7,
            "time": 10,
            "value": 2.360335682194542,
            "x": -0.1513572082976979,
            "y": -0.1871838500258336
           },
           {
            "id": 7,
            "time": 11,
            "value": 2.448757769239203,
            "x": -0.1513572082976979,
            "y": -0.1871838500258336
           },
           {
            "id": 7,
            "time": 12,
            "value": 3.6599030589219037,
            "x": -0.1513572082976979,
            "y": -0.1871838500258336
           },
           {
            "id": 7,
            "time": 13,
            "value": 2.3131855531243484,
            "x": -0.1513572082976979,
            "y": -0.1871838500258336
           },
           {
            "id": 7,
            "time": 14,
            "value": 4.569909050422558,
            "x": -0.1513572082976979,
            "y": -0.1871838500258336
           },
           {
            "id": 7,
            "time": 15,
            "value": 4.726612905694922,
            "x": -0.1513572082976979,
            "y": -0.1871838500258336
           },
           {
            "id": 7,
            "time": 16,
            "value": 4.331763391661472,
            "x": -0.1513572082976979,
            "y": -0.1871838500258336
           },
           {
            "id": 7,
            "time": 17,
            "value": 2.859928384197885,
            "x": -0.1513572082976979,
            "y": -0.1871838500258336
           },
           {
            "id": 7,
            "time": 18,
            "value": 2.918853973379515,
            "x": -0.1513572082976979,
            "y": -0.1871838500258336
           },
           {
            "id": 7,
            "time": 19,
            "value": 0.1791768061899588,
            "x": -0.1513572082976979,
            "y": -0.1871838500258336
           },
           {
            "id": 7,
            "time": 20,
            "value": -0.7854352075437696,
            "x": -0.1513572082976979,
            "y": -0.1871838500258336
           },
           {
            "id": 7,
            "time": 21,
            "value": -1.5785525702514414,
            "x": -0.1513572082976979,
            "y": -0.1871838500258336
           },
           {
            "id": 7,
            "time": 22,
            "value": -1.0254205060438575,
            "x": -0.1513572082976979,
            "y": -0.1871838500258336
           },
           {
            "id": 7,
            "time": 23,
            "value": -2.5931882303523115,
            "x": -0.1513572082976979,
            "y": -0.1871838500258336
           },
           {
            "id": 7,
            "time": 24,
            "value": -1.1808605243148684,
            "x": -0.1513572082976979,
            "y": -0.1871838500258336
           },
           {
            "id": 7,
            "time": 25,
            "value": -3.740045190658965,
            "x": -0.1513572082976979,
            "y": -0.1871838500258336
           },
           {
            "id": 7,
            "time": 26,
            "value": -3.123158636265686,
            "x": -0.1513572082976979,
            "y": -0.1871838500258336
           },
           {
            "id": 7,
            "time": 27,
            "value": -2.677765385370889,
            "x": -0.1513572082976979,
            "y": -0.1871838500258336
           },
           {
            "id": 7,
            "time": 28,
            "value": -4.3384651972401524,
            "x": -0.1513572082976979,
            "y": -0.1871838500258336
           },
           {
            "id": 7,
            "time": 29,
            "value": -2.667522164451295,
            "x": -0.1513572082976979,
            "y": -0.1871838500258336
           },
           {
            "id": 7,
            "time": 30,
            "value": -2.7398091720113,
            "x": -0.1513572082976979,
            "y": -0.1871838500258336
           },
           {
            "id": 7,
            "time": 31,
            "value": -1.6606144438988109,
            "x": -0.1513572082976979,
            "y": -0.1871838500258336
           },
           {
            "id": 7,
            "time": 32,
            "value": -3.2714928473487443,
            "x": -0.1513572082976979,
            "y": -0.1871838500258336
           },
           {
            "id": 7,
            "time": 33,
            "value": -3.306588024218415,
            "x": -0.1513572082976979,
            "y": -0.1871838500258336
           },
           {
            "id": 7,
            "time": 34,
            "value": -2.06326863976326,
            "x": -0.1513572082976979,
            "y": -0.1871838500258336
           },
           {
            "id": 7,
            "time": 35,
            "value": -1.3432348804216072,
            "x": -0.1513572082976979,
            "y": -0.1871838500258336
           },
           {
            "id": 7,
            "time": 36,
            "value": -1.32395549590853,
            "x": -0.1513572082976979,
            "y": -0.1871838500258336
           },
           {
            "id": 7,
            "time": 37,
            "value": -0.9013268741997044,
            "x": -0.1513572082976979,
            "y": -0.1871838500258336
           },
           {
            "id": 7,
            "time": 38,
            "value": -0.9275191115439548,
            "x": -0.1513572082976979,
            "y": -0.1871838500258336
           },
           {
            "id": 7,
            "time": 39,
            "value": 1.298425220194304,
            "x": -0.1513572082976979,
            "y": -0.1871838500258336
           },
           {
            "id": 7,
            "time": 40,
            "value": 0.7592925834413141,
            "x": -0.1513572082976979,
            "y": -0.1871838500258336
           },
           {
            "id": 7,
            "time": 41,
            "value": 1.0680438252779272,
            "x": -0.1513572082976979,
            "y": -0.1871838500258336
           },
           {
            "id": 7,
            "time": 42,
            "value": 0.5424032321759875,
            "x": -0.1513572082976979,
            "y": -0.1871838500258336
           },
           {
            "id": 7,
            "time": 43,
            "value": -0.6422833582355645,
            "x": -0.1513572082976979,
            "y": -0.1871838500258336
           },
           {
            "id": 7,
            "time": 44,
            "value": -0.9018603400696039,
            "x": -0.1513572082976979,
            "y": -0.1871838500258336
           },
           {
            "id": 7,
            "time": 45,
            "value": 0.5331890467195506,
            "x": -0.1513572082976979,
            "y": -0.1871838500258336
           },
           {
            "id": 7,
            "time": 46,
            "value": 2.1024486612554547,
            "x": -0.1513572082976979,
            "y": -0.1871838500258336
           },
           {
            "id": 7,
            "time": 47,
            "value": 2.8268171661254193,
            "x": -0.1513572082976979,
            "y": -0.1871838500258336
           },
           {
            "id": 7,
            "time": 48,
            "value": 1.0087395357418498,
            "x": -0.1513572082976979,
            "y": -0.1871838500258336
           },
           {
            "id": 7,
            "time": 49,
            "value": -0.07611652371959532,
            "x": -0.1513572082976979,
            "y": -0.1871838500258336
           },
           {
            "id": 8,
            "time": 0,
            "value": -1.6138978475579515,
            "x": -0.10321885179355784,
            "y": 1.5327792143584575
           },
           {
            "id": 8,
            "time": 1,
            "value": -2.5211962119411937,
            "x": -0.10321885179355784,
            "y": 1.5327792143584575
           },
           {
            "id": 8,
            "time": 2,
            "value": -3.5919488334517364,
            "x": -0.10321885179355784,
            "y": 1.5327792143584575
           },
           {
            "id": 8,
            "time": 3,
            "value": -1.6690068069713517,
            "x": -0.10321885179355784,
            "y": 1.5327792143584575
           },
           {
            "id": 8,
            "time": 4,
            "value": -0.9967120499589163,
            "x": -0.10321885179355784,
            "y": 1.5327792143584575
           },
           {
            "id": 8,
            "time": 5,
            "value": -2.3126194604704375,
            "x": -0.10321885179355784,
            "y": 1.5327792143584575
           },
           {
            "id": 8,
            "time": 6,
            "value": -1.1245896681181358,
            "x": -0.10321885179355784,
            "y": 1.5327792143584575
           },
           {
            "id": 8,
            "time": 7,
            "value": -1.864152664509449,
            "x": -0.10321885179355784,
            "y": 1.5327792143584575
           },
           {
            "id": 8,
            "time": 8,
            "value": -1.5842280654662109,
            "x": -0.10321885179355784,
            "y": 1.5327792143584575
           },
           {
            "id": 8,
            "time": 9,
            "value": -2.1815441344315736,
            "x": -0.10321885179355784,
            "y": 1.5327792143584575
           },
           {
            "id": 8,
            "time": 10,
            "value": -2.9949083936357765,
            "x": -0.10321885179355784,
            "y": 1.5327792143584575
           },
           {
            "id": 8,
            "time": 11,
            "value": -3.3057945653342484,
            "x": -0.10321885179355784,
            "y": 1.5327792143584575
           },
           {
            "id": 8,
            "time": 12,
            "value": -2.61597640079946,
            "x": -0.10321885179355784,
            "y": 1.5327792143584575
           },
           {
            "id": 8,
            "time": 13,
            "value": -1.9222032481093276,
            "x": -0.10321885179355784,
            "y": 1.5327792143584575
           },
           {
            "id": 8,
            "time": 14,
            "value": -2.626903523965561,
            "x": -0.10321885179355784,
            "y": 1.5327792143584575
           },
           {
            "id": 8,
            "time": 15,
            "value": -2.0483820262366828,
            "x": -0.10321885179355784,
            "y": 1.5327792143584575
           },
           {
            "id": 8,
            "time": 16,
            "value": -2.316115563130649,
            "x": -0.10321885179355784,
            "y": 1.5327792143584575
           },
           {
            "id": 8,
            "time": 17,
            "value": -0.6679806309230896,
            "x": -0.10321885179355784,
            "y": 1.5327792143584575
           },
           {
            "id": 8,
            "time": 18,
            "value": -0.8530343019324311,
            "x": -0.10321885179355784,
            "y": 1.5327792143584575
           },
           {
            "id": 8,
            "time": 19,
            "value": -1.4223463554026163,
            "x": -0.10321885179355784,
            "y": 1.5327792143584575
           },
           {
            "id": 8,
            "time": 20,
            "value": -2.2049755112301415,
            "x": -0.10321885179355784,
            "y": 1.5327792143584575
           },
           {
            "id": 8,
            "time": 21,
            "value": -4.49359555124467,
            "x": -0.10321885179355784,
            "y": 1.5327792143584575
           },
           {
            "id": 8,
            "time": 22,
            "value": -4.539299511904905,
            "x": -0.10321885179355784,
            "y": 1.5327792143584575
           },
           {
            "id": 8,
            "time": 23,
            "value": -5.718457442542593,
            "x": -0.10321885179355784,
            "y": 1.5327792143584575
           },
           {
            "id": 8,
            "time": 24,
            "value": -8.088044347769195,
            "x": -0.10321885179355784,
            "y": 1.5327792143584575
           },
           {
            "id": 8,
            "time": 25,
            "value": -6.906665746480909,
            "x": -0.10321885179355784,
            "y": 1.5327792143584575
           },
           {
            "id": 8,
            "time": 26,
            "value": -6.898037847563333,
            "x": -0.10321885179355784,
            "y": 1.5327792143584575
           },
           {
            "id": 8,
            "time": 27,
            "value": -7.29042684571297,
            "x": -0.10321885179355784,
            "y": 1.5327792143584575
           },
           {
            "id": 8,
            "time": 28,
            "value": -7.175278972572878,
            "x": -0.10321885179355784,
            "y": 1.5327792143584575
           },
           {
            "id": 8,
            "time": 29,
            "value": -7.231411993021635,
            "x": -0.10321885179355784,
            "y": 1.5327792143584575
           },
           {
            "id": 8,
            "time": 30,
            "value": -7.832069550679424,
            "x": -0.10321885179355784,
            "y": 1.5327792143584575
           },
           {
            "id": 8,
            "time": 31,
            "value": -9.836285266178338,
            "x": -0.10321885179355784,
            "y": 1.5327792143584575
           },
           {
            "id": 8,
            "time": 32,
            "value": -9.87205333803856,
            "x": -0.10321885179355784,
            "y": 1.5327792143584575
           },
           {
            "id": 8,
            "time": 33,
            "value": -8.606975499949794,
            "x": -0.10321885179355784,
            "y": 1.5327792143584575
           },
           {
            "id": 8,
            "time": 34,
            "value": -7.794301457840751,
            "x": -0.10321885179355784,
            "y": 1.5327792143584575
           },
           {
            "id": 8,
            "time": 35,
            "value": -9.618558113778581,
            "x": -0.10321885179355784,
            "y": 1.5327792143584575
           },
           {
            "id": 8,
            "time": 36,
            "value": -7.7689668670989445,
            "x": -0.10321885179355784,
            "y": 1.5327792143584575
           },
           {
            "id": 8,
            "time": 37,
            "value": -9.128747592602759,
            "x": -0.10321885179355784,
            "y": 1.5327792143584575
           },
           {
            "id": 8,
            "time": 38,
            "value": -10.81697762037419,
            "x": -0.10321885179355784,
            "y": 1.5327792143584575
           },
           {
            "id": 8,
            "time": 39,
            "value": -9.445988614083069,
            "x": -0.10321885179355784,
            "y": 1.5327792143584575
           },
           {
            "id": 8,
            "time": 40,
            "value": -10.195678958785965,
            "x": -0.10321885179355784,
            "y": 1.5327792143584575
           },
           {
            "id": 8,
            "time": 41,
            "value": -11.566438941329025,
            "x": -0.10321885179355784,
            "y": 1.5327792143584575
           },
           {
            "id": 8,
            "time": 42,
            "value": -11.295268756691714,
            "x": -0.10321885179355784,
            "y": 1.5327792143584575
           },
           {
            "id": 8,
            "time": 43,
            "value": -10.334575358231055,
            "x": -0.10321885179355784,
            "y": 1.5327792143584575
           },
           {
            "id": 8,
            "time": 44,
            "value": -9.97009410899055,
            "x": -0.10321885179355784,
            "y": 1.5327792143584575
           },
           {
            "id": 8,
            "time": 45,
            "value": -9.462855157880934,
            "x": -0.10321885179355784,
            "y": 1.5327792143584575
           },
           {
            "id": 8,
            "time": 46,
            "value": -8.772426133497886,
            "x": -0.10321885179355784,
            "y": 1.5327792143584575
           },
           {
            "id": 8,
            "time": 47,
            "value": -7.387164586775656,
            "x": -0.10321885179355784,
            "y": 1.5327792143584575
           },
           {
            "id": 8,
            "time": 48,
            "value": -7.4364886569232285,
            "x": -0.10321885179355784,
            "y": 1.5327792143584575
           },
           {
            "id": 8,
            "time": 49,
            "value": -6.319183341386564,
            "x": -0.10321885179355784,
            "y": 1.5327792143584575
           },
           {
            "id": 9,
            "time": 0,
            "value": -0.2127402802139687,
            "x": 0.41059850193837233,
            "y": 1.469358769900285
           },
           {
            "id": 9,
            "time": 1,
            "value": -0.16079488441782974,
            "x": 0.41059850193837233,
            "y": 1.469358769900285
           },
           {
            "id": 9,
            "time": 2,
            "value": 0.8936568425133069,
            "x": 0.41059850193837233,
            "y": 1.469358769900285
           },
           {
            "id": 9,
            "time": 3,
            "value": 2.3741716339477312,
            "x": 0.41059850193837233,
            "y": 1.469358769900285
           },
           {
            "id": 9,
            "time": 4,
            "value": 2.781633470188842,
            "x": 0.41059850193837233,
            "y": 1.469358769900285
           },
           {
            "id": 9,
            "time": 5,
            "value": 2.320048865374133,
            "x": 0.41059850193837233,
            "y": 1.469358769900285
           },
           {
            "id": 9,
            "time": 6,
            "value": 2.6369914772989826,
            "x": 0.41059850193837233,
            "y": 1.469358769900285
           },
           {
            "id": 9,
            "time": 7,
            "value": 4.1800060727057184,
            "x": 0.41059850193837233,
            "y": 1.469358769900285
           },
           {
            "id": 9,
            "time": 8,
            "value": 4.08185568306276,
            "x": 0.41059850193837233,
            "y": 1.469358769900285
           },
           {
            "id": 9,
            "time": 9,
            "value": 3.8439339533267534,
            "x": 0.41059850193837233,
            "y": 1.469358769900285
           },
           {
            "id": 9,
            "time": 10,
            "value": 2.3775096255242394,
            "x": 0.41059850193837233,
            "y": 1.469358769900285
           },
           {
            "id": 9,
            "time": 11,
            "value": 2.474909791793023,
            "x": 0.41059850193837233,
            "y": 1.469358769900285
           },
           {
            "id": 9,
            "time": 12,
            "value": 3.7767560213580214,
            "x": 0.41059850193837233,
            "y": 1.469358769900285
           },
           {
            "id": 9,
            "time": 13,
            "value": 3.6171825832117546,
            "x": 0.41059850193837233,
            "y": 1.469358769900285
           },
           {
            "id": 9,
            "time": 14,
            "value": 4.56044330818125,
            "x": 0.41059850193837233,
            "y": 1.469358769900285
           },
           {
            "id": 9,
            "time": 15,
            "value": 4.910097765174424,
            "x": 0.41059850193837233,
            "y": 1.469358769900285
           },
           {
            "id": 9,
            "time": 16,
            "value": 3.782086433704417,
            "x": 0.41059850193837233,
            "y": 1.469358769900285
           },
           {
            "id": 9,
            "time": 17,
            "value": 3.946314189191751,
            "x": 0.41059850193837233,
            "y": 1.469358769900285
           },
           {
            "id": 9,
            "time": 18,
            "value": 3.138665701575395,
            "x": 0.41059850193837233,
            "y": 1.469358769900285
           },
           {
            "id": 9,
            "time": 19,
            "value": 3.4085700565161563,
            "x": 0.41059850193837233,
            "y": 1.469358769900285
           },
           {
            "id": 9,
            "time": 20,
            "value": 3.2981807574892685,
            "x": 0.41059850193837233,
            "y": 1.469358769900285
           },
           {
            "id": 9,
            "time": 21,
            "value": 3.5496651725108057,
            "x": 0.41059850193837233,
            "y": 1.469358769900285
           },
           {
            "id": 9,
            "time": 22,
            "value": 3.770172828267979,
            "x": 0.41059850193837233,
            "y": 1.469358769900285
           },
           {
            "id": 9,
            "time": 23,
            "value": 5.07160089993274,
            "x": 0.41059850193837233,
            "y": 1.469358769900285
           },
           {
            "id": 9,
            "time": 24,
            "value": 5.935653200430388,
            "x": 0.41059850193837233,
            "y": 1.469358769900285
           },
           {
            "id": 9,
            "time": 25,
            "value": 5.303749442425221,
            "x": 0.41059850193837233,
            "y": 1.469358769900285
           },
           {
            "id": 9,
            "time": 26,
            "value": 5.83075365087988,
            "x": 0.41059850193837233,
            "y": 1.469358769900285
           },
           {
            "id": 9,
            "time": 27,
            "value": 2.7846105960799536,
            "x": 0.41059850193837233,
            "y": 1.469358769900285
           },
           {
            "id": 9,
            "time": 28,
            "value": 2.405463033200031,
            "x": 0.41059850193837233,
            "y": 1.469358769900285
           },
           {
            "id": 9,
            "time": 29,
            "value": 2.404077990464935,
            "x": 0.41059850193837233,
            "y": 1.469358769900285
           },
           {
            "id": 9,
            "time": 30,
            "value": 3.9563211705134957,
            "x": 0.41059850193837233,
            "y": 1.469358769900285
           },
           {
            "id": 9,
            "time": 31,
            "value": 4.333197691364388,
            "x": 0.41059850193837233,
            "y": 1.469358769900285
           },
           {
            "id": 9,
            "time": 32,
            "value": 6.713943042584138,
            "x": 0.41059850193837233,
            "y": 1.469358769900285
           },
           {
            "id": 9,
            "time": 33,
            "value": 6.925440055316017,
            "x": 0.41059850193837233,
            "y": 1.469358769900285
           },
           {
            "id": 9,
            "time": 34,
            "value": 7.5126994347158425,
            "x": 0.41059850193837233,
            "y": 1.469358769900285
           },
           {
            "id": 9,
            "time": 35,
            "value": 7.816303339177844,
            "x": 0.41059850193837233,
            "y": 1.469358769900285
           },
           {
            "id": 9,
            "time": 36,
            "value": 7.6021366829777595,
            "x": 0.41059850193837233,
            "y": 1.469358769900285
           },
           {
            "id": 9,
            "time": 37,
            "value": 7.560735871419792,
            "x": 0.41059850193837233,
            "y": 1.469358769900285
           },
           {
            "id": 9,
            "time": 38,
            "value": 7.4482698888602386,
            "x": 0.41059850193837233,
            "y": 1.469358769900285
           },
           {
            "id": 9,
            "time": 39,
            "value": 6.9384266467217595,
            "x": 0.41059850193837233,
            "y": 1.469358769900285
           },
           {
            "id": 9,
            "time": 40,
            "value": 6.971235394335471,
            "x": 0.41059850193837233,
            "y": 1.469358769900285
           },
           {
            "id": 9,
            "time": 41,
            "value": 7.836888317151324,
            "x": 0.41059850193837233,
            "y": 1.469358769900285
           },
           {
            "id": 9,
            "time": 42,
            "value": 7.035391431756949,
            "x": 0.41059850193837233,
            "y": 1.469358769900285
           },
           {
            "id": 9,
            "time": 43,
            "value": 8.36445427829663,
            "x": 0.41059850193837233,
            "y": 1.469358769900285
           },
           {
            "id": 9,
            "time": 44,
            "value": 9.835776234438969,
            "x": 0.41059850193837233,
            "y": 1.469358769900285
           },
           {
            "id": 9,
            "time": 45,
            "value": 9.719546534051819,
            "x": 0.41059850193837233,
            "y": 1.469358769900285
           },
           {
            "id": 9,
            "time": 46,
            "value": 10.51621864241649,
            "x": 0.41059850193837233,
            "y": 1.469358769900285
           },
           {
            "id": 9,
            "time": 47,
            "value": 10.213120388992417,
            "x": 0.41059850193837233,
            "y": 1.469358769900285
           },
           {
            "id": 9,
            "time": 48,
            "value": 10.452153990239182,
            "x": 0.41059850193837233,
            "y": 1.469358769900285
           },
           {
            "id": 9,
            "time": 49,
            "value": 9.93325378581433,
            "x": 0.41059850193837233,
            "y": 1.469358769900285
           },
           {
            "id": 10,
            "time": 0,
            "value": -0.8954665611936756,
            "x": 0.144043571160878,
            "y": 0.1549474256969163
           },
           {
            "id": 10,
            "time": 1,
            "value": -0.16637599901613875,
            "x": 0.144043571160878,
            "y": 0.1549474256969163
           },
           {
            "id": 10,
            "time": 2,
            "value": -0.5695529459893184,
            "x": 0.144043571160878,
            "y": 0.1549474256969163
           },
           {
            "id": 10,
            "time": 3,
            "value": 1.2980060144372514,
            "x": 0.144043571160878,
            "y": 0.1549474256969163
           },
           {
            "id": 10,
            "time": 4,
            "value": 0.528089939991935,
            "x": 0.144043571160878,
            "y": 0.1549474256969163
           },
           {
            "id": 10,
            "time": 5,
            "value": 0.45984833466730374,
            "x": 0.144043571160878,
            "y": 0.1549474256969163
           },
           {
            "id": 10,
            "time": 6,
            "value": 1.3807071584481228,
            "x": 0.144043571160878,
            "y": 0.1549474256969163
           },
           {
            "id": 10,
            "time": 7,
            "value": 0.08785024872467417,
            "x": 0.144043571160878,
            "y": 0.1549474256969163
           },
           {
            "id": 10,
            "time": 8,
            "value": 0.9980291568172661,
            "x": 0.144043571160878,
            "y": 0.1549474256969163
           },
           {
            "id": 10,
            "time": 9,
            "value": -0.42603175216526545,
            "x": 0.144043571160878,
            "y": 0.1549474256969163
           },
           {
            "id": 10,
            "time": 10,
            "value": 0.09503312428749311,
            "x": 0.144043571160878,
            "y": 0.1549474256969163
           },
           {
            "id": 10,
            "time": 11,
            "value": 0.4940794699276233,
            "x": 0.144043571160878,
            "y": 0.1549474256969163
           },
           {
            "id": 10,
            "time": 12,
            "value": -0.1340080897139556,
            "x": 0.144043571160878,
            "y": 0.1549474256969163
           },
           {
            "id": 10,
            "time": 13,
            "value": -0.2677096493823948,
            "x": 0.144043571160878,
            "y": 0.1549474256969163
           },
           {
            "id": 10,
            "time": 14,
            "value": 0.47947868482223704,
            "x": 0.144043571160878,
            "y": 0.1549474256969163
           },
           {
            "id": 10,
            "time": 15,
            "value": -0.284665239084206,
            "x": 0.144043571160878,
            "y": 0.1549474256969163
           },
           {
            "id": 10,
            "time": 16,
            "value": -0.004223533767910015,
            "x": 0.144043571160878,
            "y": 0.1549474256969163
           },
           {
            "id": 10,
            "time": 17,
            "value": 0.5630667440847594,
            "x": 0.144043571160878,
            "y": 0.1549474256969163
           },
           {
            "id": 10,
            "time": 18,
            "value": -0.8834679554786284,
            "x": 0.144043571160878,
            "y": 0.1549474256969163
           },
           {
            "id": 10,
            "time": 19,
            "value": -1.350313501531391,
            "x": 0.144043571160878,
            "y": 0.1549474256969163
           },
           {
            "id": 10,
            "time": 20,
            "value": -2.4049419655164046,
            "x": 0.144043571160878,
            "y": 0.1549474256969163
           },
           {
            "id": 10,
            "time": 21,
            "value": -4.421348593316164,
            "x": 0.144043571160878,
            "y": 0.1549474256969163
           },
           {
            "id": 10,
            "time": 22,
            "value": -5.451283876625141,
            "x": 0.144043571160878,
            "y": 0.1549474256969163
           },
           {
            "id": 10,
            "time": 23,
            "value": -4.556023603735211,
            "x": 0.144043571160878,
            "y": 0.1549474256969163
           },
           {
            "id": 10,
            "time": 24,
            "value": -6.795627662396948,
            "x": 0.144043571160878,
            "y": 0.1549474256969163
           },
           {
            "id": 10,
            "time": 25,
            "value": -6.631699089944361,
            "x": 0.144043571160878,
            "y": 0.1549474256969163
           },
           {
            "id": 10,
            "time": 26,
            "value": -6.177917177308677,
            "x": 0.144043571160878,
            "y": 0.1549474256969163
           },
           {
            "id": 10,
            "time": 27,
            "value": -5.6346052859211575,
            "x": 0.144043571160878,
            "y": 0.1549474256969163
           },
           {
            "id": 10,
            "time": 28,
            "value": -7.376961483730388,
            "x": 0.144043571160878,
            "y": 0.1549474256969163
           },
           {
            "id": 10,
            "time": 29,
            "value": -8.064260520887052,
            "x": 0.144043571160878,
            "y": 0.1549474256969163
           },
           {
            "id": 10,
            "time": 30,
            "value": -7.777356032883706,
            "x": 0.144043571160878,
            "y": 0.1549474256969163
           },
           {
            "id": 10,
            "time": 31,
            "value": -8.323068006901488,
            "x": 0.144043571160878,
            "y": 0.1549474256969163
           },
           {
            "id": 10,
            "time": 32,
            "value": -7.992491250627115,
            "x": 0.144043571160878,
            "y": 0.1549474256969163
           },
           {
            "id": 10,
            "time": 33,
            "value": -8.697412603134559,
            "x": 0.144043571160878,
            "y": 0.1549474256969163
           },
           {
            "id": 10,
            "time": 34,
            "value": -9.202770920398969,
            "x": 0.144043571160878,
            "y": 0.1549474256969163
           },
           {
            "id": 10,
            "time": 35,
            "value": -8.430076083296587,
            "x": 0.144043571160878,
            "y": 0.1549474256969163
           },
           {
            "id": 10,
            "time": 36,
            "value": -8.92909272129077,
            "x": 0.144043571160878,
            "y": 0.1549474256969163
           },
           {
            "id": 10,
            "time": 37,
            "value": -9.686963581715936,
            "x": 0.144043571160878,
            "y": 0.1549474256969163
           },
           {
            "id": 10,
            "time": 38,
            "value": -10.219453500925004,
            "x": 0.144043571160878,
            "y": 0.1549474256969163
           },
           {
            "id": 10,
            "time": 39,
            "value": -9.894583885128819,
            "x": 0.144043571160878,
            "y": 0.1549474256969163
           },
           {
            "id": 10,
            "time": 40,
            "value": -12.477380518098764,
            "x": 0.144043571160878,
            "y": 0.1549474256969163
           },
           {
            "id": 10,
            "time": 41,
            "value": -11.396004483640574,
            "x": 0.144043571160878,
            "y": 0.1549474256969163
           },
           {
            "id": 10,
            "time": 42,
            "value": -12.043185915488335,
            "x": 0.144043571160878,
            "y": 0.1549474256969163
           },
           {
            "id": 10,
            "time": 43,
            "value": -12.860679013104562,
            "x": 0.144043571160878,
            "y": 0.1549474256969163
           },
           {
            "id": 10,
            "time": 44,
            "value": -11.26790825868708,
            "x": 0.144043571160878,
            "y": 0.1549474256969163
           },
           {
            "id": 10,
            "time": 45,
            "value": -12.215396853593958,
            "x": 0.144043571160878,
            "y": 0.1549474256969163
           },
           {
            "id": 10,
            "time": 46,
            "value": -12.873322946130754,
            "x": 0.144043571160878,
            "y": 0.1549474256969163
           },
           {
            "id": 10,
            "time": 47,
            "value": -12.432290038857603,
            "x": 0.144043571160878,
            "y": 0.1549474256969163
           },
           {
            "id": 10,
            "time": 48,
            "value": -13.432620387811308,
            "x": 0.144043571160878,
            "y": 0.1549474256969163
           },
           {
            "id": 10,
            "time": 49,
            "value": -14.18632485399191,
            "x": 0.144043571160878,
            "y": 0.1549474256969163
           },
           {
            "id": 11,
            "time": 0,
            "value": 0.386902497859262,
            "x": 1.454273506962975,
            "y": 0.37816251960217356
           },
           {
            "id": 11,
            "time": 1,
            "value": 0.5158854086166726,
            "x": 1.454273506962975,
            "y": 0.37816251960217356
           },
           {
            "id": 11,
            "time": 2,
            "value": 1.7383304789991,
            "x": 1.454273506962975,
            "y": 0.37816251960217356
           },
           {
            "id": 11,
            "time": 3,
            "value": 2.6443751372744853,
            "x": 1.454273506962975,
            "y": 0.37816251960217356
           },
           {
            "id": 11,
            "time": 4,
            "value": 3.1836243285663026,
            "x": 1.454273506962975,
            "y": 0.37816251960217356
           },
           {
            "id": 11,
            "time": 5,
            "value": 4.896967050215669,
            "x": 1.454273506962975,
            "y": 0.37816251960217356
           },
           {
            "id": 11,
            "time": 6,
            "value": 5.21569470315869,
            "x": 1.454273506962975,
            "y": 0.37816251960217356
           },
           {
            "id": 11,
            "time": 7,
            "value": 5.4827455725078735,
            "x": 1.454273506962975,
            "y": 0.37816251960217356
           },
           {
            "id": 11,
            "time": 8,
            "value": 5.799963787699175,
            "x": 1.454273506962975,
            "y": 0.37816251960217356
           },
           {
            "id": 11,
            "time": 9,
            "value": 5.3066439043369815,
            "x": 1.454273506962975,
            "y": 0.37816251960217356
           },
           {
            "id": 11,
            "time": 10,
            "value": 4.730855934523915,
            "x": 1.454273506962975,
            "y": 0.37816251960217356
           },
           {
            "id": 11,
            "time": 11,
            "value": 1.958263178097265,
            "x": 1.454273506962975,
            "y": 0.37816251960217356
           },
           {
            "id": 11,
            "time": 12,
            "value": 1.4772360596364773,
            "x": 1.454273506962975,
            "y": 0.37816251960217356
           },
           {
            "id": 11,
            "time": 13,
            "value": 2.55497986561274,
            "x": 1.454273506962975,
            "y": 0.37816251960217356
           },
           {
            "id": 11,
            "time": 14,
            "value": 1.366034910409004,
            "x": 1.454273506962975,
            "y": 0.37816251960217356
           },
           {
            "id": 11,
            "time": 15,
            "value": -0.07175656339257452,
            "x": 1.454273506962975,
            "y": 0.37816251960217356
           },
           {
            "id": 11,
            "time": 16,
            "value": -1.0648801743221552,
            "x": 1.454273506962975,
            "y": 0.37816251960217356
           },
           {
            "id": 11,
            "time": 17,
            "value": -1.2875552748373096,
            "x": 1.454273506962975,
            "y": 0.37816251960217356
           },
           {
            "id": 11,
            "time": 18,
            "value": -0.48725732549728207,
            "x": 1.454273506962975,
            "y": 0.37816251960217356
           },
           {
            "id": 11,
            "time": 19,
            "value": -1.9041634386235415,
            "x": 1.454273506962975,
            "y": 0.37816251960217356
           },
           {
            "id": 11,
            "time": 20,
            "value": -1.0839156012988602,
            "x": 1.454273506962975,
            "y": 0.37816251960217356
           },
           {
            "id": 11,
            "time": 21,
            "value": -1.6233702346733616,
            "x": 1.454273506962975,
            "y": 0.37816251960217356
           },
           {
            "id": 11,
            "time": 22,
            "value": -1.9733135992624664,
            "x": 1.454273506962975,
            "y": 0.37816251960217356
           },
           {
            "id": 11,
            "time": 23,
            "value": -0.5983495328694766,
            "x": 1.454273506962975,
            "y": 0.37816251960217356
           },
           {
            "id": 11,
            "time": 24,
            "value": -0.19685047777918907,
            "x": 1.454273506962975,
            "y": 0.37816251960217356
           },
           {
            "id": 11,
            "time": 25,
            "value": -0.10052912185799225,
            "x": 1.454273506962975,
            "y": 0.37816251960217356
           },
           {
            "id": 11,
            "time": 26,
            "value": -1.9302695328625237,
            "x": 1.454273506962975,
            "y": 0.37816251960217356
           },
           {
            "id": 11,
            "time": 27,
            "value": -1.4912265751904812,
            "x": 1.454273506962975,
            "y": 0.37816251960217356
           },
           {
            "id": 11,
            "time": 28,
            "value": -2.794469329302797,
            "x": 1.454273506962975,
            "y": 0.37816251960217356
           },
           {
            "id": 11,
            "time": 29,
            "value": -2.911943875720908,
            "x": 1.454273506962975,
            "y": 0.37816251960217356
           },
           {
            "id": 11,
            "time": 30,
            "value": -5.232538151511649,
            "x": 1.454273506962975,
            "y": 0.37816251960217356
           },
           {
            "id": 11,
            "time": 31,
            "value": -7.117123996491097,
            "x": 1.454273506962975,
            "y": 0.37816251960217356
           },
           {
            "id": 11,
            "time": 32,
            "value": -6.167877522932861,
            "x": 1.454273506962975,
            "y": 0.37816251960217356
           },
           {
            "id": 11,
            "time": 33,
            "value": -5.4879026786877585,
            "x": 1.454273506962975,
            "y": 0.37816251960217356
           },
           {
            "id": 11,
            "time": 34,
            "value": -6.30369422068173,
            "x": 1.454273506962975,
            "y": 0.37816251960217356
           },
           {
            "id": 11,
            "time": 35,
            "value": -7.965292511796294,
            "x": 1.454273506962975,
            "y": 0.37816251960217356
           },
           {
            "id": 11,
            "time": 36,
            "value": -7.943941287952746,
            "x": 1.454273506962975,
            "y": 0.37816251960217356
           },
           {
            "id": 11,
            "time": 37,
            "value": -7.9940253822375675,
            "x": 1.454273506962975,
            "y": 0.37816251960217356
           },
           {
            "id": 11,
            "time": 38,
            "value": -7.34897010877769,
            "x": 1.454273506962975,
            "y": 0.37816251960217356
           },
           {
            "id": 11,
            "time": 39,
            "value": -6.351852127985931,
            "x": 1.454273506962975,
            "y": 0.37816251960217356
           },
           {
            "id": 11,
            "time": 40,
            "value": -7.50580249163794,
            "x": 1.454273506962975,
            "y": 0.37816251960217356
           },
           {
            "id": 11,
            "time": 41,
            "value": -8.137178480087329,
            "x": 1.454273506962975,
            "y": 0.37816251960217356
           },
           {
            "id": 11,
            "time": 42,
            "value": -7.6649313299994795,
            "x": 1.454273506962975,
            "y": 0.37816251960217356
           },
           {
            "id": 11,
            "time": 43,
            "value": -9.06627862303879,
            "x": 1.454273506962975,
            "y": 0.37816251960217356
           },
           {
            "id": 11,
            "time": 44,
            "value": -9.324851254715561,
            "x": 1.454273506962975,
            "y": 0.37816251960217356
           },
           {
            "id": 11,
            "time": 45,
            "value": -9.080407798753928,
            "x": 1.454273506962975,
            "y": 0.37816251960217356
           },
           {
            "id": 11,
            "time": 46,
            "value": -8.111525160190878,
            "x": 1.454273506962975,
            "y": 0.37816251960217356
           },
           {
            "id": 11,
            "time": 47,
            "value": -7.932732294457698,
            "x": 1.454273506962975,
            "y": 0.37816251960217356
           },
           {
            "id": 11,
            "time": 48,
            "value": -6.258746587446987,
            "x": 1.454273506962975,
            "y": 0.37816251960217356
           },
           {
            "id": 11,
            "time": 49,
            "value": -6.12105676154364,
            "x": 1.454273506962975,
            "y": 0.37816251960217356
           },
           {
            "id": 12,
            "time": 0,
            "value": -0.510805137568873,
            "x": 0.7610377251469934,
            "y": -0.8877857476301128
           },
           {
            "id": 12,
            "time": 1,
            "value": 0.6285955469744277,
            "x": 0.7610377251469934,
            "y": -0.8877857476301128
           },
           {
            "id": 12,
            "time": 2,
            "value": 0.836870525051288,
            "x": 0.7610377251469934,
            "y": -0.8877857476301128
           },
           {
            "id": 12,
            "time": 3,
            "value": -0.024355160003414533,
            "x": 0.7610377251469934,
            "y": -0.8877857476301128
           },
           {
            "id": 12,
            "time": 4,
            "value": -0.6986878206607906,
            "x": 0.7610377251469934,
            "y": -0.8877857476301128
           },
           {
            "id": 12,
            "time": 5,
            "value": -1.4434426427092304,
            "x": 0.7610377251469934,
            "y": -0.8877857476301128
           },
           {
            "id": 12,
            "time": 6,
            "value": -0.5866120308065392,
            "x": 0.7610377251469934,
            "y": -0.8877857476301128
           },
           {
            "id": 12,
            "time": 7,
            "value": -0.6258948490340348,
            "x": 0.7610377251469934,
            "y": -0.8877857476301128
           },
           {
            "id": 12,
            "time": 8,
            "value": 0.16043311307494135,
            "x": 0.7610377251469934,
            "y": -0.8877857476301128
           },
           {
            "id": 12,
            "time": 9,
            "value": -0.3824283629417764,
            "x": 0.7610377251469934,
            "y": -0.8877857476301128
           },
           {
            "id": 12,
            "time": 10,
            "value": -0.24047519962099673,
            "x": 0.7610377251469934,
            "y": -0.8877857476301128
           },
           {
            "id": 12,
            "time": 11,
            "value": 1.7154371086296973,
            "x": 0.7610377251469934,
            "y": -0.8877857476301128
           },
           {
            "id": 12,
            "time": 12,
            "value": 4.019353806313639,
            "x": 0.7610377251469934,
            "y": -0.8877857476301128
           },
           {
            "id": 12,
            "time": 13,
            "value": 2.892527997556895,
            "x": 0.7610377251469934,
            "y": -0.8877857476301128
           },
           {
            "id": 12,
            "time": 14,
            "value": 3.6657809749594947,
            "x": 0.7610377251469934,
            "y": -0.8877857476301128
           },
           {
            "id": 12,
            "time": 15,
            "value": 5.030312823061966,
            "x": 0.7610377251469934,
            "y": -0.8877857476301128
           },
           {
            "id": 12,
            "time": 16,
            "value": 5.871944087135602,
            "x": 0.7610377251469934,
            "y": -0.8877857476301128
           },
           {
            "id": 12,
            "time": 17,
            "value": 5.518512338378403,
            "x": 0.7610377251469934,
            "y": -0.8877857476301128
           },
           {
            "id": 12,
            "time": 18,
            "value": 5.2093978936066945,
            "x": 0.7610377251469934,
            "y": -0.8877857476301128
           },
           {
            "id": 12,
            "time": 19,
            "value": 6.07836138050349,
            "x": 0.7610377251469934,
            "y": -0.8877857476301128
           },
           {
            "id": 12,
            "time": 20,
            "value": 6.541491709822097,
            "x": 0.7610377251469934,
            "y": -0.8877857476301128
           },
           {
            "id": 12,
            "time": 21,
            "value": 6.26582117526154,
            "x": 0.7610377251469934,
            "y": -0.8877857476301128
           },
           {
            "id": 12,
            "time": 22,
            "value": 7.366105513481914,
            "x": 0.7610377251469934,
            "y": -0.8877857476301128
           },
           {
            "id": 12,
            "time": 23,
            "value": 6.033893858887412,
            "x": 0.7610377251469934,
            "y": -0.8877857476301128
           },
           {
            "id": 12,
            "time": 24,
            "value": 7.258764423081072,
            "x": 0.7610377251469934,
            "y": -0.8877857476301128
           },
           {
            "id": 12,
            "time": 25,
            "value": 8.201232542301465,
            "x": 0.7610377251469934,
            "y": -0.8877857476301128
           },
           {
            "id": 12,
            "time": 26,
            "value": 8.238238264211615,
            "x": 0.7610377251469934,
            "y": -0.8877857476301128
           },
           {
            "id": 12,
            "time": 27,
            "value": 8.018697235880403,
            "x": 0.7610377251469934,
            "y": -0.8877857476301128
           },
           {
            "id": 12,
            "time": 28,
            "value": 8.62381731996257,
            "x": 0.7610377251469934,
            "y": -0.8877857476301128
           },
           {
            "id": 12,
            "time": 29,
            "value": 9.0899837459966,
            "x": 0.7610377251469934,
            "y": -0.8877857476301128
           },
           {
            "id": 12,
            "time": 30,
            "value": 9.407144372289288,
            "x": 0.7610377251469934,
            "y": -0.8877857476301128
           },
           {
            "id": 12,
            "time": 31,
            "value": 7.461441289125329,
            "x": 0.7610377251469934,
            "y": -0.8877857476301128
           },
           {
            "id": 12,
            "time": 32,
            "value": 5.959044719743616,
            "x": 0.7610377251469934,
            "y": -0.8877857476301128
           },
           {
            "id": 12,
            "time": 33,
            "value": 5.262718065882534,
            "x": 0.7610377251469934,
            "y": -0.8877857476301128
           },
           {
            "id": 12,
            "time": 34,
            "value": 4.755200464225177,
            "x": 0.7610377251469934,
            "y": -0.8877857476301128
           },
           {
            "id": 12,
            "time": 35,
            "value": 5.203395748648489,
            "x": 0.7610377251469934,
            "y": -0.8877857476301128
           },
           {
            "id": 12,
            "time": 36,
            "value": 4.284282303778546,
            "x": 0.7610377251469934,
            "y": -0.8877857476301128
           },
           {
            "id": 12,
            "time": 37,
            "value": 3.386881376876715,
            "x": 0.7610377251469934,
            "y": -0.8877857476301128
           },
           {
            "id": 12,
            "time": 38,
            "value": 4.398723809870904,
            "x": 0.7610377251469934,
            "y": -0.8877857476301128
           },
           {
            "id": 12,
            "time": 39,
            "value": 4.429325634209422,
            "x": 0.7610377251469934,
            "y": -0.8877857476301128
           },
           {
            "id": 12,
            "time": 40,
            "value": 4.081363778288576,
            "x": 0.7610377251469934,
            "y": -0.8877857476301128
           },
           {
            "id": 12,
            "time": 41,
            "value": 3.840025986835472,
            "x": 0.7610377251469934,
            "y": -0.8877857476301128
           },
           {
            "id": 12,
            "time": 42,
            "value": 4.770434482946588,
            "x": 0.7610377251469934,
            "y": -0.8877857476301128
           },
           {
            "id": 12,
            "time": 43,
            "value": 5.800872750362193,
            "x": 0.7610377251469934,
            "y": -0.8877857476301128
           },
           {
            "id": 12,
            "time": 44,
            "value": 6.109203996321538,
            "x": 0.7610377251469934,
            "y": -0.8877857476301128
           },
           {
            "id": 12,
            "time": 45,
            "value": 7.510548827613498,
            "x": 0.7610377251469934,
            "y": -0.8877857476301128
           },
           {
            "id": 12,
            "time": 46,
            "value": 7.736130491182301,
            "x": 0.7610377251469934,
            "y": -0.8877857476301128
           },
           {
            "id": 12,
            "time": 47,
            "value": 6.936708091639205,
            "x": 0.7610377251469934,
            "y": -0.8877857476301128
           },
           {
            "id": 12,
            "time": 48,
            "value": 7.098267358877373,
            "x": 0.7610377251469934,
            "y": -0.8877857476301128
           },
           {
            "id": 12,
            "time": 49,
            "value": 6.891322648320082,
            "x": 0.7610377251469934,
            "y": -0.8877857476301128
           },
           {
            "id": 13,
            "time": 0,
            "value": -1.180632184122412,
            "x": 0.12167501649282841,
            "y": -1.980796468223927
           },
           {
            "id": 13,
            "time": 1,
            "value": -2.415458004476065,
            "x": 0.12167501649282841,
            "y": -1.980796468223927
           },
           {
            "id": 13,
            "time": 2,
            "value": -1.4388189679923522,
            "x": 0.12167501649282841,
            "y": -1.980796468223927
           },
           {
            "id": 13,
            "time": 3,
            "value": 0.4712459851066815,
            "x": 0.12167501649282841,
            "y": -1.980796468223927
           },
           {
            "id": 13,
            "time": 4,
            "value": 0.5030765433810327,
            "x": 0.12167501649282841,
            "y": -1.980796468223927
           },
           {
            "id": 13,
            "time": 5,
            "value": -0.3233619952779817,
            "x": 0.12167501649282841,
            "y": -1.980796468223927
           },
           {
            "id": 13,
            "time": 6,
            "value": -0.9743875885781286,
            "x": 0.12167501649282841,
            "y": -1.980796468223927
           },
           {
            "id": 13,
            "time": 7,
            "value": -2.142481086319326,
            "x": 0.12167501649282841,
            "y": -1.980796468223927
           },
           {
            "id": 13,
            "time": 8,
            "value": -2.608900183055269,
            "x": 0.12167501649282841,
            "y": -1.980796468223927
           },
           {
            "id": 13,
            "time": 9,
            "value": -2.1928501367938433,
            "x": 0.12167501649282841,
            "y": -1.980796468223927
           },
           {
            "id": 13,
            "time": 10,
            "value": -2.5121785539389387,
            "x": 0.12167501649282841,
            "y": -1.980796468223927
           },
           {
            "id": 13,
            "time": 11,
            "value": -2.1220852312510123,
            "x": 0.12167501649282841,
            "y": -1.980796468223927
           },
           {
            "id": 13,
            "time": 12,
            "value": -3.1821010539725596,
            "x": 0.12167501649282841,
            "y": -1.980796468223927
           },
           {
            "id": 13,
            "time": 13,
            "value": -3.9127788068373843,
            "x": 0.12167501649282841,
            "y": -1.980796468223927
           },
           {
            "id": 13,
            "time": 14,
            "value": -5.096659447030702,
            "x": 0.12167501649282841,
            "y": -1.980796468223927
           },
           {
            "id": 13,
            "time": 15,
            "value": -5.78610863158064,
            "x": 0.12167501649282841,
            "y": -1.980796468223927
           },
           {
            "id": 13,
            "time": 16,
            "value": -6.035567211741589,
            "x": 0.12167501649282841,
            "y": -1.980796468223927
           },
           {
            "id": 13,
            "time": 17,
            "value": -7.652041400392622,
            "x": 0.12167501649282841,
            "y": -1.980796468223927
           },
           {
            "id": 13,
            "time": 18,
            "value": -7.8855080619363145,
            "x": 0.12167501649282841,
            "y": -1.980796468223927
           },
           {
            "id": 13,
            "time": 19,
            "value": -7.608636156090187,
            "x": 0.12167501649282841,
            "y": -1.980796468223927
           },
           {
            "id": 13,
            "time": 20,
            "value": -7.3295403916977335,
            "x": 0.12167501649282841,
            "y": -1.980796468223927
           },
           {
            "id": 13,
            "time": 21,
            "value": -8.039268357544621,
            "x": 0.12167501649282841,
            "y": -1.980796468223927
           },
           {
            "id": 13,
            "time": 22,
            "value": -6.7412463852184,
            "x": 0.12167501649282841,
            "y": -1.980796468223927
           },
           {
            "id": 13,
            "time": 23,
            "value": -8.70987107500442,
            "x": 0.12167501649282841,
            "y": -1.980796468223927
           },
           {
            "id": 13,
            "time": 24,
            "value": -8.645014968660844,
            "x": 0.12167501649282841,
            "y": -1.980796468223927
           },
           {
            "id": 13,
            "time": 25,
            "value": -8.912609714896192,
            "x": 0.12167501649282841,
            "y": -1.980796468223927
           },
           {
            "id": 13,
            "time": 26,
            "value": -8.144707307163488,
            "x": 0.12167501649282841,
            "y": -1.980796468223927
           },
           {
            "id": 13,
            "time": 27,
            "value": -9.228743927835422,
            "x": 0.12167501649282841,
            "y": -1.980796468223927
           },
           {
            "id": 13,
            "time": 28,
            "value": -8.333187942284098,
            "x": 0.12167501649282841,
            "y": -1.980796468223927
           },
           {
            "id": 13,
            "time": 29,
            "value": -8.703430382988442,
            "x": 0.12167501649282841,
            "y": -1.980796468223927
           },
           {
            "id": 13,
            "time": 30,
            "value": -8.183389768417573,
            "x": 0.12167501649282841,
            "y": -1.980796468223927
           },
           {
            "id": 13,
            "time": 31,
            "value": -9.096173262552865,
            "x": 0.12167501649282841,
            "y": -1.980796468223927
           },
           {
            "id": 13,
            "time": 32,
            "value": -10.87384021728657,
            "x": 0.12167501649282841,
            "y": -1.980796468223927
           },
           {
            "id": 13,
            "time": 33,
            "value": -11.164237318090438,
            "x": 0.12167501649282841,
            "y": -1.980796468223927
           },
           {
            "id": 13,
            "time": 34,
            "value": -12.216117420642112,
            "x": 0.12167501649282841,
            "y": -1.980796468223927
           },
           {
            "id": 13,
            "time": 35,
            "value": -10.51993584781395,
            "x": 0.12167501649282841,
            "y": -1.980796468223927
           },
           {
            "id": 13,
            "time": 36,
            "value": -10.327181998748735,
            "x": 0.12167501649282841,
            "y": -1.980796468223927
           },
           {
            "id": 13,
            "time": 37,
            "value": -9.014711631607739,
            "x": 0.12167501649282841,
            "y": -1.980796468223927
           },
           {
            "id": 13,
            "time": 38,
            "value": -9.672662676368907,
            "x": 0.12167501649282841,
            "y": -1.980796468223927
           },
           {
            "id": 13,
            "time": 39,
            "value": -9.742304254815842,
            "x": 0.12167501649282841,
            "y": -1.980796468223927
           },
           {
            "id": 13,
            "time": 40,
            "value": -11.095693112963556,
            "x": 0.12167501649282841,
            "y": -1.980796468223927
           },
           {
            "id": 13,
            "time": 41,
            "value": -11.97388345577363,
            "x": 0.12167501649282841,
            "y": -1.980796468223927
           },
           {
            "id": 13,
            "time": 42,
            "value": -12.14919985810065,
            "x": 0.12167501649282841,
            "y": -1.980796468223927
           },
           {
            "id": 13,
            "time": 43,
            "value": -14.196523471158612,
            "x": 0.12167501649282841,
            "y": -1.980796468223927
           },
           {
            "id": 13,
            "time": 44,
            "value": -15.574606938222688,
            "x": 0.12167501649282841,
            "y": -1.980796468223927
           },
           {
            "id": 13,
            "time": 45,
            "value": -15.98498873188056,
            "x": 0.12167501649282841,
            "y": -1.980796468223927
           },
           {
            "id": 13,
            "time": 46,
            "value": -14.595843416202632,
            "x": 0.12167501649282841,
            "y": -1.980796468223927
           },
           {
            "id": 13,
            "time": 47,
            "value": -14.355055906460693,
            "x": 0.12167501649282841,
            "y": -1.980796468223927
           },
           {
            "id": 13,
            "time": 48,
            "value": -12.791651161431764,
            "x": 0.12167501649282841,
            "y": -1.980796468223927
           },
           {
            "id": 13,
            "time": 49,
            "value": -13.469746622218011,
            "x": 0.12167501649282841,
            "y": -1.980796468223927
           },
           {
            "id": 14,
            "time": 0,
            "value": -0.028182228338654868,
            "x": 0.44386323274542566,
            "y": -0.3479121493261526
           },
           {
            "id": 14,
            "time": 1,
            "value": 0.37415941283889415,
            "x": 0.44386323274542566,
            "y": -0.3479121493261526
           },
           {
            "id": 14,
            "time": 2,
            "value": 0.7305258100132961,
            "x": 0.44386323274542566,
            "y": -0.3479121493261526
           },
           {
            "id": 14,
            "time": 3,
            "value": 0.4625224390619157,
            "x": 0.44386323274542566,
            "y": -0.3479121493261526
           },
           {
            "id": 14,
            "time": 4,
            "value": -0.17332363931696526,
            "x": 0.44386323274542566,
            "y": -0.3479121493261526
           },
           {
            "id": 14,
            "time": 5,
            "value": -0.27177616374239755,
            "x": 0.44386323274542566,
            "y": -0.3479121493261526
           },
           {
            "id": 14,
            "time": 6,
            "value": -1.3060190055268621,
            "x": 0.44386323274542566,
            "y": -0.3479121493261526
           },
           {
            "id": 14,
            "time": 7,
            "value": -0.7827423449951084,
            "x": 0.44386323274542566,
            "y": -0.3479121493261526
           },
           {
            "id": 14,
            "time": 8,
            "value": -1.7271886009133588,
            "x": 0.44386323274542566,
            "y": -0.3479121493261526
           },
           {
            "id": 14,
            "time": 9,
            "value": -2.8833710327352717,
            "x": 0.44386323274542566,
            "y": -0.3479121493261526
           },
           {
            "id": 14,
            "time": 10,
            "value": -2.1918322816650853,
            "x": 0.44386323274542566,
            "y": -0.3479121493261526
           },
           {
            "id": 14,
            "time": 11,
            "value": -2.8442408640521055,
            "x": 0.44386323274542566,
            "y": -0.3479121493261526
           },
           {
            "id": 14,
            "time": 12,
            "value": -2.9801905647304263,
            "x": 0.44386323274542566,
            "y": -0.3479121493261526
           },
           {
            "id": 14,
            "time": 13,
            "value": -3.365070373911702,
            "x": 0.44386323274542566,
            "y": -0.3479121493261526
           },
           {
            "id": 14,
            "time": 14,
            "value": -6.024242611908443,
            "x": 0.44386323274542566,
            "y": -0.3479121493261526
           },
           {
            "id": 14,
            "time": 15,
            "value": -6.676536211843462,
            "x": 0.44386323274542566,
            "y": -0.3479121493261526
           },
           {
            "id": 14,
            "time": 16,
            "value": -6.627041230193371,
            "x": 0.44386323274542566,
            "y": -0.3479121493261526
           },
           {
            "id": 14,
            "time": 17,
            "value": -6.918878592941234,
            "x": 0.44386323274542566,
            "y": -0.3479121493261526
           },
           {
            "id": 14,
            "time": 18,
            "value": -5.186157406022101,
            "x": 0.44386323274542566,
            "y": -0.3479121493261526
           },
           {
            "id": 14,
            "time": 19,
            "value": -6.157261976466586,
            "x": 0.44386323274542566,
            "y": -0.3479121493261526
           },
           {
            "id": 14,
            "time": 20,
            "value": -5.818357851250641,
            "x": 0.44386323274542566,
            "y": -0.3479121493261526
           },
           {
            "id": 14,
            "time": 21,
            "value": -4.07948517379613,
            "x": 0.44386323274542566,
            "y": -0.3479121493261526
           },
           {
            "id": 14,
            "time": 22,
            "value": -1.3832611212325507,
            "x": 0.44386323274542566,
            "y": -0.3479121493261526
           },
           {
            "id": 14,
            "time": 23,
            "value": -2.0433174413666335,
            "x": 0.44386323274542566,
            "y": -0.3479121493261526
           },
           {
            "id": 14,
            "time": 24,
            "value": -3.3230066145708728,
            "x": 0.44386323274542566,
            "y": -0.3479121493261526
           },
           {
            "id": 14,
            "time": 25,
            "value": -4.001032396135323,
            "x": 0.44386323274542566,
            "y": -0.3479121493261526
           },
           {
            "id": 14,
            "time": 26,
            "value": -3.411152575400804,
            "x": 0.44386323274542566,
            "y": -0.3479121493261526
           },
           {
            "id": 14,
            "time": 27,
            "value": -3.059372464719446,
            "x": 0.44386323274542566,
            "y": -0.3479121493261526
           },
           {
            "id": 14,
            "time": 28,
            "value": -3.1912811044994127,
            "x": 0.44386323274542566,
            "y": -0.3479121493261526
           },
           {
            "id": 14,
            "time": 29,
            "value": -3.645085145551414,
            "x": 0.44386323274542566,
            "y": -0.3479121493261526
           },
           {
            "id": 14,
            "time": 30,
            "value": -3.41947649108031,
            "x": 0.44386323274542566,
            "y": -0.3479121493261526
           },
           {
            "id": 14,
            "time": 31,
            "value": -3.199966935287265,
            "x": 0.44386323274542566,
            "y": -0.3479121493261526
           },
           {
            "id": 14,
            "time": 32,
            "value": -3.7326697272668192,
            "x": 0.44386323274542566,
            "y": -0.3479121493261526
           },
           {
            "id": 14,
            "time": 33,
            "value": -2.404887031308836,
            "x": 0.44386323274542566,
            "y": -0.3479121493261526
           },
           {
            "id": 14,
            "time": 34,
            "value": 0.09231336027817116,
            "x": 0.44386323274542566,
            "y": -0.3479121493261526
           },
           {
            "id": 14,
            "time": 35,
            "value": 0.07745565692346845,
            "x": 0.44386323274542566,
            "y": -0.3479121493261526
           },
           {
            "id": 14,
            "time": 36,
            "value": -0.2875995596227892,
            "x": 0.44386323274542566,
            "y": -0.3479121493261526
           },
           {
            "id": 14,
            "time": 37,
            "value": -1.1465719480671315,
            "x": 0.44386323274542566,
            "y": -0.3479121493261526
           },
           {
            "id": 14,
            "time": 38,
            "value": -0.6781867137900799,
            "x": 0.44386323274542566,
            "y": -0.3479121493261526
           },
           {
            "id": 14,
            "time": 39,
            "value": -0.6266117710201908,
            "x": 0.44386323274542566,
            "y": -0.3479121493261526
           },
           {
            "id": 14,
            "time": 40,
            "value": -1.6592548729123204,
            "x": 0.44386323274542566,
            "y": -0.3479121493261526
           },
           {
            "id": 14,
            "time": 41,
            "value": -0.9598743893245033,
            "x": 0.44386323274542566,
            "y": -0.3479121493261526
           },
           {
            "id": 14,
            "time": 42,
            "value": -2.38179426096494,
            "x": 0.44386323274542566,
            "y": -0.3479121493261526
           },
           {
            "id": 14,
            "time": 43,
            "value": -3.608415920361556,
            "x": 0.44386323274542566,
            "y": -0.3479121493261526
           },
           {
            "id": 14,
            "time": 44,
            "value": -3.9203920282777687,
            "x": 0.44386323274542566,
            "y": -0.3479121493261526
           },
           {
            "id": 14,
            "time": 45,
            "value": -3.3914484098611863,
            "x": 0.44386323274542566,
            "y": -0.3479121493261526
           },
           {
            "id": 14,
            "time": 46,
            "value": -1.3773882549427183,
            "x": 0.44386323274542566,
            "y": -0.3479121493261526
           },
           {
            "id": 14,
            "time": 47,
            "value": -1.0882677496639062,
            "x": 0.44386323274542566,
            "y": -0.3479121493261526
           },
           {
            "id": 14,
            "time": 48,
            "value": -1.8787907714969834,
            "x": 0.44386323274542566,
            "y": -0.3479121493261526
           },
           {
            "id": 14,
            "time": 49,
            "value": -1.1247993045185036,
            "x": 0.44386323274542566,
            "y": -0.3479121493261526
           },
           {
            "id": 15,
            "time": 0,
            "value": 0.42833187053041766,
            "x": 0.33367432737426683,
            "y": 0.15634896910398005
           },
           {
            "id": 15,
            "time": 1,
            "value": -0.25647822040989554,
            "x": 0.33367432737426683,
            "y": 0.15634896910398005
           },
           {
            "id": 15,
            "time": 2,
            "value": 0.4500949477820526,
            "x": 0.33367432737426683,
            "y": 0.15634896910398005
           },
           {
            "id": 15,
            "time": 3,
            "value": 1.2525513435784479,
            "x": 0.33367432737426683,
            "y": 0.15634896910398005
           },
           {
            "id": 15,
            "time": 4,
            "value": 1.9289846385249476,
            "x": 0.33367432737426683,
            "y": 0.15634896910398005
           },
           {
            "id": 15,
            "time": 5,
            "value": 1.2655063521628402,
            "x": 0.33367432737426683,
            "y": 0.15634896910398005
           },
           {
            "id": 15,
            "time": 6,
            "value": 1.9471008704444672,
            "x": 0.33367432737426683,
            "y": 0.15634896910398005
           },
           {
            "id": 15,
            "time": 7,
            "value": 1.7755545392222192,
            "x": 0.33367432737426683,
            "y": 0.15634896910398005
           },
           {
            "id": 15,
            "time": 8,
            "value": 1.3655048460196708,
            "x": 0.33367432737426683,
            "y": 0.15634896910398005
           },
           {
            "id": 15,
            "time": 9,
            "value": 2.146702947729664,
            "x": 0.33367432737426683,
            "y": 0.15634896910398005
           },
           {
            "id": 15,
            "time": 10,
            "value": 2.84145209138567,
            "x": 0.33367432737426683,
            "y": 0.15634896910398005
           },
           {
            "id": 15,
            "time": 11,
            "value": 2.450498716198069,
            "x": 0.33367432737426683,
            "y": 0.15634896910398005
           },
           {
            "id": 15,
            "time": 12,
            "value": 3.587390078800764,
            "x": 0.33367432737426683,
            "y": 0.15634896910398005
           },
           {
            "id": 15,
            "time": 13,
            "value": 3.681741668117838,
            "x": 0.33367432737426683,
            "y": 0.15634896910398005
           },
           {
            "id": 15,
            "time": 14,
            "value": 4.288061192477219,
            "x": 0.33367432737426683,
            "y": 0.15634896910398005
           },
           {
            "id": 15,
            "time": 15,
            "value": 3.766871880176108,
            "x": 0.33367432737426683,
            "y": 0.15634896910398005
           },
           {
            "id": 15,
            "time": 16,
            "value": 4.260708656457064,
            "x": 0.33367432737426683,
            "y": 0.15634896910398005
           },
           {
            "id": 15,
            "time": 17,
            "value": 3.4992164446454406,
            "x": 0.33367432737426683,
            "y": 0.15634896910398005
           },
           {
            "id": 15,
            "time": 18,
            "value": 4.183717551504631,
            "x": 0.33367432737426683,
            "y": 0.15634896910398005
           },
           {
            "id": 15,
            "time": 19,
            "value": 4.4985347560204545,
            "x": 0.33367432737426683,
            "y": 0.15634896910398005
           },
           {
            "id": 15,
            "time": 20,
            "value": 6.5195783175052515,
            "x": 0.33367432737426683,
            "y": 0.15634896910398005
           },
           {
            "id": 15,
            "time": 21,
            "value": 7.51397270882075,
            "x": 0.33367432737426683,
            "y": 0.15634896910398005
           },
           {
            "id": 15,
            "time": 22,
            "value": 7.440048042540336,
            "x": 0.33367432737426683,
            "y": 0.15634896910398005
           },
           {
            "id": 15,
            "time": 23,
            "value": 7.615866995836364,
            "x": 0.33367432737426683,
            "y": 0.15634896910398005
           },
           {
            "id": 15,
            "time": 24,
            "value": 7.030435791558592,
            "x": 0.33367432737426683,
            "y": 0.15634896910398005
           },
           {
            "id": 15,
            "time": 25,
            "value": 8.32828158220969,
            "x": 0.33367432737426683,
            "y": 0.15634896910398005
           },
           {
            "id": 15,
            "time": 26,
            "value": 7.964422772238901,
            "x": 0.33367432737426683,
            "y": 0.15634896910398005
           },
           {
            "id": 15,
            "time": 27,
            "value": 8.343658305774488,
            "x": 0.33367432737426683,
            "y": 0.15634896910398005
           },
           {
            "id": 15,
            "time": 28,
            "value": 8.748420117814986,
            "x": 0.33367432737426683,
            "y": 0.15634896910398005
           },
           {
            "id": 15,
            "time": 29,
            "value": 9.151684657978233,
            "x": 0.33367432737426683,
            "y": 0.15634896910398005
           },
           {
            "id": 15,
            "time": 30,
            "value": 9.601396758210226,
            "x": 0.33367432737426683,
            "y": 0.15634896910398005
           },
           {
            "id": 15,
            "time": 31,
            "value": 9.994459692190318,
            "x": 0.33367432737426683,
            "y": 0.15634896910398005
           },
           {
            "id": 15,
            "time": 32,
            "value": 11.085209426624818,
            "x": 0.33367432737426683,
            "y": 0.15634896910398005
           },
           {
            "id": 15,
            "time": 33,
            "value": 10.983927940407419,
            "x": 0.33367432737426683,
            "y": 0.15634896910398005
           },
           {
            "id": 15,
            "time": 34,
            "value": 8.738606292036017,
            "x": 0.33367432737426683,
            "y": 0.15634896910398005
           },
           {
            "id": 15,
            "time": 35,
            "value": 9.56001222906083,
            "x": 0.33367432737426683,
            "y": 0.15634896910398005
           },
           {
            "id": 15,
            "time": 36,
            "value": 7.7686846810196455,
            "x": 0.33367432737426683,
            "y": 0.15634896910398005
           },
           {
            "id": 15,
            "time": 37,
            "value": 6.869742524554109,
            "x": 0.33367432737426683,
            "y": 0.15634896910398005
           },
           {
            "id": 15,
            "time": 38,
            "value": 8.605621522239822,
            "x": 0.33367432737426683,
            "y": 0.15634896910398005
           },
           {
            "id": 15,
            "time": 39,
            "value": 9.47289815104825,
            "x": 0.33367432737426683,
            "y": 0.15634896910398005
           },
           {
            "id": 15,
            "time": 40,
            "value": 9.036149813590242,
            "x": 0.33367432737426683,
            "y": 0.15634896910398005
           },
           {
            "id": 15,
            "time": 41,
            "value": 7.974927526144333,
            "x": 0.33367432737426683,
            "y": 0.15634896910398005
           },
           {
            "id": 15,
            "time": 42,
            "value": 9.972883605894337,
            "x": 0.33367432737426683,
            "y": 0.15634896910398005
           },
           {
            "id": 15,
            "time": 43,
            "value": 10.940329755944571,
            "x": 0.33367432737426683,
            "y": 0.15634896910398005
           },
           {
            "id": 15,
            "time": 44,
            "value": 10.100039360465265,
            "x": 0.33367432737426683,
            "y": 0.15634896910398005
           },
           {
            "id": 15,
            "time": 45,
            "value": 10.34618714915011,
            "x": 0.33367432737426683,
            "y": 0.15634896910398005
           },
           {
            "id": 15,
            "time": 46,
            "value": 10.039421373123105,
            "x": 0.33367432737426683,
            "y": 0.15634896910398005
           },
           {
            "id": 15,
            "time": 47,
            "value": 10.45229219356928,
            "x": 0.33367432737426683,
            "y": 0.15634896910398005
           },
           {
            "id": 15,
            "time": 48,
            "value": 9.544992072043952,
            "x": 0.33367432737426683,
            "y": 0.15634896910398005
           },
           {
            "id": 15,
            "time": 49,
            "value": 10.610307564141946,
            "x": 0.33367432737426683,
            "y": 0.15634896910398005
           },
           {
            "id": 16,
            "time": 0,
            "value": 0.06651722238316789,
            "x": 1.4940790731576061,
            "y": 1.2302906807277207
           },
           {
            "id": 16,
            "time": 1,
            "value": -0.8042799267987139,
            "x": 1.4940790731576061,
            "y": 1.2302906807277207
           },
           {
            "id": 16,
            "time": 2,
            "value": -0.7937799060778934,
            "x": 1.4940790731576061,
            "y": 1.2302906807277207
           },
           {
            "id": 16,
            "time": 3,
            "value": 0.1534720616958546,
            "x": 1.4940790731576061,
            "y": 1.2302906807277207
           },
           {
            "id": 16,
            "time": 4,
            "value": 0.7300628783107955,
            "x": 1.4940790731576061,
            "y": 1.2302906807277207
           },
           {
            "id": 16,
            "time": 5,
            "value": 1.8566988004173024,
            "x": 1.4940790731576061,
            "y": 1.2302906807277207
           },
           {
            "id": 16,
            "time": 6,
            "value": 1.0532891362434613,
            "x": 1.4940790731576061,
            "y": 1.2302906807277207
           },
           {
            "id": 16,
            "time": 7,
            "value": 1.8250796874571287,
            "x": 1.4940790731576061,
            "y": 1.2302906807277207
           },
           {
            "id": 16,
            "time": 8,
            "value": 1.8080592735956882,
            "x": 1.4940790731576061,
            "y": 1.2302906807277207
           },
           {
            "id": 16,
            "time": 9,
            "value": 3.3025438180870568,
            "x": 1.4940790731576061,
            "y": 1.2302906807277207
           },
           {
            "id": 16,
            "time": 10,
            "value": 2.5769464396234723,
            "x": 1.4940790731576061,
            "y": 1.2302906807277207
           },
           {
            "id": 16,
            "time": 11,
            "value": 3.070688216972661,
            "x": 1.4940790731576061,
            "y": 1.2302906807277207
           },
           {
            "id": 16,
            "time": 12,
            "value": 3.1684131846875165,
            "x": 1.4940790731576061,
            "y": 1.2302906807277207
           },
           {
            "id": 16,
            "time": 13,
            "value": 3.1262417333969377,
            "x": 1.4940790731576061,
            "y": 1.2302906807277207
           },
           {
            "id": 16,
            "time": 14,
            "value": 1.3703511499592183,
            "x": 1.4940790731576061,
            "y": 1.2302906807277207
           },
           {
            "id": 16,
            "time": 15,
            "value": -0.4727184001974303,
            "x": 1.4940790731576061,
            "y": 1.2302906807277207
           },
           {
            "id": 16,
            "time": 16,
            "value": 0.1705960648654976,
            "x": 1.4940790731576061,
            "y": 1.2302906807277207
           },
           {
            "id": 16,
            "time": 17,
            "value": 1.028519989157834,
            "x": 1.4940790731576061,
            "y": 1.2302906807277207
           },
           {
            "id": 16,
            "time": 18,
            "value": 1.3993449904389361,
            "x": 1.4940790731576061,
            "y": 1.2302906807277207
           },
           {
            "id": 16,
            "time": 19,
            "value": 2.220930702488732,
            "x": 1.4940790731576061,
            "y": 1.2302906807277207
           },
           {
            "id": 16,
            "time": 20,
            "value": 1.7520665145219365,
            "x": 1.4940790731576061,
            "y": 1.2302906807277207
           },
           {
            "id": 16,
            "time": 21,
            "value": 3.071203390823512,
            "x": 1.4940790731576061,
            "y": 1.2302906807277207
           },
           {
            "id": 16,
            "time": 22,
            "value": 2.412650424018508,
            "x": 1.4940790731576061,
            "y": 1.2302906807277207
           },
           {
            "id": 16,
            "time": 23,
            "value": 2.9113406989283357,
            "x": 1.4940790731576061,
            "y": 1.2302906807277207
           },
           {
            "id": 16,
            "time": 24,
            "value": 2.649695253217435,
            "x": 1.4940790731576061,
            "y": 1.2302906807277207
           },
           {
            "id": 16,
            "time": 25,
            "value": 0.2855214360762548,
            "x": 1.4940790731576061,
            "y": 1.2302906807277207
           },
           {
            "id": 16,
            "time": 26,
            "value": -0.520105071463113,
            "x": 1.4940790731576061,
            "y": 1.2302906807277207
           },
           {
            "id": 16,
            "time": 27,
            "value": -0.9901379541639879,
            "x": 1.4940790731576061,
            "y": 1.2302906807277207
           },
           {
            "id": 16,
            "time": 28,
            "value": -0.7662943908510772,
            "x": 1.4940790731576061,
            "y": 1.2302906807277207
           },
           {
            "id": 16,
            "time": 29,
            "value": -1.6842991606701228,
            "x": 1.4940790731576061,
            "y": 1.2302906807277207
           },
           {
            "id": 16,
            "time": 30,
            "value": -1.7515747695931045,
            "x": 1.4940790731576061,
            "y": 1.2302906807277207
           },
           {
            "id": 16,
            "time": 31,
            "value": -2.69055634227089,
            "x": 1.4940790731576061,
            "y": 1.2302906807277207
           },
           {
            "id": 16,
            "time": 32,
            "value": -3.0368057899182,
            "x": 1.4940790731576061,
            "y": 1.2302906807277207
           },
           {
            "id": 16,
            "time": 33,
            "value": -3.839947177259828,
            "x": 1.4940790731576061,
            "y": 1.2302906807277207
           },
           {
            "id": 16,
            "time": 34,
            "value": -3.275938642186019,
            "x": 1.4940790731576061,
            "y": 1.2302906807277207
           },
           {
            "id": 16,
            "time": 35,
            "value": -2.605368191875109,
            "x": 1.4940790731576061,
            "y": 1.2302906807277207
           },
           {
            "id": 16,
            "time": 36,
            "value": -2.66395474300897,
            "x": 1.4940790731576061,
            "y": 1.2302906807277207
           },
           {
            "id": 16,
            "time": 37,
            "value": -2.5893683364654163,
            "x": 1.4940790731576061,
            "y": 1.2302906807277207
           },
           {
            "id": 16,
            "time": 38,
            "value": -3.2570810570359754,
            "x": 1.4940790731576061,
            "y": 1.2302906807277207
           },
           {
            "id": 16,
            "time": 39,
            "value": -4.105401579841208,
            "x": 1.4940790731576061,
            "y": 1.2302906807277207
           },
           {
            "id": 16,
            "time": 40,
            "value": -5.7483668733718165,
            "x": 1.4940790731576061,
            "y": 1.2302906807277207
           },
           {
            "id": 16,
            "time": 41,
            "value": -5.970843883614736,
            "x": 1.4940790731576061,
            "y": 1.2302906807277207
           },
           {
            "id": 16,
            "time": 42,
            "value": -6.827393191848946,
            "x": 1.4940790731576061,
            "y": 1.2302906807277207
           },
           {
            "id": 16,
            "time": 43,
            "value": -6.882745739871336,
            "x": 1.4940790731576061,
            "y": 1.2302906807277207
           },
           {
            "id": 16,
            "time": 44,
            "value": -7.88957749217032,
            "x": 1.4940790731576061,
            "y": 1.2302906807277207
           },
           {
            "id": 16,
            "time": 45,
            "value": -7.026057833789005,
            "x": 1.4940790731576061,
            "y": 1.2302906807277207
           },
           {
            "id": 16,
            "time": 46,
            "value": -7.432360964234067,
            "x": 1.4940790731576061,
            "y": 1.2302906807277207
           },
           {
            "id": 16,
            "time": 47,
            "value": -7.630759861054113,
            "x": 1.4940790731576061,
            "y": 1.2302906807277207
           },
           {
            "id": 16,
            "time": 48,
            "value": -7.406507640088431,
            "x": 1.4940790731576061,
            "y": 1.2302906807277207
           },
           {
            "id": 16,
            "time": 49,
            "value": -6.421190131148563,
            "x": 1.4940790731576061,
            "y": 1.2302906807277207
           },
           {
            "id": 17,
            "time": 0,
            "value": 0.3024718977397814,
            "x": -0.20515826376580087,
            "y": 1.2023798487844113
           },
           {
            "id": 17,
            "time": 1,
            "value": -0.27637776702463407,
            "x": -0.20515826376580087,
            "y": 1.2023798487844113
           },
           {
            "id": 17,
            "time": 2,
            "value": 1.509492726881201,
            "x": -0.20515826376580087,
            "y": 1.2023798487844113
           },
           {
            "id": 17,
            "time": 3,
            "value": 1.3544826337903668,
            "x": -0.20515826376580087,
            "y": 1.2023798487844113
           },
           {
            "id": 17,
            "time": 4,
            "value": 1.1461838782123719,
            "x": -0.20515826376580087,
            "y": 1.2023798487844113
           },
           {
            "id": 17,
            "time": 5,
            "value": 0.06625236984894856,
            "x": -0.20515826376580087,
            "y": 1.2023798487844113
           },
           {
            "id": 17,
            "time": 6,
            "value": -0.623297407901252,
            "x": -0.20515826376580087,
            "y": 1.2023798487844113
           },
           {
            "id": 17,
            "time": 7,
            "value": 0.20020674606247946,
            "x": -0.20515826376580087,
            "y": 1.2023798487844113
           },
           {
            "id": 17,
            "time": 8,
            "value": 0.5793584816175612,
            "x": -0.20515826376580087,
            "y": 1.2023798487844113
           },
           {
            "id": 17,
            "time": 9,
            "value": -1.4906265433959713,
            "x": -0.20515826376580087,
            "y": 1.2023798487844113
           },
           {
            "id": 17,
            "time": 10,
            "value": -2.8739904987910267,
            "x": -0.20515826376580087,
            "y": 1.2023798487844113
           },
           {
            "id": 17,
            "time": 11,
            "value": -2.9900944378253933,
            "x": -0.20515826376580087,
            "y": 1.2023798487844113
           },
           {
            "id": 17,
            "time": 12,
            "value": -2.4071407580721,
            "x": -0.20515826376580087,
            "y": 1.2023798487844113
           },
           {
            "id": 17,
            "time": 13,
            "value": -2.6940279504620075,
            "x": -0.20515826376580087,
            "y": 1.2023798487844113
           },
           {
            "id": 17,
            "time": 14,
            "value": -2.2430934886560925,
            "x": -0.20515826376580087,
            "y": 1.2023798487844113
           },
           {
            "id": 17,
            "time": 15,
            "value": -2.721067492696579,
            "x": -0.20515826376580087,
            "y": 1.2023798487844113
           },
           {
            "id": 17,
            "time": 16,
            "value": -4.291690901330032,
            "x": -0.20515826376580087,
            "y": 1.2023798487844113
           },
           {
            "id": 17,
            "time": 17,
            "value": -3.1505890346724588,
            "x": -0.20515826376580087,
            "y": 1.2023798487844113
           },
           {
            "id": 17,
            "time": 18,
            "value": -3.008527229485223,
            "x": -0.20515826376580087,
            "y": 1.2023798487844113
           },
           {
            "id": 17,
            "time": 19,
            "value": -3.0032345831858622,
            "x": -0.20515826376580087,
            "y": 1.2023798487844113
           },
           {
            "id": 17,
            "time": 20,
            "value": -5.2046758686864205,
            "x": -0.20515826376580087,
            "y": 1.2023798487844113
           },
           {
            "id": 17,
            "time": 21,
            "value": -6.087094687236339,
            "x": -0.20515826376580087,
            "y": 1.2023798487844113
           },
           {
            "id": 17,
            "time": 22,
            "value": -6.601328653176328,
            "x": -0.20515826376580087,
            "y": 1.2023798487844113
           },
           {
            "id": 17,
            "time": 23,
            "value": -5.553356497208275,
            "x": -0.20515826376580087,
            "y": 1.2023798487844113
           },
           {
            "id": 17,
            "time": 24,
            "value": -5.735601280998218,
            "x": -0.20515826376580087,
            "y": 1.2023798487844113
           },
           {
            "id": 17,
            "time": 25,
            "value": -5.7152670992929755,
            "x": -0.20515826376580087,
            "y": 1.2023798487844113
           },
           {
            "id": 17,
            "time": 26,
            "value": -6.8335790236146075,
            "x": -0.20515826376580087,
            "y": 1.2023798487844113
           },
           {
            "id": 17,
            "time": 27,
            "value": -7.050310494190146,
            "x": -0.20515826376580087,
            "y": 1.2023798487844113
           },
           {
            "id": 17,
            "time": 28,
            "value": -6.720687512062408,
            "x": -0.20515826376580087,
            "y": 1.2023798487844113
           },
           {
            "id": 17,
            "time": 29,
            "value": -6.468190884985536,
            "x": -0.20515826376580087,
            "y": 1.2023798487844113
           },
           {
            "id": 17,
            "time": 30,
            "value": -7.786586754630271,
            "x": -0.20515826376580087,
            "y": 1.2023798487844113
           },
           {
            "id": 17,
            "time": 31,
            "value": -6.7695657632170265,
            "x": -0.20515826376580087,
            "y": 1.2023798487844113
           },
           {
            "id": 17,
            "time": 32,
            "value": -7.564202084288525,
            "x": -0.20515826376580087,
            "y": 1.2023798487844113
           },
           {
            "id": 17,
            "time": 33,
            "value": -8.028539775724017,
            "x": -0.20515826376580087,
            "y": 1.2023798487844113
           },
           {
            "id": 17,
            "time": 34,
            "value": -9.313092073716543,
            "x": -0.20515826376580087,
            "y": 1.2023798487844113
           },
           {
            "id": 17,
            "time": 35,
            "value": -10.02059777122712,
            "x": -0.20515826376580087,
            "y": 1.2023798487844113
           },
           {
            "id": 17,
            "time": 36,
            "value": -10.33814086515732,
            "x": -0.20515826376580087,
            "y": 1.2023798487844113
           },
           {
            "id": 17,
            "time": 37,
            "value": -11.415239934561313,
            "x": -0.20515826376580087,
            "y": 1.2023798487844113
           },
           {
            "id": 17,
            "time": 38,
            "value": -9.733318194488175,
            "x": -0.20515826376580087,
            "y": 1.2023798487844113
           },
           {
            "id": 17,
            "time": 39,
            "value": -10.058987663308349,
            "x": -0.20515826376580087,
            "y": 1.2023798487844113
           },
           {
            "id": 17,
            "time": 40,
            "value": -10.465059459568181,
            "x": -0.20515826376580087,
            "y": 1.2023798487844113
           },
           {
            "id": 17,
            "time": 41,
            "value": -11.323979367375852,
            "x": -0.20515826376580087,
            "y": 1.2023798487844113
           },
           {
            "id": 17,
            "time": 42,
            "value": -12.865566767047639,
            "x": -0.20515826376580087,
            "y": 1.2023798487844113
           },
           {
            "id": 17,
            "time": 43,
            "value": -13.129504115640326,
            "x": -0.20515826376580087,
            "y": 1.2023798487844113
           },
           {
            "id": 17,
            "time": 44,
            "value": -11.447927399372999,
            "x": -0.20515826376580087,
            "y": 1.2023798487844113
           },
           {
            "id": 17,
            "time": 45,
            "value": -12.252681140010868,
            "x": -0.20515826376580087,
            "y": 1.2023798487844113
           },
           {
            "id": 17,
            "time": 46,
            "value": -13.116726131113237,
            "x": -0.20515826376580087,
            "y": 1.2023798487844113
           },
           {
            "id": 17,
            "time": 47,
            "value": -13.022533830803091,
            "x": -0.20515826376580087,
            "y": 1.2023798487844113
           },
           {
            "id": 17,
            "time": 48,
            "value": -14.701222193631748,
            "x": -0.20515826376580087,
            "y": 1.2023798487844113
           },
           {
            "id": 17,
            "time": 49,
            "value": -13.93430252397055,
            "x": -0.20515826376580087,
            "y": 1.2023798487844113
           },
           {
            "id": 18,
            "time": 0,
            "value": -0.6343220936809636,
            "x": 0.31306770165090136,
            "y": -0.3873268174079523
           },
           {
            "id": 18,
            "time": 1,
            "value": -0.9458746258083363,
            "x": 0.31306770165090136,
            "y": -0.3873268174079523
           },
           {
            "id": 18,
            "time": 2,
            "value": -0.8189625331047163,
            "x": 0.31306770165090136,
            "y": -0.3873268174079523
           },
           {
            "id": 18,
            "time": 3,
            "value": -0.20488316275863605,
            "x": 0.31306770165090136,
            "y": -0.3873268174079523
           },
           {
            "id": 18,
            "time": 4,
            "value": 0.19112354990300923,
            "x": 0.31306770165090136,
            "y": -0.3873268174079523
           },
           {
            "id": 18,
            "time": 5,
            "value": -0.9563451025080931,
            "x": 0.31306770165090136,
            "y": -0.3873268174079523
           },
           {
            "id": 18,
            "time": 6,
            "value": -1.4118776060254363,
            "x": 0.31306770165090136,
            "y": -0.3873268174079523
           },
           {
            "id": 18,
            "time": 7,
            "value": 0.7513583432552535,
            "x": 0.31306770165090136,
            "y": -0.3873268174079523
           },
           {
            "id": 18,
            "time": 8,
            "value": 3.0106672939461054,
            "x": 0.31306770165090136,
            "y": -0.3873268174079523
           },
           {
            "id": 18,
            "time": 9,
            "value": 3.4369260247242064,
            "x": 0.31306770165090136,
            "y": -0.3873268174079523
           },
           {
            "id": 18,
            "time": 10,
            "value": 1.8539876273891245,
            "x": 0.31306770165090136,
            "y": -0.3873268174079523
           },
           {
            "id": 18,
            "time": 11,
            "value": -0.17669684039236988,
            "x": 0.31306770165090136,
            "y": -0.3873268174079523
           },
           {
            "id": 18,
            "time": 12,
            "value": -0.5761458696552451,
            "x": 0.31306770165090136,
            "y": -0.3873268174079523
           },
           {
            "id": 18,
            "time": 13,
            "value": -0.6377722717508925,
            "x": 0.31306770165090136,
            "y": -0.3873268174079523
           },
           {
            "id": 18,
            "time": 14,
            "value": -1.321783169488109,
            "x": 0.31306770165090136,
            "y": -0.3873268174079523
           },
           {
            "id": 18,
            "time": 15,
            "value": -1.8014389834960567,
            "x": 0.31306770165090136,
            "y": -0.3873268174079523
           },
           {
            "id": 18,
            "time": 16,
            "value": -2.0083426596600282,
            "x": 0.31306770165090136,
            "y": -0.3873268174079523
           },
           {
            "id": 18,
            "time": 17,
            "value": -0.5417639440858506,
            "x": 0.31306770165090136,
            "y": -0.3873268174079523
           },
           {
            "id": 18,
            "time": 18,
            "value": 0.9782309166799221,
            "x": 0.31306770165090136,
            "y": -0.3873268174079523
           },
           {
            "id": 18,
            "time": 19,
            "value": 1.778795720110919,
            "x": 0.31306770165090136,
            "y": -0.3873268174079523
           },
           {
            "id": 18,
            "time": 20,
            "value": 1.9780959170073842,
            "x": 0.31306770165090136,
            "y": -0.3873268174079523
           },
           {
            "id": 18,
            "time": 21,
            "value": 3.106689981521953,
            "x": 0.31306770165090136,
            "y": -0.3873268174079523
           },
           {
            "id": 18,
            "time": 22,
            "value": 2.0886481062345883,
            "x": 0.31306770165090136,
            "y": -0.3873268174079523
           },
           {
            "id": 18,
            "time": 23,
            "value": 2.372927777041803,
            "x": 0.31306770165090136,
            "y": -0.3873268174079523
           },
           {
            "id": 18,
            "time": 24,
            "value": 2.170030936275136,
            "x": 0.31306770165090136,
            "y": -0.3873268174079523
           },
           {
            "id": 18,
            "time": 25,
            "value": 0.8221055136460158,
            "x": 0.31306770165090136,
            "y": -0.3873268174079523
           },
           {
            "id": 18,
            "time": 26,
            "value": 0.6910515021046035,
            "x": 0.31306770165090136,
            "y": -0.3873268174079523
           },
           {
            "id": 18,
            "time": 27,
            "value": -0.23910500041971772,
            "x": 0.31306770165090136,
            "y": -0.3873268174079523
           },
           {
            "id": 18,
            "time": 28,
            "value": 1.0468790066605753,
            "x": 0.31306770165090136,
            "y": -0.3873268174079523
           },
           {
            "id": 18,
            "time": 29,
            "value": 1.867200803921997,
            "x": 0.31306770165090136,
            "y": -0.3873268174079523
           },
           {
            "id": 18,
            "time": 30,
            "value": 1.4964968007015436,
            "x": 0.31306770165090136,
            "y": -0.3873268174079523
           },
           {
            "id": 18,
            "time": 31,
            "value": 2.9194802972176497,
            "x": 0.31306770165090136,
            "y": -0.3873268174079523
           },
           {
            "id": 18,
            "time": 32,
            "value": 3.117447587162617,
            "x": 0.31306770165090136,
            "y": -0.3873268174079523
           },
           {
            "id": 18,
            "time": 33,
            "value": 4.13923817275129,
            "x": 0.31306770165090136,
            "y": -0.3873268174079523
           },
           {
            "id": 18,
            "time": 34,
            "value": 4.034894681256597,
            "x": 0.31306770165090136,
            "y": -0.3873268174079523
           },
           {
            "id": 18,
            "time": 35,
            "value": 4.074661415843092,
            "x": 0.31306770165090136,
            "y": -0.3873268174079523
           },
           {
            "id": 18,
            "time": 36,
            "value": 2.442238113775109,
            "x": 0.31306770165090136,
            "y": -0.3873268174079523
           },
           {
            "id": 18,
            "time": 37,
            "value": 2.0175748113422434,
            "x": 0.31306770165090136,
            "y": -0.3873268174079523
           },
           {
            "id": 18,
            "time": 38,
            "value": 1.1649889641715965,
            "x": 0.31306770165090136,
            "y": -0.3873268174079523
           },
           {
            "id": 18,
            "time": 39,
            "value": 1.6354221090180783,
            "x": 0.31306770165090136,
            "y": -0.3873268174079523
           },
           {
            "id": 18,
            "time": 40,
            "value": 1.100151944485234,
            "x": 0.31306770165090136,
            "y": -0.3873268174079523
           },
           {
            "id": 18,
            "time": 41,
            "value": 1.1511062214965233,
            "x": 0.31306770165090136,
            "y": -0.3873268174079523
           },
           {
            "id": 18,
            "time": 42,
            "value": 3.7455308092646753,
            "x": 0.31306770165090136,
            "y": -0.3873268174079523
           },
           {
            "id": 18,
            "time": 43,
            "value": 4.098347415759053,
            "x": 0.31306770165090136,
            "y": -0.3873268174079523
           },
           {
            "id": 18,
            "time": 44,
            "value": 3.3060607539529085,
            "x": 0.31306770165090136,
            "y": -0.3873268174079523
           },
           {
            "id": 18,
            "time": 45,
            "value": 5.65270778447947,
            "x": 0.31306770165090136,
            "y": -0.3873268174079523
           },
           {
            "id": 18,
            "time": 46,
            "value": 5.509128272763149,
            "x": 0.31306770165090136,
            "y": -0.3873268174079523
           },
           {
            "id": 18,
            "time": 47,
            "value": 4.361517327920014,
            "x": 0.31306770165090136,
            "y": -0.3873268174079523
           },
           {
            "id": 18,
            "time": 48,
            "value": 4.576482918546107,
            "x": 0.31306770165090136,
            "y": -0.3873268174079523
           },
           {
            "id": 18,
            "time": 49,
            "value": 4.979108449676143,
            "x": 0.31306770165090136,
            "y": -0.3873268174079523
           },
           {
            "id": 19,
            "time": 0,
            "value": -0.3627411659871381,
            "x": -0.8540957393017248,
            "y": -0.30230275057533557
           },
           {
            "id": 19,
            "time": 1,
            "value": -0.3065758237573927,
            "x": -0.8540957393017248,
            "y": -0.30230275057533557
           },
           {
            "id": 19,
            "time": 2,
            "value": 0.09541353968730898,
            "x": -0.8540957393017248,
            "y": -0.30230275057533557
           },
           {
            "id": 19,
            "time": 3,
            "value": 1.0176202112538357,
            "x": -0.8540957393017248,
            "y": -0.30230275057533557
           },
           {
            "id": 19,
            "time": 4,
            "value": -0.07544129747667006,
            "x": -0.8540957393017248,
            "y": -0.30230275057533557
           },
           {
            "id": 19,
            "time": 5,
            "value": -0.5132613422211041,
            "x": -0.8540957393017248,
            "y": -0.30230275057533557
           },
           {
            "id": 19,
            "time": 6,
            "value": -0.4957821831960474,
            "x": -0.8540957393017248,
            "y": -0.30230275057533557
           },
           {
            "id": 19,
            "time": 7,
            "value": 0.8407457662403446,
            "x": -0.8540957393017248,
            "y": -0.30230275057533557
           },
           {
            "id": 19,
            "time": 8,
            "value": 0.7984886145797019,
            "x": -0.8540957393017248,
            "y": -0.30230275057533557
           },
           {
            "id": 19,
            "time": 9,
            "value": 1.4753966496099475,
            "x": -0.8540957393017248,
            "y": -0.30230275057533557
           },
           {
            "id": 19,
            "time": 10,
            "value": 2.0857760287171527,
            "x": -0.8540957393017248,
            "y": -0.30230275057533557
           },
           {
            "id": 19,
            "time": 11,
            "value": 4.150268890076472,
            "x": -0.8540957393017248,
            "y": -0.30230275057533557
           },
           {
            "id": 19,
            "time": 12,
            "value": 4.520324777923991,
            "x": -0.8540957393017248,
            "y": -0.30230275057533557
           },
           {
            "id": 19,
            "time": 13,
            "value": 4.4130195016328155,
            "x": -0.8540957393017248,
            "y": -0.30230275057533557
           },
           {
            "id": 19,
            "time": 14,
            "value": 6.072570297822688,
            "x": -0.8540957393017248,
            "y": -0.30230275057533557
           },
           {
            "id": 19,
            "time": 15,
            "value": 6.692928596166201,
            "x": -0.8540957393017248,
            "y": -0.30230275057533557
           },
           {
            "id": 19,
            "time": 16,
            "value": 7.573107508246983,
            "x": -0.8540957393017248,
            "y": -0.30230275057533557
           },
           {
            "id": 19,
            "time": 17,
            "value": 8.425659447708215,
            "x": -0.8540957393017248,
            "y": -0.30230275057533557
           },
           {
            "id": 19,
            "time": 18,
            "value": 10.14524875512441,
            "x": -0.8540957393017248,
            "y": -0.30230275057533557
           },
           {
            "id": 19,
            "time": 19,
            "value": 10.223508930286071,
            "x": -0.8540957393017248,
            "y": -0.30230275057533557
           },
           {
            "id": 19,
            "time": 20,
            "value": 10.172905389324406,
            "x": -0.8540957393017248,
            "y": -0.30230275057533557
           },
           {
            "id": 19,
            "time": 21,
            "value": 10.668906335668368,
            "x": -0.8540957393017248,
            "y": -0.30230275057533557
           },
           {
            "id": 19,
            "time": 22,
            "value": 10.591051579727516,
            "x": -0.8540957393017248,
            "y": -0.30230275057533557
           },
           {
            "id": 19,
            "time": 23,
            "value": 12.333720360383147,
            "x": -0.8540957393017248,
            "y": -0.30230275057533557
           },
           {
            "id": 19,
            "time": 24,
            "value": 12.223837581073832,
            "x": -0.8540957393017248,
            "y": -0.30230275057533557
           },
           {
            "id": 19,
            "time": 25,
            "value": 11.462264192817273,
            "x": -0.8540957393017248,
            "y": -0.30230275057533557
           },
           {
            "id": 19,
            "time": 26,
            "value": 12.595344072376994,
            "x": -0.8540957393017248,
            "y": -0.30230275057533557
           },
           {
            "id": 19,
            "time": 27,
            "value": 12.416754980289666,
            "x": -0.8540957393017248,
            "y": -0.30230275057533557
           },
           {
            "id": 19,
            "time": 28,
            "value": 10.909756582075394,
            "x": -0.8540957393017248,
            "y": -0.30230275057533557
           },
           {
            "id": 19,
            "time": 29,
            "value": 12.269705123754878,
            "x": -0.8540957393017248,
            "y": -0.30230275057533557
           },
           {
            "id": 19,
            "time": 30,
            "value": 11.324089328198587,
            "x": -0.8540957393017248,
            "y": -0.30230275057533557
           },
           {
            "id": 19,
            "time": 31,
            "value": 11.720175913155147,
            "x": -0.8540957393017248,
            "y": -0.30230275057533557
           },
           {
            "id": 19,
            "time": 32,
            "value": 12.802111131632412,
            "x": -0.8540957393017248,
            "y": -0.30230275057533557
           },
           {
            "id": 19,
            "time": 33,
            "value": 12.249570458215683,
            "x": -0.8540957393017248,
            "y": -0.30230275057533557
           },
           {
            "id": 19,
            "time": 34,
            "value": 11.261568515721947,
            "x": -0.8540957393017248,
            "y": -0.30230275057533557
           },
           {
            "id": 19,
            "time": 35,
            "value": 9.694573804860346,
            "x": -0.8540957393017248,
            "y": -0.30230275057533557
           },
           {
            "id": 19,
            "time": 36,
            "value": 9.627439650245824,
            "x": -0.8540957393017248,
            "y": -0.30230275057533557
           },
           {
            "id": 19,
            "time": 37,
            "value": 8.797475052707862,
            "x": -0.8540957393017248,
            "y": -0.30230275057533557
           },
           {
            "id": 19,
            "time": 38,
            "value": 8.820434808315813,
            "x": -0.8540957393017248,
            "y": -0.30230275057533557
           },
           {
            "id": 19,
            "time": 39,
            "value": 9.131881879869969,
            "x": -0.8540957393017248,
            "y": -0.30230275057533557
           },
           {
            "id": 19,
            "time": 40,
            "value": 9.157287088254984,
            "x": -0.8540957393017248,
            "y": -0.30230275057533557
           },
           {
            "id": 19,
            "time": 41,
            "value": 7.363057816765263,
            "x": -0.8540957393017248,
            "y": -0.30230275057533557
           },
           {
            "id": 19,
            "time": 42,
            "value": 6.959025522914326,
            "x": -0.8540957393017248,
            "y": -0.30230275057533557
           },
           {
            "id": 19,
            "time": 43,
            "value": 6.806251099368917,
            "x": -0.8540957393017248,
            "y": -0.30230275057533557
           },
           {
            "id": 19,
            "time": 44,
            "value": 6.274645191357462,
            "x": -0.8540957393017248,
            "y": -0.30230275057533557
           },
           {
            "id": 19,
            "time": 45,
            "value": 4.995484084329203,
            "x": -0.8540957393017248,
            "y": -0.30230275057533557
           },
           {
            "id": 19,
            "time": 46,
            "value": 4.613458635378819,
            "x": -0.8540957393017248,
            "y": -0.30230275057533557
           },
           {
            "id": 19,
            "time": 47,
            "value": 4.255344559898963,
            "x": -0.8540957393017248,
            "y": -0.30230275057533557
           },
           {
            "id": 19,
            "time": 48,
            "value": 4.352563791901881,
            "x": -0.8540957393017248,
            "y": -0.30230275057533557
           },
           {
            "id": 19,
            "time": 49,
            "value": 2.576675791940052,
            "x": -0.8540957393017248,
            "y": -0.30230275057533557
           }
          ]
         },
         "encoding": {
          "color": {
           "condition": {
            "field": "id",
            "legend": null,
            "selection": "selector001",
            "type": "ordinal"
           },
           "value": "lightgray"
          },
          "x": {
           "aggregate": "mean",
           "field": "x",
           "type": "quantitative"
          },
          "y": {
           "aggregate": "mean",
           "field": "y",
           "type": "quantitative"
          }
         },
         "height": 250,
         "mark": {
          "filled": true,
          "size": 200,
          "type": "point"
         },
         "selection": {
          "selector001": {
           "empty": "all",
           "fields": [
            "id"
           ],
           "on": "click",
           "resolve": "global",
           "type": "single"
          },
          "selector002": {
           "bind": "scales",
           "encodings": [
            "x",
            "y"
           ],
           "mark": {
            "fill": "#333",
            "fillOpacity": 0.125,
            "stroke": "white"
           },
           "on": "[mousedown, window:mouseup] > window:mousemove!",
           "resolve": "global",
           "translate": "[mousedown, window:mouseup] > window:mousemove!",
           "type": "interval",
           "zoom": "wheel!"
          }
         },
         "width": 250
        },
        {
         "data": {
          "values": [
           {
            "id": 0,
            "time": 0,
            "value": -1.0485529650670926,
            "x": 1.764052345967664,
            "y": -2.5529898158340787
           },
           {
            "id": 0,
            "time": 1,
            "value": -1.7210134128430437,
            "x": 1.764052345967664,
            "y": -2.5529898158340787
           },
           {
            "id": 0,
            "time": 2,
            "value": -2.8861632536264,
            "x": 1.764052345967664,
            "y": -2.5529898158340787
           },
           {
            "id": 0,
            "time": 3,
            "value": -1.0030125565701458,
            "x": 1.764052345967664,
            "y": -2.5529898158340787
           },
           {
            "id": 0,
            "time": 4,
            "value": -0.6265870254145163,
            "x": 1.764052345967664,
            "y": -2.5529898158340787
           },
           {
            "id": 0,
            "time": 5,
            "value": -2.117844618120122,
            "x": 1.764052345967664,
            "y": -2.5529898158340787
           },
           {
            "id": 0,
            "time": 6,
            "value": -2.615877068812427,
            "x": 1.764052345967664,
            "y": -2.5529898158340787
           },
           {
            "id": 0,
            "time": 7,
            "value": -2.969870980065911,
            "x": 1.764052345967664,
            "y": -2.5529898158340787
           },
           {
            "id": 0,
            "time": 8,
            "value": -3.3390528180083545,
            "x": 1.764052345967664,
            "y": -2.5529898158340787
           },
           {
            "id": 0,
            "time": 9,
            "value": -4.294997818501131,
            "x": 1.764052345967664,
            "y": -2.5529898158340787
           },
           {
            "id": 0,
            "time": 10,
            "value": -4.93243484405336,
            "x": 1.764052345967664,
            "y": -2.5529898158340787
           },
           {
            "id": 0,
            "time": 11,
            "value": -6.121294101837389,
            "x": 1.764052345967664,
            "y": -2.5529898158340787
           },
           {
            "id": 0,
            "time": 12,
            "value": -6.231834759069861,
            "x": 1.764052345967664,
            "y": -2.5529898158340787
           },
           {
            "id": 0,
            "time": 13,
            "value": -7.538361610805178,
            "x": 1.764052345967664,
            "y": -2.5529898158340787
           },
           {
            "id": 0,
            "time": 14,
            "value": -8.257965999356971,
            "x": 1.764052345967664,
            "y": -2.5529898158340787
           },
           {
            "id": 0,
            "time": 15,
            "value": -7.189456600040962,
            "x": 1.764052345967664,
            "y": -2.5529898158340787
           },
           {
            "id": 0,
            "time": 16,
            "value": -6.490999450933626,
            "x": 1.764052345967664,
            "y": -2.5529898158340787
           },
           {
            "id": 0,
            "time": 17,
            "value": -8.18910527036588,
            "x": 1.764052345967664,
            "y": -2.5529898158340787
           },
           {
            "id": 0,
            "time": 18,
            "value": -8.787759207288866,
            "x": 1.764052345967664,
            "y": -2.5529898158340787
           },
           {
            "id": 0,
            "time": 19,
            "value": -7.858254095809338,
            "x": 1.764052345967664,
            "y": -2.5529898158340787
           },
           {
            "id": 0,
            "time": 20,
            "value": -8.253483078463692,
            "x": 1.764052345967664,
            "y": -2.5529898158340787
           },
           {
            "id": 0,
            "time": 21,
            "value": -8.771002120974096,
            "x": 1.764052345967664,
            "y": -2.5529898158340787
           },
           {
            "id": 0,
            "time": 22,
            "value": -7.999596172297251,
            "x": 1.764052345967664,
            "y": -2.5529898158340787
           },
           {
            "id": 0,
            "time": 23,
            "value": -7.616863742284982,
            "x": 1.764052345967664,
            "y": -2.5529898158340787
           },
           {
            "id": 0,
            "time": 24,
            "value": -7.839469423233303,
            "x": 1.764052345967664,
            "y": -2.5529898158340787
           },
           {
            "id": 0,
            "time": 25,
            "value": -7.625989374323134,
            "x": 1.764052345967664,
            "y": -2.5529898158340787
           },
           {
            "id": 0,
            "time": 26,
            "value": -5.614732692859997,
            "x": 1.764052345967664,
            "y": -2.5529898158340787
           },
           {
            "id": 0,
            "time": 27,
            "value": -7.566536794341599,
            "x": 1.764052345967664,
            "y": -2.5529898158340787
           },
           {
            "id": 0,
            "time": 28,
            "value": -9.11696613942508,
            "x": 1.764052345967664,
            "y": -2.5529898158340787
           },
           {
            "id": 0,
            "time": 29,
            "value": -8.440505407063457,
            "x": 1.764052345967664,
            "y": -2.5529898158340787
           },
           {
            "id": 0,
            "time": 30,
            "value": -8.530887414340404,
            "x": 1.764052345967664,
            "y": -2.5529898158340787
           },
           {
            "id": 0,
            "time": 31,
            "value": -9.463628325134781,
            "x": 1.764052345967664,
            "y": -2.5529898158340787
           },
           {
            "id": 0,
            "time": 32,
            "value": -10.055030992942893,
            "x": 1.764052345967664,
            "y": -2.5529898158340787
           },
           {
            "id": 0,
            "time": 33,
            "value": -11.499971192016265,
            "x": 1.764052345967664,
            "y": -2.5529898158340787
           },
           {
            "id": 0,
            "time": 34,
            "value": -11.886842038866911,
            "x": 1.764052345967664,
            "y": -2.5529898158340787
           },
           {
            "id": 0,
            "time": 35,
            "value": -13.064471001349542,
            "x": 1.764052345967664,
            "y": -2.5529898158340787
           },
           {
            "id": 0,
            "time": 36,
            "value": -13.515774038452069,
            "x": 1.764052345967664,
            "y": -2.5529898158340787
           },
           {
            "id": 0,
            "time": 37,
            "value": -12.026418076377588,
            "x": 1.764052345967664,
            "y": -2.5529898158340787
           },
           {
            "id": 0,
            "time": 38,
            "value": -10.615246012487976,
            "x": 1.764052345967664,
            "y": -2.5529898158340787
           },
           {
            "id": 0,
            "time": 39,
            "value": -10.626391624329818,
            "x": 1.764052345967664,
            "y": -2.5529898158340787
           },
           {
            "id": 0,
            "time": 40,
            "value": -10.386808864473426,
            "x": 1.764052345967664,
            "y": -2.5529898158340787
           },
           {
            "id": 0,
            "time": 41,
            "value": -9.232624833979408,
            "x": 1.764052345967664,
            "y": -2.5529898158340787
           },
           {
            "id": 0,
            "time": 42,
            "value": -7.9061631916137145,
            "x": 1.764052345967664,
            "y": -2.5529898158340787
           },
           {
            "id": 0,
            "time": 43,
            "value": -9.367895879875123,
            "x": 1.764052345967664,
            "y": -2.5529898158340787
           },
           {
            "id": 0,
            "time": 44,
            "value": -10.666582602038213,
            "x": 1.764052345967664,
            "y": -2.5529898158340787
           },
           {
            "id": 0,
            "time": 45,
            "value": -10.300733814121354,
            "x": 1.764052345967664,
            "y": -2.5529898158340787
           },
           {
            "id": 0,
            "time": 46,
            "value": -10.666284904107393,
            "x": 1.764052345967664,
            "y": -2.5529898158340787
           },
           {
            "id": 0,
            "time": 47,
            "value": -10.306780504536382,
            "x": 1.764052345967664,
            "y": -2.5529898158340787
           },
           {
            "id": 0,
            "time": 48,
            "value": -9.750817824826584,
            "x": 1.764052345967664,
            "y": -2.5529898158340787
           },
           {
            "id": 0,
            "time": 49,
            "value": -8.735152543284482,
            "x": 1.764052345967664,
            "y": -2.5529898158340787
           },
           {
            "id": 1,
            "time": 0,
            "value": -1.4200179371789752,
            "x": 0.4001572083672233,
            "y": 0.6536185954403606
           },
           {
            "id": 1,
            "time": 1,
            "value": -1.7795710987195164,
            "x": 0.4001572083672233,
            "y": 0.6536185954403606
           },
           {
            "id": 1,
            "time": 2,
            "value": -0.8787446117653293,
            "x": 0.4001572083672233,
            "y": 0.6536185954403606
           },
           {
            "id": 1,
            "time": 3,
            "value": -2.226503672907776,
            "x": 0.4001572083672233,
            "y": 0.6536185954403606
           },
           {
            "id": 1,
            "time": 4,
            "value": -3.3259044634919706,
            "x": 0.4001572083672233,
            "y": 0.6536185954403606
           },
           {
            "id": 1,
            "time": 5,
            "value": -2.886512762227434,
            "x": 0.4001572083672233,
            "y": 0.6536185954403606
           },
           {
            "id": 1,
            "time": 6,
            "value": -0.956980708410448,
            "x": 0.4001572083672233,
            "y": 0.6536185954403606
           },
           {
            "id": 1,
            "time": 7,
            "value": -2.331932001828467,
            "x": 0.4001572083672233,
            "y": 0.6536185954403606
           },
           {
            "id": 1,
            "time": 8,
            "value": -2.5713111794043932,
            "x": 0.4001572083672233,
            "y": 0.6536185954403606
           },
           {
            "id": 1,
            "time": 9,
            "value": -2.91729295510378,
            "x": 0.4001572083672233,
            "y": 0.6536185954403606
           },
           {
            "id": 1,
            "time": 10,
            "value": -3.3145647694325775,
            "x": 0.4001572083672233,
            "y": 0.6536185954403606
           },
           {
            "id": 1,
            "time": 11,
            "value": -3.821381123731265,
            "x": 0.4001572083672233,
            "y": 0.6536185954403606
           },
           {
            "id": 1,
            "time": 12,
            "value": -2.801208412015465,
            "x": 0.4001572083672233,
            "y": 0.6536185954403606
           },
           {
            "id": 1,
            "time": 13,
            "value": -1.1430777323972772,
            "x": 0.4001572083672233,
            "y": 0.6536185954403606
           },
           {
            "id": 1,
            "time": 14,
            "value": -1.9560707209513546,
            "x": 0.4001572083672233,
            "y": 0.6536185954403606
           },
           {
            "id": 1,
            "time": 15,
            "value": -2.409456524802742,
            "x": 0.4001572083672233,
            "y": 0.6536185954403606
           },
           {
            "id": 1,
            "time": 16,
            "value": -2.405685635716473,
            "x": 0.4001572083672233,
            "y": 0.6536185954403606
           },
           {
            "id": 1,
            "time": 17,
            "value": -2.0184051603214095,
            "x": 0.4001572083672233,
            "y": 0.6536185954403606
           },
           {
            "id": 1,
            "time": 18,
            "value": -3.134302146281804,
            "x": 0.4001572083672233,
            "y": 0.6536185954403606
           },
           {
            "id": 1,
            "time": 19,
            "value": -2.55207755488388,
            "x": 0.4001572083672233,
            "y": 0.6536185954403606
           },
           {
            "id": 1,
            "time": 20,
            "value": -3.711498071283793,
            "x": 0.4001572083672233,
            "y": 0.6536185954403606
           },
           {
            "id": 1,
            "time": 21,
            "value": -4.690327930642563,
            "x": 0.4001572083672233,
            "y": 0.6536185954403606
           },
           {
            "id": 1,
            "time": 22,
            "value": -3.6608891018597958,
            "x": 0.4001572083672233,
            "y": 0.6536185954403606
           },
           {
            "id": 1,
            "time": 23,
            "value": -3.6951313823917498,
            "x": 0.4001572083672233,
            "y": 0.6536185954403606
           },
           {
            "id": 1,
            "time": 24,
            "value": -4.608210600433546,
            "x": 0.4001572083672233,
            "y": 0.6536185954403606
           },
           {
            "id": 1,
            "time": 25,
            "value": -5.816784254166768,
            "x": 0.4001572083672233,
            "y": 0.6536185954403606
           },
           {
            "id": 1,
            "time": 26,
            "value": -5.861379680622625,
            "x": 0.4001572083672233,
            "y": 0.6536185954403606
           },
           {
            "id": 1,
            "time": 27,
            "value": -6.521271410352123,
            "x": 0.4001572083672233,
            "y": 0.6536185954403606
           },
           {
            "id": 1,
            "time": 28,
            "value": -6.103952589320288,
            "x": 0.4001572083672233,
            "y": 0.6536185954403606
           },
           {
            "id": 1,
            "time": 29,
            "value": -6.4859615448981085,
            "x": 0.4001572083672233,
            "y": 0.6536185954403606
           },
           {
            "id": 1,
            "time": 30,
            "value": -5.118364305091395,
            "x": 0.4001572083672233,
            "y": 0.6536185954403606
           },
           {
            "id": 1,
            "time": 31,
            "value": -6.381432654193671,
            "x": 0.4001572083672233,
            "y": 0.6536185954403606
           },
           {
            "id": 1,
            "time": 32,
            "value": -5.257013469683303,
            "x": 0.4001572083672233,
            "y": 0.6536185954403606
           },
           {
            "id": 1,
            "time": 33,
            "value": -6.4675564638066545,
            "x": 0.4001572083672233,
            "y": 0.6536185954403606
           },
           {
            "id": 1,
            "time": 34,
            "value": -6.977849203440283,
            "x": 0.4001572083672233,
            "y": 0.6536185954403606
           },
           {
            "id": 1,
            "time": 35,
            "value": -8.118045504375244,
            "x": 0.4001572083672233,
            "y": 0.6536185954403606
           },
           {
            "id": 1,
            "time": 36,
            "value": -7.852357529409009,
            "x": 0.4001572083672233,
            "y": 0.6536185954403606
           },
           {
            "id": 1,
            "time": 37,
            "value": -7.331053781133295,
            "x": 0.4001572083672233,
            "y": 0.6536185954403606
           },
           {
            "id": 1,
            "time": 38,
            "value": -6.545249954302122,
            "x": 0.4001572083672233,
            "y": 0.6536185954403606
           },
           {
            "id": 1,
            "time": 39,
            "value": -6.533751054432059,
            "x": 0.4001572083672233,
            "y": 0.6536185954403606
           },
           {
            "id": 1,
            "time": 40,
            "value": -6.903552220735863,
            "x": 0.4001572083672233,
            "y": 0.6536185954403606
           },
           {
            "id": 1,
            "time": 41,
            "value": -6.731047804242997,
            "x": 0.4001572083672233,
            "y": 0.6536185954403606
           },
           {
            "id": 1,
            "time": 42,
            "value": -7.695654228449261,
            "x": 0.4001572083672233,
            "y": 0.6536185954403606
           },
           {
            "id": 1,
            "time": 43,
            "value": -8.379093995237943,
            "x": 0.4001572083672233,
            "y": 0.6536185954403606
           },
           {
            "id": 1,
            "time": 44,
            "value": -7.103018649231755,
            "x": 0.4001572083672233,
            "y": 0.6536185954403606
           },
           {
            "id": 1,
            "time": 45,
            "value": -5.805193382258169,
            "x": 0.4001572083672233,
            "y": 0.6536185954403606
           },
           {
            "id": 1,
            "time": 46,
            "value": -4.867100841352523,
            "x": 0.4001572083672233,
            "y": 0.6536185954403606
           },
           {
            "id": 1,
            "time": 47,
            "value": -5.011667658286259,
            "x": 0.4001572083672233,
            "y": 0.6536185954403606
           },
           {
            "id": 1,
            "time": 48,
            "value": -4.119193770954729,
            "x": 0.4001572083672233,
            "y": 0.6536185954403606
           },
           {
            "id": 1,
            "time": 49,
            "value": -3.4181524297896315,
            "x": 0.4001572083672233,
            "y": 0.6536185954403606
           },
           {
            "id": 2,
            "time": 0,
            "value": -1.7062701906250126,
            "x": 0.9787379841057392,
            "y": 0.8644361988595057
           },
           {
            "id": 2,
            "time": 1,
            "value": -2.5194164726694668,
            "x": 0.9787379841057392,
            "y": 0.8644361988595057
           },
           {
            "id": 2,
            "time": 2,
            "value": -2.0537540329390067,
            "x": 0.9787379841057392,
            "y": 0.8644361988595057
           },
           {
            "id": 2,
            "time": 3,
            "value": -3.3242390314247405,
            "x": 0.9787379841057392,
            "y": 0.8644361988595057
           },
           {
            "id": 2,
            "time": 4,
            "value": -3.0260008572186847,
            "x": 0.9787379841057392,
            "y": 0.8644361988595057
           },
           {
            "id": 2,
            "time": 5,
            "value": -2.8593273618461557,
            "x": 0.9787379841057392,
            "y": 0.8644361988595057
           },
           {
            "id": 2,
            "time": 6,
            "value": -1.9099065549203948,
            "x": 0.9787379841057392,
            "y": 0.8644361988595057
           },
           {
            "id": 2,
            "time": 7,
            "value": -2.5535249577532855,
            "x": 0.9787379841057392,
            "y": 0.8644361988595057
           },
           {
            "id": 2,
            "time": 8,
            "value": -1.4538653618661723,
            "x": 0.9787379841057392,
            "y": 0.8644361988595057
           },
           {
            "id": 2,
            "time": 9,
            "value": -1.9174613365122666,
            "x": 0.9787379841057392,
            "y": 0.8644361988595057
           },
           {
            "id": 2,
            "time": 10,
            "value": -2.050341914099222,
            "x": 0.9787379841057392,
            "y": 0.8644361988595057
           },
           {
            "id": 2,
            "time": 11,
            "value": -2.64665595254973,
            "x": 0.9787379841057392,
            "y": 0.8644361988595057
           },
           {
            "id": 2,
            "time": 12,
            "value": -3.3387058003341212,
            "x": 0.9787379841057392,
            "y": 0.8644361988595057
           },
           {
            "id": 2,
            "time": 13,
            "value": -3.456869845462691,
            "x": 0.9787379841057392,
            "y": 0.8644361988595057
           },
           {
            "id": 2,
            "time": 14,
            "value": -3.1823534877387516,
            "x": 0.9787379841057392,
            "y": 0.8644361988595057
           },
           {
            "id": 2,
            "time": 15,
            "value": -3.870191098767434,
            "x": 0.9787379841057392,
            "y": 0.8644361988595057
           },
           {
            "id": 2,
            "time": 16,
            "value": -2.9383427246531304,
            "x": 0.9787379841057392,
            "y": 0.8644361988595057
           },
           {
            "id": 2,
            "time": 17,
            "value": -5.19390695405532,
            "x": 0.9787379841057392,
            "y": 0.8644361988595057
           },
           {
            "id": 2,
            "time": 18,
            "value": -4.427243772410234,
            "x": 0.9787379841057392,
            "y": 0.8644361988595057
           },
           {
            "id": 2,
            "time": 19,
            "value": -6.521846843616379,
            "x": 0.9787379841057392,
            "y": 0.8644361988595057
           },
           {
            "id": 2,
            "time": 20,
            "value": -6.607777610587991,
            "x": 0.9787379841057392,
            "y": 0.8644361988595057
           },
           {
            "id": 2,
            "time": 21,
            "value": -7.046967132390139,
            "x": 0.9787379841057392,
            "y": 0.8644361988595057
           },
           {
            "id": 2,
            "time": 22,
            "value": -7.955730378349193,
            "x": 0.9787379841057392,
            "y": 0.8644361988595057
           },
           {
            "id": 2,
            "time": 23,
            "value": -6.8593835326833945,
            "x": 0.9787379841057392,
            "y": 0.8644361988595057
           },
           {
            "id": 2,
            "time": 24,
            "value": -8.540601748177828,
            "x": 0.9787379841057392,
            "y": 0.8644361988595057
           },
           {
            "id": 2,
            "time": 25,
            "value": -8.782621578048047,
            "x": 0.9787379841057392,
            "y": 0.8644361988595057
           },
           {
            "id": 2,
            "time": 26,
            "value": -8.587551880896667,
            "x": 0.9787379841057392,
            "y": 0.8644361988595057
           },
           {
            "id": 2,
            "time": 27,
            "value": -9.72735433632344,
            "x": 0.9787379841057392,
            "y": 0.8644361988595057
           },
           {
            "id": 2,
            "time": 28,
            "value": -10.671722827147734,
            "x": 0.9787379841057392,
            "y": 0.8644361988595057
           },
           {
            "id": 2,
            "time": 29,
            "value": -10.895981761399375,
            "x": 0.9787379841057392,
            "y": 0.8644361988595057
           },
           {
            "id": 2,
            "time": 30,
            "value": -9.861571874917857,
            "x": 0.9787379841057392,
            "y": 0.8644361988595057
           },
           {
            "id": 2,
            "time": 31,
            "value": -9.40908278227821,
            "x": 0.9787379841057392,
            "y": 0.8644361988595057
           },
           {
            "id": 2,
            "time": 32,
            "value": -8.653687086614871,
            "x": 0.9787379841057392,
            "y": 0.8644361988595057
           },
           {
            "id": 2,
            "time": 33,
            "value": -9.442356341124238,
            "x": 0.9787379841057392,
            "y": 0.8644361988595057
           },
           {
            "id": 2,
            "time": 34,
            "value": -9.258430846783929,
            "x": 0.9787379841057392,
            "y": 0.8644361988595057
           },
           {
            "id": 2,
            "time": 35,
            "value": -7.50344469304187,
            "x": 0.9787379841057392,
            "y": 0.8644361988595057
           },
           {
            "id": 2,
            "time": 36,
            "value": -6.780344199304072,
            "x": 0.9787379841057392,
            "y": 0.8644361988595057
           },
           {
            "id": 2,
            "time": 37,
            "value": -6.1684170065729145,
            "x": 0.9787379841057392,
            "y": 0.8644361988595057
           },
           {
            "id": 2,
            "time": 38,
            "value": -6.225886525038309,
            "x": 0.9787379841057392,
            "y": 0.8644361988595057
           },
           {
            "id": 2,
            "time": 39,
            "value": -7.063564566946254,
            "x": 0.9787379841057392,
            "y": 0.8644361988595057
           },
           {
            "id": 2,
            "time": 40,
            "value": -6.091028777803717,
            "x": 0.9787379841057392,
            "y": 0.8644361988595057
           },
           {
            "id": 2,
            "time": 41,
            "value": -6.069966756461653,
            "x": 0.9787379841057392,
            "y": 0.8644361988595057
           },
           {
            "id": 2,
            "time": 42,
            "value": -6.010072073345377,
            "x": 0.9787379841057392,
            "y": 0.8644361988595057
           },
           {
            "id": 2,
            "time": 43,
            "value": -5.642527177323108,
            "x": 0.9787379841057392,
            "y": 0.8644361988595057
           },
           {
            "id": 2,
            "time": 44,
            "value": -4.317513124436292,
            "x": 0.9787379841057392,
            "y": 0.8644361988595057
           },
           {
            "id": 2,
            "time": 45,
            "value": -3.836397998047457,
            "x": 0.9787379841057392,
            "y": 0.8644361988595057
           },
           {
            "id": 2,
            "time": 46,
            "value": -3.5396648255533436,
            "x": 0.9787379841057392,
            "y": 0.8644361988595057
           },
           {
            "id": 2,
            "time": 47,
            "value": -3.9012641063349633,
            "x": 0.9787379841057392,
            "y": 0.8644361988595057
           },
           {
            "id": 2,
            "time": 48,
            "value": -4.323578930460234,
            "x": 0.9787379841057392,
            "y": 0.8644361988595057
           },
           {
            "id": 2,
            "time": 49,
            "value": -4.741056280345267,
            "x": 0.9787379841057392,
            "y": 0.8644361988595057
           },
           {
            "id": 3,
            "time": 0,
            "value": 1.9507753952317897,
            "x": 2.240893199201458,
            "y": -0.7421650204064419
           },
           {
            "id": 3,
            "time": 1,
            "value": 0.22449279290011281,
            "x": 2.240893199201458,
            "y": -0.7421650204064419
           },
           {
            "id": 3,
            "time": 2,
            "value": -1.311750893377111,
            "x": 2.240893199201458,
            "y": -0.7421650204064419
           },
           {
            "id": 3,
            "time": 3,
            "value": -0.34235418521909977,
            "x": 2.240893199201458,
            "y": -0.7421650204064419
           },
           {
            "id": 3,
            "time": 4,
            "value": 0.9840317114679306,
            "x": 2.240893199201458,
            "y": -0.7421650204064419
           },
           {
            "id": 3,
            "time": 5,
            "value": 1.6190631483600368,
            "x": 2.240893199201458,
            "y": -0.7421650204064419
           },
           {
            "id": 3,
            "time": 6,
            "value": 1.7066143897452277,
            "x": 2.240893199201458,
            "y": -0.7421650204064419
           },
           {
            "id": 3,
            "time": 7,
            "value": -0.5167887624791989,
            "x": 2.240893199201458,
            "y": -0.7421650204064419
           },
           {
            "id": 3,
            "time": 8,
            "value": 0.1384749682433989,
            "x": 2.240893199201458,
            "y": -0.7421650204064419
           },
           {
            "id": 3,
            "time": 9,
            "value": 0.6199564420168611,
            "x": 2.240893199201458,
            "y": -0.7421650204064419
           },
           {
            "id": 3,
            "time": 10,
            "value": 0.32216556261513274,
            "x": 2.240893199201458,
            "y": -0.7421650204064419
           },
           {
            "id": 3,
            "time": 11,
            "value": 0.2695982663455865,
            "x": 2.240893199201458,
            "y": -0.7421650204064419
           },
           {
            "id": 3,
            "time": 12,
            "value": 1.8059753205913842,
            "x": 2.240893199201458,
            "y": -0.7421650204064419
           },
           {
            "id": 3,
            "time": 13,
            "value": 1.125797116594534,
            "x": 2.240893199201458,
            "y": -0.7421650204064419
           },
           {
            "id": 3,
            "time": 14,
            "value": 0.23488203359900606,
            "x": 2.240893199201458,
            "y": -0.7421650204064419
           },
           {
            "id": 3,
            "time": 15,
            "value": -0.9791953694951145,
            "x": 2.240893199201458,
            "y": -0.7421650204064419
           },
           {
            "id": 3,
            "time": 16,
            "value": -0.6392303856938526,
            "x": 2.240893199201458,
            "y": -0.7421650204064419
           },
           {
            "id": 3,
            "time": 17,
            "value": -1.6617372293294561,
            "x": 2.240893199201458,
            "y": -0.7421650204064419
           },
           {
            "id": 3,
            "time": 18,
            "value": -1.305444411857167,
            "x": 2.240893199201458,
            "y": -0.7421650204064419
           },
           {
            "id": 3,
            "time": 19,
            "value": -1.1817224976236604,
            "x": 2.240893199201458,
            "y": -0.7421650204064419
           },
           {
            "id": 3,
            "time": 20,
            "value": -0.9874295595778888,
            "x": 2.240893199201458,
            "y": -0.7421650204064419
           },
           {
            "id": 3,
            "time": 21,
            "value": -0.8060911303600675,
            "x": 2.240893199201458,
            "y": -0.7421650204064419
           },
           {
            "id": 3,
            "time": 22,
            "value": -1.230408751337969,
            "x": 2.240893199201458,
            "y": -0.7421650204064419
           },
           {
            "id": 3,
            "time": 23,
            "value": -1.4646245526825055,
            "x": 2.240893199201458,
            "y": -0.7421650204064419
           },
           {
            "id": 3,
            "time": 24,
            "value": -2.3535959107779556,
            "x": 2.240893199201458,
            "y": -0.7421650204064419
           },
           {
            "id": 3,
            "time": 25,
            "value": -0.8353347404222502,
            "x": 2.240893199201458,
            "y": -0.7421650204064419
           },
           {
            "id": 3,
            "time": 26,
            "value": -2.6168975961278416,
            "x": 2.240893199201458,
            "y": -0.7421650204064419
           },
           {
            "id": 3,
            "time": 27,
            "value": -1.8319400748873416,
            "x": 2.240893199201458,
            "y": -0.7421650204064419
           },
           {
            "id": 3,
            "time": 28,
            "value": -1.5938369270550294,
            "x": 2.240893199201458,
            "y": -0.7421650204064419
           },
           {
            "id": 3,
            "time": 29,
            "value": -1.8960866575100994,
            "x": 2.240893199201458,
            "y": -0.7421650204064419
           },
           {
            "id": 3,
            "time": 30,
            "value": -2.8922992978811655,
            "x": 2.240893199201458,
            "y": -0.7421650204064419
           },
           {
            "id": 3,
            "time": 31,
            "value": -2.794403152468538,
            "x": 2.240893199201458,
            "y": -0.7421650204064419
           },
           {
            "id": 3,
            "time": 32,
            "value": -1.9269957411136203,
            "x": 2.240893199201458,
            "y": -0.7421650204064419
           },
           {
            "id": 3,
            "time": 33,
            "value": -0.8323573664015289,
            "x": 2.240893199201458,
            "y": -0.7421650204064419
           },
           {
            "id": 3,
            "time": 34,
            "value": -1.2178471267771371,
            "x": 2.240893199201458,
            "y": -0.7421650204064419
           },
           {
            "id": 3,
            "time": 35,
            "value": -1.3508355490867292,
            "x": 2.240893199201458,
            "y": -0.7421650204064419
           },
           {
            "id": 3,
            "time": 36,
            "value": -1.3262234238388175,
            "x": 2.240893199201458,
            "y": -0.7421650204064419
           },
           {
            "id": 3,
            "time": 37,
            "value": -2.66772014942186,
            "x": 2.240893199201458,
            "y": -0.7421650204064419
           },
           {
            "id": 3,
            "time": 38,
            "value": -3.0589372015958762,
            "x": 2.240893199201458,
            "y": -0.7421650204064419
           },
           {
            "id": 3,
            "time": 39,
            "value": -3.650120305360306,
            "x": 2.240893199201458,
            "y": -0.7421650204064419
           },
           {
            "id": 3,
            "time": 40,
            "value": -1.5162520581557688,
            "x": 2.240893199201458,
            "y": -0.7421650204064419
           },
           {
            "id": 3,
            "time": 41,
            "value": -1.4167976011250571,
            "x": 2.240893199201458,
            "y": -0.7421650204064419
           },
           {
            "id": 3,
            "time": 42,
            "value": -1.6293206458953664,
            "x": 2.240893199201458,
            "y": -0.7421650204064419
           },
           {
            "id": 3,
            "time": 43,
            "value": -1.4390090883014266,
            "x": 2.240893199201458,
            "y": -0.7421650204064419
           },
           {
            "id": 3,
            "time": 44,
            "value": -1.2336765245234669,
            "x": 2.240893199201458,
            "y": -0.7421650204064419
           },
           {
            "id": 3,
            "time": 45,
            "value": 1.5256785894981153,
            "x": 2.240893199201458,
            "y": -0.7421650204064419
           },
           {
            "id": 3,
            "time": 46,
            "value": 2.3556647485792186,
            "x": 2.240893199201458,
            "y": -0.7421650204064419
           },
           {
            "id": 3,
            "time": 47,
            "value": 3.4202498847070704,
            "x": 2.240893199201458,
            "y": -0.7421650204064419
           },
           {
            "id": 3,
            "time": 48,
            "value": 3.5249639141403546,
            "x": 2.240893199201458,
            "y": -0.7421650204064419
           },
           {
            "id": 3,
            "time": 49,
            "value": 2.42746725937011,
            "x": 2.240893199201458,
            "y": -0.7421650204064419
           },
           {
            "id": 4,
            "time": 0,
            "value": -0.5096521817516535,
            "x": 1.8675579901499675,
            "y": 2.2697546239876076
           },
           {
            "id": 4,
            "time": 1,
            "value": -0.33222603949790064,
            "x": 1.8675579901499675,
            "y": 2.2697546239876076
           },
           {
            "id": 4,
            "time": 2,
            "value": 1.156026154297699,
            "x": 1.8675579901499675,
            "y": 2.2697546239876076
           },
           {
            "id": 4,
            "time": 3,
            "value": -0.01709725081646085,
            "x": 1.8675579901499675,
            "y": 2.2697546239876076
           },
           {
            "id": 4,
            "time": 4,
            "value": -0.7116651105478263,
            "x": 1.8675579901499675,
            "y": 2.2697546239876076
           },
           {
            "id": 4,
            "time": 5,
            "value": 1.6714796643161156,
            "x": 1.8675579901499675,
            "y": 2.2697546239876076
           },
           {
            "id": 4,
            "time": 6,
            "value": 0.4460441454859476,
            "x": 1.8675579901499675,
            "y": 2.2697546239876076
           },
           {
            "id": 4,
            "time": 7,
            "value": 1.071275596513135,
            "x": 1.8675579901499675,
            "y": 2.2697546239876076
           },
           {
            "id": 4,
            "time": 8,
            "value": 1.7114071226107272,
            "x": 1.8675579901499675,
            "y": 2.2697546239876076
           },
           {
            "id": 4,
            "time": 9,
            "value": 0.17061010816610245,
            "x": 1.8675579901499675,
            "y": 2.2697546239876076
           },
           {
            "id": 4,
            "time": 10,
            "value": -0.13840286088101977,
            "x": 1.8675579901499675,
            "y": 2.2697546239876076
           },
           {
            "id": 4,
            "time": 11,
            "value": -2.0746826667275267,
            "x": 1.8675579901499675,
            "y": 2.2697546239876076
           },
           {
            "id": 4,
            "time": 12,
            "value": -1.788338977835247,
            "x": 1.8675579901499675,
            "y": 2.2697546239876076
           },
           {
            "id": 4,
            "time": 13,
            "value": -1.1219558958033327,
            "x": 1.8675579901499675,
            "y": 2.2697546239876076
           },
           {
            "id": 4,
            "time": 14,
            "value": -2.2793111549941862,
            "x": 1.8675579901499675,
            "y": 2.2697546239876076
           },
           {
            "id": 4,
            "time": 15,
            "value": -2.7202337872867774,
            "x": 1.8675579901499675,
            "y": 2.2697546239876076
           },
           {
            "id": 4,
            "time": 16,
            "value": -2.735915898889332,
            "x": 1.8675579901499675,
            "y": 2.2697546239876076
           },
           {
            "id": 4,
            "time": 17,
            "value": -2.697285347049144,
            "x": 1.8675579901499675,
            "y": 2.2697546239876076
           },
           {
            "id": 4,
            "time": 18,
            "value": -4.465823797726175,
            "x": 1.8675579901499675,
            "y": 2.2697546239876076
           },
           {
            "id": 4,
            "time": 19,
            "value": -4.595930751919879,
            "x": 1.8675579901499675,
            "y": 2.2697546239876076
           },
           {
            "id": 4,
            "time": 20,
            "value": -3.7200979903325484,
            "x": 1.8675579901499675,
            "y": 2.2697546239876076
           },
           {
            "id": 4,
            "time": 21,
            "value": -4.222914690975086,
            "x": 1.8675579901499675,
            "y": 2.2697546239876076
           },
           {
            "id": 4,
            "time": 22,
            "value": -3.3603186796466353,
            "x": 1.8675579901499675,
            "y": 2.2697546239876076
           },
           {
            "id": 4,
            "time": 23,
            "value": -3.7077693321451988,
            "x": 1.8675579901499675,
            "y": 2.2697546239876076
           },
           {
            "id": 4,
            "time": 24,
            "value": -3.465651371160076,
            "x": 1.8675579901499675,
            "y": 2.2697546239876076
           },
           {
            "id": 4,
            "time": 25,
            "value": -3.8502967943025936,
            "x": 1.8675579901499675,
            "y": 2.2697546239876076
           },
           {
            "id": 4,
            "time": 26,
            "value": -4.579341453097289,
            "x": 1.8675579901499675,
            "y": 2.2697546239876076
           },
           {
            "id": 4,
            "time": 27,
            "value": -5.1336510796685895,
            "x": 1.8675579901499675,
            "y": 2.2697546239876076
           },
           {
            "id": 4,
            "time": 28,
            "value": -6.539613995936489,
            "x": 1.8675579901499675,
            "y": 2.2697546239876076
           },
           {
            "id": 4,
            "time": 29,
            "value": -6.914761112597773,
            "x": 1.8675579901499675,
            "y": 2.2697546239876076
           },
           {
            "id": 4,
            "time": 30,
            "value": -8.132699624190924,
            "x": 1.8675579901499675,
            "y": 2.2697546239876076
           },
           {
            "id": 4,
            "time": 31,
            "value": -8.580864986871632,
            "x": 1.8675579901499675,
            "y": 2.2697546239876076
           },
           {
            "id": 4,
            "time": 32,
            "value": -9.237328661843163,
            "x": 1.8675579901499675,
            "y": 2.2697546239876076
           },
           {
            "id": 4,
            "time": 33,
            "value": -9.002507135894431,
            "x": 1.8675579901499675,
            "y": 2.2697546239876076
           },
           {
            "id": 4,
            "time": 34,
            "value": -10.604343184866968,
            "x": 1.8675579901499675,
            "y": 2.2697546239876076
           },
           {
            "id": 4,
            "time": 35,
            "value": -11.370045379345054,
            "x": 1.8675579901499675,
            "y": 2.2697546239876076
           },
           {
            "id": 4,
            "time": 36,
            "value": -10.65006164920189,
            "x": 1.8675579901499675,
            "y": 2.2697546239876076
           },
           {
            "id": 4,
            "time": 37,
            "value": -10.173163280279667,
            "x": 1.8675579901499675,
            "y": 2.2697546239876076
           },
           {
            "id": 4,
            "time": 38,
            "value": -9.232245665704554,
            "x": 1.8675579901499675,
            "y": 2.2697546239876076
           },
           {
            "id": 4,
            "time": 39,
            "value": -9.899965952063953,
            "x": 1.8675579901499675,
            "y": 2.2697546239876076
           },
           {
            "id": 4,
            "time": 40,
            "value": -9.493550458387746,
            "x": 1.8675579901499675,
            "y": 2.2697546239876076
           },
           {
            "id": 4,
            "time": 41,
            "value": -9.266157683266618,
            "x": 1.8675579901499675,
            "y": 2.2697546239876076
           },
           {
            "id": 4,
            "time": 42,
            "value": -10.028272195189116,
            "x": 1.8675579901499675,
            "y": 2.2697546239876076
           },
           {
            "id": 4,
            "time": 43,
            "value": -10.880001392442706,
            "x": 1.8675579901499675,
            "y": 2.2697546239876076
           },
           {
            "id": 4,
            "time": 44,
            "value": -10.834867377010696,
            "x": 1.8675579901499675,
            "y": 2.2697546239876076
           },
           {
            "id": 4,
            "time": 45,
            "value": -10.909535355261845,
            "x": 1.8675579901499675,
            "y": 2.2697546239876076
           },
           {
            "id": 4,
            "time": 46,
            "value": -11.405637689244408,
            "x": 1.8675579901499675,
            "y": 2.2697546239876076
           },
           {
            "id": 4,
            "time": 47,
            "value": -12.34351792039586,
            "x": 1.8675579901499675,
            "y": 2.2697546239876076
           },
           {
            "id": 4,
            "time": 48,
            "value": -12.115464595271792,
            "x": 1.8675579901499675,
            "y": 2.2697546239876076
           },
           {
            "id": 4,
            "time": 49,
            "value": -10.403159373928496,
            "x": 1.8675579901499675,
            "y": 2.2697546239876076
           },
           {
            "id": 5,
            "time": 0,
            "value": -0.4380743016111864,
            "x": -0.977277879876411,
            "y": -1.4543656745987648
           },
           {
            "id": 5,
            "time": 1,
            "value": -0.8398552378194483,
            "x": -0.977277879876411,
            "y": -1.4543656745987648
           },
           {
            "id": 5,
            "time": 2,
            "value": 1.0560339382111348,
            "x": -0.977277879876411,
            "y": -1.4543656745987648
           },
           {
            "id": 5,
            "time": 3,
            "value": 2.9996551238604274,
            "x": -0.977277879876411,
            "y": -1.4543656745987648
           },
           {
            "id": 5,
            "time": 4,
            "value": 2.8500205835327566,
            "x": -0.977277879876411,
            "y": -1.4543656745987648
           },
           {
            "id": 5,
            "time": 5,
            "value": 3.7945000705231706,
            "x": -0.977277879876411,
            "y": -1.4543656745987648
           },
           {
            "id": 5,
            "time": 6,
            "value": 4.638863046924718,
            "x": -0.977277879876411,
            "y": -1.4543656745987648
           },
           {
            "id": 5,
            "time": 7,
            "value": 3.0368053913179702,
            "x": -0.977277879876411,
            "y": -1.4543656745987648
           },
           {
            "id": 5,
            "time": 8,
            "value": 1.4198493470071358,
            "x": -0.977277879876411,
            "y": -1.4543656745987648
           },
           {
            "id": 5,
            "time": 9,
            "value": 1.4831113412074675,
            "x": -0.977277879876411,
            "y": -1.4543656745987648
           },
           {
            "id": 5,
            "time": 10,
            "value": -0.19289246512250924,
            "x": -0.977277879876411,
            "y": -1.4543656745987648
           },
           {
            "id": 5,
            "time": 11,
            "value": -0.0041138683286806865,
            "x": -0.977277879876411,
            "y": -1.4543656745987648
           },
           {
            "id": 5,
            "time": 12,
            "value": 0.6047299661467701,
            "x": -0.977277879876411,
            "y": -1.4543656745987648
           },
           {
            "id": 5,
            "time": 13,
            "value": 0.1440101787582168,
            "x": -0.977277879876411,
            "y": -1.4543656745987648
           },
           {
            "id": 5,
            "time": 14,
            "value": -0.1682820723674765,
            "x": -0.977277879876411,
            "y": -1.4543656745987648
           },
           {
            "id": 5,
            "time": 15,
            "value": -0.4486375675519856,
            "x": -0.977277879876411,
            "y": -1.4543656745987648
           },
           {
            "id": 5,
            "time": 16,
            "value": -0.2877093992537626,
            "x": -0.977277879876411,
            "y": -1.4543656745987648
           },
           {
            "id": 5,
            "time": 17,
            "value": -1.9444245015757162,
            "x": -0.977277879876411,
            "y": -1.4543656745987648
           },
           {
            "id": 5,
            "time": 18,
            "value": -1.5889427088319472,
            "x": -0.977277879876411,
            "y": -1.4543656745987648
           },
           {
            "id": 5,
            "time": 19,
            "value": -1.4949894794463785,
            "x": -0.977277879876411,
            "y": -1.4543656745987648
           },
           {
            "id": 5,
            "time": 20,
            "value": -1.6100969479336051,
            "x": -0.977277879876411,
            "y": -1.4543656745987648
           },
           {
            "id": 5,
            "time": 21,
            "value": 0.8023567316101434,
            "x": -0.977277879876411,
            "y": -1.4543656745987648
           },
           {
            "id": 5,
            "time": 22,
            "value": -1.8532623613647894,
            "x": -0.977277879876411,
            "y": -1.4543656745987648
           },
           {
            "id": 5,
            "time": 23,
            "value": -2.4345308382251147,
            "x": -0.977277879876411,
            "y": -1.4543656745987648
           },
           {
            "id": 5,
            "time": 24,
            "value": -3.3232510955787458,
            "x": -0.977277879876411,
            "y": -1.4543656745987648
           },
           {
            "id": 5,
            "time": 25,
            "value": -3.7670871887339437,
            "x": -0.977277879876411,
            "y": -1.4543656745987648
           },
           {
            "id": 5,
            "time": 26,
            "value": -3.5705297880051585,
            "x": -0.977277879876411,
            "y": -1.4543656745987648
           },
           {
            "id": 5,
            "time": 27,
            "value": -4.04116744615995,
            "x": -0.977277879876411,
            "y": -1.4543656745987648
           },
           {
            "id": 5,
            "time": 28,
            "value": -4.6312250920294895,
            "x": -0.977277879876411,
            "y": -1.4543656745987648
           },
           {
            "id": 5,
            "time": 29,
            "value": -5.857421283812508,
            "x": -0.977277879876411,
            "y": -1.4543656745987648
           },
           {
            "id": 5,
            "time": 30,
            "value": -6.162384921666929,
            "x": -0.977277879876411,
            "y": -1.4543656745987648
           },
           {
            "id": 5,
            "time": 31,
            "value": -6.8117228493973165,
            "x": -0.977277879876411,
            "y": -1.4543656745987648
           },
           {
            "id": 5,
            "time": 32,
            "value": -9.64627735467202,
            "x": -0.977277879876411,
            "y": -1.4543656745987648
           },
           {
            "id": 5,
            "time": 33,
            "value": -7.514123944101575,
            "x": -0.977277879876411,
            "y": -1.4543656745987648
           },
           {
            "id": 5,
            "time": 34,
            "value": -8.401304885946615,
            "x": -0.977277879876411,
            "y": -1.4543656745987648
           },
           {
            "id": 5,
            "time": 35,
            "value": -7.845517921863742,
            "x": -0.977277879876411,
            "y": -1.4543656745987648
           },
           {
            "id": 5,
            "time": 36,
            "value": -8.948424134819112,
            "x": -0.977277879876411,
            "y": -1.4543656745987648
           },
           {
            "id": 5,
            "time": 37,
            "value": -8.799974553439034,
            "x": -0.977277879876411,
            "y": -1.4543656745987648
           },
           {
            "id": 5,
            "time": 38,
            "value": -8.394770473116147,
            "x": -0.977277879876411,
            "y": -1.4543656745987648
           },
           {
            "id": 5,
            "time": 39,
            "value": -8.067807877711688,
            "x": -0.977277879876411,
            "y": -1.4543656745987648
           },
           {
            "id": 5,
            "time": 40,
            "value": -8.260984579261528,
            "x": -0.977277879876411,
            "y": -1.4543656745987648
           },
           {
            "id": 5,
            "time": 41,
            "value": -9.277723227871297,
            "x": -0.977277879876411,
            "y": -1.4543656745987648
           },
           {
            "id": 5,
            "time": 42,
            "value": -10.165503364507233,
            "x": -0.977277879876411,
            "y": -1.4543656745987648
           },
           {
            "id": 5,
            "time": 43,
            "value": -8.342779764379273,
            "x": -0.977277879876411,
            "y": -1.4543656745987648
           },
           {
            "id": 5,
            "time": 44,
            "value": -6.0031549583592145,
            "x": -0.977277879876411,
            "y": -1.4543656745987648
           },
           {
            "id": 5,
            "time": 45,
            "value": -5.744438518129469,
            "x": -0.977277879876411,
            "y": -1.4543656745987648
           },
           {
            "id": 5,
            "time": 46,
            "value": -5.81924350080981,
            "x": -0.977277879876411,
            "y": -1.4543656745987648
           },
           {
            "id": 5,
            "time": 47,
            "value": -5.3861355476584665,
            "x": -0.977277879876411,
            "y": -1.4543656745987648
           },
           {
            "id": 5,
            "time": 48,
            "value": -5.184655600954033,
            "x": -0.977277879876411,
            "y": -1.4543656745987648
           },
           {
            "id": 5,
            "time": 49,
            "value": -5.976770621519184,
            "x": -0.977277879876411,
            "y": -1.4543656745987648
           },
           {
            "id": 6,
            "time": 0,
            "value": -1.2527953600499262,
            "x": 0.9500884175255894,
            "y": 0.04575851730144607
           },
           {
            "id": 6,
            "time": 1,
            "value": -2.882993707015971,
            "x": 0.9500884175255894,
            "y": 0.04575851730144607
           },
           {
            "id": 6,
            "time": 2,
            "value": -1.7042141358563203,
            "x": 0.9500884175255894,
            "y": 0.04575851730144607
           },
           {
            "id": 6,
            "time": 3,
            "value": -2.1178331166160675,
            "x": 0.9500884175255894,
            "y": 0.04575851730144607
           },
           {
            "id": 6,
            "time": 4,
            "value": -2.552986668337705,
            "x": 0.9500884175255894,
            "y": 0.04575851730144607
           },
           {
            "id": 6,
            "time": 5,
            "value": -3.4658088937818636,
            "x": 0.9500884175255894,
            "y": 0.04575851730144607
           },
           {
            "id": 6,
            "time": 6,
            "value": -4.466024241171429,
            "x": 0.9500884175255894,
            "y": 0.04575851730144607
           },
           {
            "id": 6,
            "time": 7,
            "value": -5.570407580599879,
            "x": 0.9500884175255894,
            "y": 0.04575851730144607
           },
           {
            "id": 6,
            "time": 8,
            "value": -5.594733704998815,
            "x": 0.9500884175255894,
            "y": 0.04575851730144607
           },
           {
            "id": 6,
            "time": 9,
            "value": -5.438227167033439,
            "x": 0.9500884175255894,
            "y": 0.04575851730144607
           },
           {
            "id": 6,
            "time": 10,
            "value": -4.285895602250319,
            "x": 0.9500884175255894,
            "y": 0.04575851730144607
           },
           {
            "id": 6,
            "time": 11,
            "value": -3.7620045784161134,
            "x": 0.9500884175255894,
            "y": 0.04575851730144607
           },
           {
            "id": 6,
            "time": 12,
            "value": -4.807257944563068,
            "x": 0.9500884175255894,
            "y": 0.04575851730144607
           },
           {
            "id": 6,
            "time": 13,
            "value": -6.141516415965821,
            "x": 0.9500884175255894,
            "y": 0.04575851730144607
           },
           {
            "id": 6,
            "time": 14,
            "value": -6.299183432129637,
            "x": 0.9500884175255894,
            "y": 0.04575851730144607
           },
           {
            "id": 6,
            "time": 15,
            "value": -6.663876976521323,
            "x": 0.9500884175255894,
            "y": 0.04575851730144607
           },
           {
            "id": 6,
            "time": 16,
            "value": -6.854530470102722,
            "x": 0.9500884175255894,
            "y": 0.04575851730144607
           },
           {
            "id": 6,
            "time": 17,
            "value": -7.840041207786872,
            "x": 0.9500884175255894,
            "y": 0.04575851730144607
           },
           {
            "id": 6,
            "time": 18,
            "value": -7.025521385299006,
            "x": 0.9500884175255894,
            "y": 0.04575851730144607
           },
           {
            "id": 6,
            "time": 19,
            "value": -6.0824752979764884,
            "x": 0.9500884175255894,
            "y": 0.04575851730144607
           },
           {
            "id": 6,
            "time": 20,
            "value": -5.625059691755498,
            "x": 0.9500884175255894,
            "y": 0.04575851730144607
           },
           {
            "id": 6,
            "time": 21,
            "value": -6.585564073388646,
            "x": 0.9500884175255894,
            "y": 0.04575851730144607
           },
           {
            "id": 6,
            "time": 22,
            "value": -5.072235990815441,
            "x": 0.9500884175255894,
            "y": 0.04575851730144607
           },
           {
            "id": 6,
            "time": 23,
            "value": -6.704870517049937,
            "x": 0.9500884175255894,
            "y": 0.04575851730144607
           },
           {
            "id": 6,
            "time": 24,
            "value": -5.76812805351468,
            "x": 0.9500884175255894,
            "y": 0.04575851730144607
           },
           {
            "id": 6,
            "time": 25,
            "value": -4.689930749800442,
            "x": 0.9500884175255894,
            "y": 0.04575851730144607
           },
           {
            "id": 6,
            "time": 26,
            "value": -4.335173056687224,
            "x": 0.9500884175255894,
            "y": 0.04575851730144607
           },
           {
            "id": 6,
            "time": 27,
            "value": -4.552122626623873,
            "x": 0.9500884175255894,
            "y": 0.04575851730144607
           },
           {
            "id": 6,
            "time": 28,
            "value": -4.6626120316898,
            "x": 0.9500884175255894,
            "y": 0.04575851730144607
           },
           {
            "id": 6,
            "time": 29,
            "value": -4.479272832432199,
            "x": 0.9500884175255894,
            "y": 0.04575851730144607
           },
           {
            "id": 6,
            "time": 30,
            "value": -3.4503373398373443,
            "x": 0.9500884175255894,
            "y": 0.04575851730144607
           },
           {
            "id": 6,
            "time": 31,
            "value": -3.4737604448587964,
            "x": 0.9500884175255894,
            "y": 0.04575851730144607
           },
           {
            "id": 6,
            "time": 32,
            "value": -1.356969423375121,
            "x": 0.9500884175255894,
            "y": 0.04575851730144607
           },
           {
            "id": 6,
            "time": 33,
            "value": -0.4205236975440052,
            "x": 0.9500884175255894,
            "y": 0.04575851730144607
           },
           {
            "id": 6,
            "time": 34,
            "value": -1.3533127390504434,
            "x": 0.9500884175255894,
            "y": 0.04575851730144607
           },
           {
            "id": 6,
            "time": 35,
            "value": -1.342963424484144,
            "x": 0.9500884175255894,
            "y": 0.04575851730144607
           },
           {
            "id": 6,
            "time": 36,
            "value": -1.4446606990390156,
            "x": 0.9500884175255894,
            "y": 0.04575851730144607
           },
           {
            "id": 6,
            "time": 37,
            "value": -0.915615460704584,
            "x": 0.9500884175255894,
            "y": 0.04575851730144607
           },
           {
            "id": 6,
            "time": 38,
            "value": -0.4175630560217273,
            "x": 0.9500884175255894,
            "y": 0.04575851730144607
           },
           {
            "id": 6,
            "time": 39,
            "value": -0.08752794151141563,
            "x": 0.9500884175255894,
            "y": 0.04575851730144607
           },
           {
            "id": 6,
            "time": 40,
            "value": 0.668212347383127,
            "x": 0.9500884175255894,
            "y": 0.04575851730144607
           },
           {
            "id": 6,
            "time": 41,
            "value": 0.5534370226123287,
            "x": 0.9500884175255894,
            "y": 0.04575851730144607
           },
           {
            "id": 6,
            "time": 42,
            "value": 1.4898355661647882,
            "x": 0.9500884175255894,
            "y": 0.04575851730144607
           },
           {
            "id": 6,
            "time": 43,
            "value": 0.9682558881714151,
            "x": 0.9500884175255894,
            "y": 0.04575851730144607
           },
           {
            "id": 6,
            "time": 44,
            "value": 0.6918230431555779,
            "x": 0.9500884175255894,
            "y": 0.04575851730144607
           },
           {
            "id": 6,
            "time": 45,
            "value": 0.9674237171396343,
            "x": 0.9500884175255894,
            "y": 0.04575851730144607
           },
           {
            "id": 6,
            "time": 46,
            "value": 0.9796557007784517,
            "x": 0.9500884175255894,
            "y": 0.04575851730144607
           },
           {
            "id": 6,
            "time": 47,
            "value": 0.5737139735899682,
            "x": 0.9500884175255894,
            "y": 0.04575851730144607
           },
           {
            "id": 6,
            "time": 48,
            "value": 1.1144875588903584,
            "x": 0.9500884175255894,
            "y": 0.04575851730144607
           },
           {
            "id": 6,
            "time": 49,
            "value": 0.06896300182089266,
            "x": 0.9500884175255894,
            "y": 0.04575851730144607
           },
           {
            "id": 7,
            "time": 0,
            "value": 0.7774903558319101,
            "x": -0.1513572082976979,
            "y": -0.1871838500258336
           },
           {
            "id": 7,
            "time": 1,
            "value": 1.2402726113576843,
            "x": -0.1513572082976979,
            "y": -0.1871838500258336
           },
           {
            "id": 7,
            "time": 2,
            "value": 1.0603477755453334,
            "x": -0.1513572082976979,
            "y": -0.1871838500258336
           },
           {
            "id": 7,
            "time": 3,
            "value": 0.3128929641045757,
            "x": -0.1513572082976979,
            "y": -0.1871838500258336
           },
           {
            "id": 7,
            "time": 4,
            "value": 2.1621566925839177,
            "x": -0.1513572082976979,
            "y": -0.1871838500258336
           },
           {
            "id": 7,
            "time": 5,
            "value": 3.2791729806797707,
            "x": -0.1513572082976979,
            "y": -0.1871838500258336
           },
           {
            "id": 7,
            "time": 6,
            "value": 1.734401883902159,
            "x": -0.1513572082976979,
            "y": -0.1871838500258336
           },
           {
            "id": 7,
            "time": 7,
            "value": 1.7865669631631336,
            "x": -0.1513572082976979,
            "y": -0.1871838500258336
           },
           {
            "id": 7,
            "time": 8,
            "value": 1.0485360539574449,
            "x": -0.1513572082976979,
            "y": -0.1871838500258336
           },
           {
            "id": 7,
            "time": 9,
            "value": 1.2807170901577207,
            "x": -0.1513572082976979,
            "y": -0.1871838500258336
           },
           {
            "id": 7,
            "time": 10,
            "value": 2.360335682194542,
            "x": -0.1513572082976979,
            "y": -0.1871838500258336
           },
           {
            "id": 7,
            "time": 11,
            "value": 2.448757769239203,
            "x": -0.1513572082976979,
            "y": -0.1871838500258336
           },
           {
            "id": 7,
            "time": 12,
            "value": 3.6599030589219037,
            "x": -0.1513572082976979,
            "y": -0.1871838500258336
           },
           {
            "id": 7,
            "time": 13,
            "value": 2.3131855531243484,
            "x": -0.1513572082976979,
            "y": -0.1871838500258336
           },
           {
            "id": 7,
            "time": 14,
            "value": 4.569909050422558,
            "x": -0.1513572082976979,
            "y": -0.1871838500258336
           },
           {
            "id": 7,
            "time": 15,
            "value": 4.726612905694922,
            "x": -0.1513572082976979,
            "y": -0.1871838500258336
           },
           {
            "id": 7,
            "time": 16,
            "value": 4.331763391661472,
            "x": -0.1513572082976979,
            "y": -0.1871838500258336
           },
           {
            "id": 7,
            "time": 17,
            "value": 2.859928384197885,
            "x": -0.1513572082976979,
            "y": -0.1871838500258336
           },
           {
            "id": 7,
            "time": 18,
            "value": 2.918853973379515,
            "x": -0.1513572082976979,
            "y": -0.1871838500258336
           },
           {
            "id": 7,
            "time": 19,
            "value": 0.1791768061899588,
            "x": -0.1513572082976979,
            "y": -0.1871838500258336
           },
           {
            "id": 7,
            "time": 20,
            "value": -0.7854352075437696,
            "x": -0.1513572082976979,
            "y": -0.1871838500258336
           },
           {
            "id": 7,
            "time": 21,
            "value": -1.5785525702514414,
            "x": -0.1513572082976979,
            "y": -0.1871838500258336
           },
           {
            "id": 7,
            "time": 22,
            "value": -1.0254205060438575,
            "x": -0.1513572082976979,
            "y": -0.1871838500258336
           },
           {
            "id": 7,
            "time": 23,
            "value": -2.5931882303523115,
            "x": -0.1513572082976979,
            "y": -0.1871838500258336
           },
           {
            "id": 7,
            "time": 24,
            "value": -1.1808605243148684,
            "x": -0.1513572082976979,
            "y": -0.1871838500258336
           },
           {
            "id": 7,
            "time": 25,
            "value": -3.740045190658965,
            "x": -0.1513572082976979,
            "y": -0.1871838500258336
           },
           {
            "id": 7,
            "time": 26,
            "value": -3.123158636265686,
            "x": -0.1513572082976979,
            "y": -0.1871838500258336
           },
           {
            "id": 7,
            "time": 27,
            "value": -2.677765385370889,
            "x": -0.1513572082976979,
            "y": -0.1871838500258336
           },
           {
            "id": 7,
            "time": 28,
            "value": -4.3384651972401524,
            "x": -0.1513572082976979,
            "y": -0.1871838500258336
           },
           {
            "id": 7,
            "time": 29,
            "value": -2.667522164451295,
            "x": -0.1513572082976979,
            "y": -0.1871838500258336
           },
           {
            "id": 7,
            "time": 30,
            "value": -2.7398091720113,
            "x": -0.1513572082976979,
            "y": -0.1871838500258336
           },
           {
            "id": 7,
            "time": 31,
            "value": -1.6606144438988109,
            "x": -0.1513572082976979,
            "y": -0.1871838500258336
           },
           {
            "id": 7,
            "time": 32,
            "value": -3.2714928473487443,
            "x": -0.1513572082976979,
            "y": -0.1871838500258336
           },
           {
            "id": 7,
            "time": 33,
            "value": -3.306588024218415,
            "x": -0.1513572082976979,
            "y": -0.1871838500258336
           },
           {
            "id": 7,
            "time": 34,
            "value": -2.06326863976326,
            "x": -0.1513572082976979,
            "y": -0.1871838500258336
           },
           {
            "id": 7,
            "time": 35,
            "value": -1.3432348804216072,
            "x": -0.1513572082976979,
            "y": -0.1871838500258336
           },
           {
            "id": 7,
            "time": 36,
            "value": -1.32395549590853,
            "x": -0.1513572082976979,
            "y": -0.1871838500258336
           },
           {
            "id": 7,
            "time": 37,
            "value": -0.9013268741997044,
            "x": -0.1513572082976979,
            "y": -0.1871838500258336
           },
           {
            "id": 7,
            "time": 38,
            "value": -0.9275191115439548,
            "x": -0.1513572082976979,
            "y": -0.1871838500258336
           },
           {
            "id": 7,
            "time": 39,
            "value": 1.298425220194304,
            "x": -0.1513572082976979,
            "y": -0.1871838500258336
           },
           {
            "id": 7,
            "time": 40,
            "value": 0.7592925834413141,
            "x": -0.1513572082976979,
            "y": -0.1871838500258336
           },
           {
            "id": 7,
            "time": 41,
            "value": 1.0680438252779272,
            "x": -0.1513572082976979,
            "y": -0.1871838500258336
           },
           {
            "id": 7,
            "time": 42,
            "value": 0.5424032321759875,
            "x": -0.1513572082976979,
            "y": -0.1871838500258336
           },
           {
            "id": 7,
            "time": 43,
            "value": -0.6422833582355645,
            "x": -0.1513572082976979,
            "y": -0.1871838500258336
           },
           {
            "id": 7,
            "time": 44,
            "value": -0.9018603400696039,
            "x": -0.1513572082976979,
            "y": -0.1871838500258336
           },
           {
            "id": 7,
            "time": 45,
            "value": 0.5331890467195506,
            "x": -0.1513572082976979,
            "y": -0.1871838500258336
           },
           {
            "id": 7,
            "time": 46,
            "value": 2.1024486612554547,
            "x": -0.1513572082976979,
            "y": -0.1871838500258336
           },
           {
            "id": 7,
            "time": 47,
            "value": 2.8268171661254193,
            "x": -0.1513572082976979,
            "y": -0.1871838500258336
           },
           {
            "id": 7,
            "time": 48,
            "value": 1.0087395357418498,
            "x": -0.1513572082976979,
            "y": -0.1871838500258336
           },
           {
            "id": 7,
            "time": 49,
            "value": -0.07611652371959532,
            "x": -0.1513572082976979,
            "y": -0.1871838500258336
           },
           {
            "id": 8,
            "time": 0,
            "value": -1.6138978475579515,
            "x": -0.10321885179355784,
            "y": 1.5327792143584575
           },
           {
            "id": 8,
            "time": 1,
            "value": -2.5211962119411937,
            "x": -0.10321885179355784,
            "y": 1.5327792143584575
           },
           {
            "id": 8,
            "time": 2,
            "value": -3.5919488334517364,
            "x": -0.10321885179355784,
            "y": 1.5327792143584575
           },
           {
            "id": 8,
            "time": 3,
            "value": -1.6690068069713517,
            "x": -0.10321885179355784,
            "y": 1.5327792143584575
           },
           {
            "id": 8,
            "time": 4,
            "value": -0.9967120499589163,
            "x": -0.10321885179355784,
            "y": 1.5327792143584575
           },
           {
            "id": 8,
            "time": 5,
            "value": -2.3126194604704375,
            "x": -0.10321885179355784,
            "y": 1.5327792143584575
           },
           {
            "id": 8,
            "time": 6,
            "value": -1.1245896681181358,
            "x": -0.10321885179355784,
            "y": 1.5327792143584575
           },
           {
            "id": 8,
            "time": 7,
            "value": -1.864152664509449,
            "x": -0.10321885179355784,
            "y": 1.5327792143584575
           },
           {
            "id": 8,
            "time": 8,
            "value": -1.5842280654662109,
            "x": -0.10321885179355784,
            "y": 1.5327792143584575
           },
           {
            "id": 8,
            "time": 9,
            "value": -2.1815441344315736,
            "x": -0.10321885179355784,
            "y": 1.5327792143584575
           },
           {
            "id": 8,
            "time": 10,
            "value": -2.9949083936357765,
            "x": -0.10321885179355784,
            "y": 1.5327792143584575
           },
           {
            "id": 8,
            "time": 11,
            "value": -3.3057945653342484,
            "x": -0.10321885179355784,
            "y": 1.5327792143584575
           },
           {
            "id": 8,
            "time": 12,
            "value": -2.61597640079946,
            "x": -0.10321885179355784,
            "y": 1.5327792143584575
           },
           {
            "id": 8,
            "time": 13,
            "value": -1.9222032481093276,
            "x": -0.10321885179355784,
            "y": 1.5327792143584575
           },
           {
            "id": 8,
            "time": 14,
            "value": -2.626903523965561,
            "x": -0.10321885179355784,
            "y": 1.5327792143584575
           },
           {
            "id": 8,
            "time": 15,
            "value": -2.0483820262366828,
            "x": -0.10321885179355784,
            "y": 1.5327792143584575
           },
           {
            "id": 8,
            "time": 16,
            "value": -2.316115563130649,
            "x": -0.10321885179355784,
            "y": 1.5327792143584575
           },
           {
            "id": 8,
            "time": 17,
            "value": -0.6679806309230896,
            "x": -0.10321885179355784,
            "y": 1.5327792143584575
           },
           {
            "id": 8,
            "time": 18,
            "value": -0.8530343019324311,
            "x": -0.10321885179355784,
            "y": 1.5327792143584575
           },
           {
            "id": 8,
            "time": 19,
            "value": -1.4223463554026163,
            "x": -0.10321885179355784,
            "y": 1.5327792143584575
           },
           {
            "id": 8,
            "time": 20,
            "value": -2.2049755112301415,
            "x": -0.10321885179355784,
            "y": 1.5327792143584575
           },
           {
            "id": 8,
            "time": 21,
            "value": -4.49359555124467,
            "x": -0.10321885179355784,
            "y": 1.5327792143584575
           },
           {
            "id": 8,
            "time": 22,
            "value": -4.539299511904905,
            "x": -0.10321885179355784,
            "y": 1.5327792143584575
           },
           {
            "id": 8,
            "time": 23,
            "value": -5.718457442542593,
            "x": -0.10321885179355784,
            "y": 1.5327792143584575
           },
           {
            "id": 8,
            "time": 24,
            "value": -8.088044347769195,
            "x": -0.10321885179355784,
            "y": 1.5327792143584575
           },
           {
            "id": 8,
            "time": 25,
            "value": -6.906665746480909,
            "x": -0.10321885179355784,
            "y": 1.5327792143584575
           },
           {
            "id": 8,
            "time": 26,
            "value": -6.898037847563333,
            "x": -0.10321885179355784,
            "y": 1.5327792143584575
           },
           {
            "id": 8,
            "time": 27,
            "value": -7.29042684571297,
            "x": -0.10321885179355784,
            "y": 1.5327792143584575
           },
           {
            "id": 8,
            "time": 28,
            "value": -7.175278972572878,
            "x": -0.10321885179355784,
            "y": 1.5327792143584575
           },
           {
            "id": 8,
            "time": 29,
            "value": -7.231411993021635,
            "x": -0.10321885179355784,
            "y": 1.5327792143584575
           },
           {
            "id": 8,
            "time": 30,
            "value": -7.832069550679424,
            "x": -0.10321885179355784,
            "y": 1.5327792143584575
           },
           {
            "id": 8,
            "time": 31,
            "value": -9.836285266178338,
            "x": -0.10321885179355784,
            "y": 1.5327792143584575
           },
           {
            "id": 8,
            "time": 32,
            "value": -9.87205333803856,
            "x": -0.10321885179355784,
            "y": 1.5327792143584575
           },
           {
            "id": 8,
            "time": 33,
            "value": -8.606975499949794,
            "x": -0.10321885179355784,
            "y": 1.5327792143584575
           },
           {
            "id": 8,
            "time": 34,
            "value": -7.794301457840751,
            "x": -0.10321885179355784,
            "y": 1.5327792143584575
           },
           {
            "id": 8,
            "time": 35,
            "value": -9.618558113778581,
            "x": -0.10321885179355784,
            "y": 1.5327792143584575
           },
           {
            "id": 8,
            "time": 36,
            "value": -7.7689668670989445,
            "x": -0.10321885179355784,
            "y": 1.5327792143584575
           },
           {
            "id": 8,
            "time": 37,
            "value": -9.128747592602759,
            "x": -0.10321885179355784,
            "y": 1.5327792143584575
           },
           {
            "id": 8,
            "time": 38,
            "value": -10.81697762037419,
            "x": -0.10321885179355784,
            "y": 1.5327792143584575
           },
           {
            "id": 8,
            "time": 39,
            "value": -9.445988614083069,
            "x": -0.10321885179355784,
            "y": 1.5327792143584575
           },
           {
            "id": 8,
            "time": 40,
            "value": -10.195678958785965,
            "x": -0.10321885179355784,
            "y": 1.5327792143584575
           },
           {
            "id": 8,
            "time": 41,
            "value": -11.566438941329025,
            "x": -0.10321885179355784,
            "y": 1.5327792143584575
           },
           {
            "id": 8,
            "time": 42,
            "value": -11.295268756691714,
            "x": -0.10321885179355784,
            "y": 1.5327792143584575
           },
           {
            "id": 8,
            "time": 43,
            "value": -10.334575358231055,
            "x": -0.10321885179355784,
            "y": 1.5327792143584575
           },
           {
            "id": 8,
            "time": 44,
            "value": -9.97009410899055,
            "x": -0.10321885179355784,
            "y": 1.5327792143584575
           },
           {
            "id": 8,
            "time": 45,
            "value": -9.462855157880934,
            "x": -0.10321885179355784,
            "y": 1.5327792143584575
           },
           {
            "id": 8,
            "time": 46,
            "value": -8.772426133497886,
            "x": -0.10321885179355784,
            "y": 1.5327792143584575
           },
           {
            "id": 8,
            "time": 47,
            "value": -7.387164586775656,
            "x": -0.10321885179355784,
            "y": 1.5327792143584575
           },
           {
            "id": 8,
            "time": 48,
            "value": -7.4364886569232285,
            "x": -0.10321885179355784,
            "y": 1.5327792143584575
           },
           {
            "id": 8,
            "time": 49,
            "value": -6.319183341386564,
            "x": -0.10321885179355784,
            "y": 1.5327792143584575
           },
           {
            "id": 9,
            "time": 0,
            "value": -0.2127402802139687,
            "x": 0.41059850193837233,
            "y": 1.469358769900285
           },
           {
            "id": 9,
            "time": 1,
            "value": -0.16079488441782974,
            "x": 0.41059850193837233,
            "y": 1.469358769900285
           },
           {
            "id": 9,
            "time": 2,
            "value": 0.8936568425133069,
            "x": 0.41059850193837233,
            "y": 1.469358769900285
           },
           {
            "id": 9,
            "time": 3,
            "value": 2.3741716339477312,
            "x": 0.41059850193837233,
            "y": 1.469358769900285
           },
           {
            "id": 9,
            "time": 4,
            "value": 2.781633470188842,
            "x": 0.41059850193837233,
            "y": 1.469358769900285
           },
           {
            "id": 9,
            "time": 5,
            "value": 2.320048865374133,
            "x": 0.41059850193837233,
            "y": 1.469358769900285
           },
           {
            "id": 9,
            "time": 6,
            "value": 2.6369914772989826,
            "x": 0.41059850193837233,
            "y": 1.469358769900285
           },
           {
            "id": 9,
            "time": 7,
            "value": 4.1800060727057184,
            "x": 0.41059850193837233,
            "y": 1.469358769900285
           },
           {
            "id": 9,
            "time": 8,
            "value": 4.08185568306276,
            "x": 0.41059850193837233,
            "y": 1.469358769900285
           },
           {
            "id": 9,
            "time": 9,
            "value": 3.8439339533267534,
            "x": 0.41059850193837233,
            "y": 1.469358769900285
           },
           {
            "id": 9,
            "time": 10,
            "value": 2.3775096255242394,
            "x": 0.41059850193837233,
            "y": 1.469358769900285
           },
           {
            "id": 9,
            "time": 11,
            "value": 2.474909791793023,
            "x": 0.41059850193837233,
            "y": 1.469358769900285
           },
           {
            "id": 9,
            "time": 12,
            "value": 3.7767560213580214,
            "x": 0.41059850193837233,
            "y": 1.469358769900285
           },
           {
            "id": 9,
            "time": 13,
            "value": 3.6171825832117546,
            "x": 0.41059850193837233,
            "y": 1.469358769900285
           },
           {
            "id": 9,
            "time": 14,
            "value": 4.56044330818125,
            "x": 0.41059850193837233,
            "y": 1.469358769900285
           },
           {
            "id": 9,
            "time": 15,
            "value": 4.910097765174424,
            "x": 0.41059850193837233,
            "y": 1.469358769900285
           },
           {
            "id": 9,
            "time": 16,
            "value": 3.782086433704417,
            "x": 0.41059850193837233,
            "y": 1.469358769900285
           },
           {
            "id": 9,
            "time": 17,
            "value": 3.946314189191751,
            "x": 0.41059850193837233,
            "y": 1.469358769900285
           },
           {
            "id": 9,
            "time": 18,
            "value": 3.138665701575395,
            "x": 0.41059850193837233,
            "y": 1.469358769900285
           },
           {
            "id": 9,
            "time": 19,
            "value": 3.4085700565161563,
            "x": 0.41059850193837233,
            "y": 1.469358769900285
           },
           {
            "id": 9,
            "time": 20,
            "value": 3.2981807574892685,
            "x": 0.41059850193837233,
            "y": 1.469358769900285
           },
           {
            "id": 9,
            "time": 21,
            "value": 3.5496651725108057,
            "x": 0.41059850193837233,
            "y": 1.469358769900285
           },
           {
            "id": 9,
            "time": 22,
            "value": 3.770172828267979,
            "x": 0.41059850193837233,
            "y": 1.469358769900285
           },
           {
            "id": 9,
            "time": 23,
            "value": 5.07160089993274,
            "x": 0.41059850193837233,
            "y": 1.469358769900285
           },
           {
            "id": 9,
            "time": 24,
            "value": 5.935653200430388,
            "x": 0.41059850193837233,
            "y": 1.469358769900285
           },
           {
            "id": 9,
            "time": 25,
            "value": 5.303749442425221,
            "x": 0.41059850193837233,
            "y": 1.469358769900285
           },
           {
            "id": 9,
            "time": 26,
            "value": 5.83075365087988,
            "x": 0.41059850193837233,
            "y": 1.469358769900285
           },
           {
            "id": 9,
            "time": 27,
            "value": 2.7846105960799536,
            "x": 0.41059850193837233,
            "y": 1.469358769900285
           },
           {
            "id": 9,
            "time": 28,
            "value": 2.405463033200031,
            "x": 0.41059850193837233,
            "y": 1.469358769900285
           },
           {
            "id": 9,
            "time": 29,
            "value": 2.404077990464935,
            "x": 0.41059850193837233,
            "y": 1.469358769900285
           },
           {
            "id": 9,
            "time": 30,
            "value": 3.9563211705134957,
            "x": 0.41059850193837233,
            "y": 1.469358769900285
           },
           {
            "id": 9,
            "time": 31,
            "value": 4.333197691364388,
            "x": 0.41059850193837233,
            "y": 1.469358769900285
           },
           {
            "id": 9,
            "time": 32,
            "value": 6.713943042584138,
            "x": 0.41059850193837233,
            "y": 1.469358769900285
           },
           {
            "id": 9,
            "time": 33,
            "value": 6.925440055316017,
            "x": 0.41059850193837233,
            "y": 1.469358769900285
           },
           {
            "id": 9,
            "time": 34,
            "value": 7.5126994347158425,
            "x": 0.41059850193837233,
            "y": 1.469358769900285
           },
           {
            "id": 9,
            "time": 35,
            "value": 7.816303339177844,
            "x": 0.41059850193837233,
            "y": 1.469358769900285
           },
           {
            "id": 9,
            "time": 36,
            "value": 7.6021366829777595,
            "x": 0.41059850193837233,
            "y": 1.469358769900285
           },
           {
            "id": 9,
            "time": 37,
            "value": 7.560735871419792,
            "x": 0.41059850193837233,
            "y": 1.469358769900285
           },
           {
            "id": 9,
            "time": 38,
            "value": 7.4482698888602386,
            "x": 0.41059850193837233,
            "y": 1.469358769900285
           },
           {
            "id": 9,
            "time": 39,
            "value": 6.9384266467217595,
            "x": 0.41059850193837233,
            "y": 1.469358769900285
           },
           {
            "id": 9,
            "time": 40,
            "value": 6.971235394335471,
            "x": 0.41059850193837233,
            "y": 1.469358769900285
           },
           {
            "id": 9,
            "time": 41,
            "value": 7.836888317151324,
            "x": 0.41059850193837233,
            "y": 1.469358769900285
           },
           {
            "id": 9,
            "time": 42,
            "value": 7.035391431756949,
            "x": 0.41059850193837233,
            "y": 1.469358769900285
           },
           {
            "id": 9,
            "time": 43,
            "value": 8.36445427829663,
            "x": 0.41059850193837233,
            "y": 1.469358769900285
           },
           {
            "id": 9,
            "time": 44,
            "value": 9.835776234438969,
            "x": 0.41059850193837233,
            "y": 1.469358769900285
           },
           {
            "id": 9,
            "time": 45,
            "value": 9.719546534051819,
            "x": 0.41059850193837233,
            "y": 1.469358769900285
           },
           {
            "id": 9,
            "time": 46,
            "value": 10.51621864241649,
            "x": 0.41059850193837233,
            "y": 1.469358769900285
           },
           {
            "id": 9,
            "time": 47,
            "value": 10.213120388992417,
            "x": 0.41059850193837233,
            "y": 1.469358769900285
           },
           {
            "id": 9,
            "time": 48,
            "value": 10.452153990239182,
            "x": 0.41059850193837233,
            "y": 1.469358769900285
           },
           {
            "id": 9,
            "time": 49,
            "value": 9.93325378581433,
            "x": 0.41059850193837233,
            "y": 1.469358769900285
           },
           {
            "id": 10,
            "time": 0,
            "value": -0.8954665611936756,
            "x": 0.144043571160878,
            "y": 0.1549474256969163
           },
           {
            "id": 10,
            "time": 1,
            "value": -0.16637599901613875,
            "x": 0.144043571160878,
            "y": 0.1549474256969163
           },
           {
            "id": 10,
            "time": 2,
            "value": -0.5695529459893184,
            "x": 0.144043571160878,
            "y": 0.1549474256969163
           },
           {
            "id": 10,
            "time": 3,
            "value": 1.2980060144372514,
            "x": 0.144043571160878,
            "y": 0.1549474256969163
           },
           {
            "id": 10,
            "time": 4,
            "value": 0.528089939991935,
            "x": 0.144043571160878,
            "y": 0.1549474256969163
           },
           {
            "id": 10,
            "time": 5,
            "value": 0.45984833466730374,
            "x": 0.144043571160878,
            "y": 0.1549474256969163
           },
           {
            "id": 10,
            "time": 6,
            "value": 1.3807071584481228,
            "x": 0.144043571160878,
            "y": 0.1549474256969163
           },
           {
            "id": 10,
            "time": 7,
            "value": 0.08785024872467417,
            "x": 0.144043571160878,
            "y": 0.1549474256969163
           },
           {
            "id": 10,
            "time": 8,
            "value": 0.9980291568172661,
            "x": 0.144043571160878,
            "y": 0.1549474256969163
           },
           {
            "id": 10,
            "time": 9,
            "value": -0.42603175216526545,
            "x": 0.144043571160878,
            "y": 0.1549474256969163
           },
           {
            "id": 10,
            "time": 10,
            "value": 0.09503312428749311,
            "x": 0.144043571160878,
            "y": 0.1549474256969163
           },
           {
            "id": 10,
            "time": 11,
            "value": 0.4940794699276233,
            "x": 0.144043571160878,
            "y": 0.1549474256969163
           },
           {
            "id": 10,
            "time": 12,
            "value": -0.1340080897139556,
            "x": 0.144043571160878,
            "y": 0.1549474256969163
           },
           {
            "id": 10,
            "time": 13,
            "value": -0.2677096493823948,
            "x": 0.144043571160878,
            "y": 0.1549474256969163
           },
           {
            "id": 10,
            "time": 14,
            "value": 0.47947868482223704,
            "x": 0.144043571160878,
            "y": 0.1549474256969163
           },
           {
            "id": 10,
            "time": 15,
            "value": -0.284665239084206,
            "x": 0.144043571160878,
            "y": 0.1549474256969163
           },
           {
            "id": 10,
            "time": 16,
            "value": -0.004223533767910015,
            "x": 0.144043571160878,
            "y": 0.1549474256969163
           },
           {
            "id": 10,
            "time": 17,
            "value": 0.5630667440847594,
            "x": 0.144043571160878,
            "y": 0.1549474256969163
           },
           {
            "id": 10,
            "time": 18,
            "value": -0.8834679554786284,
            "x": 0.144043571160878,
            "y": 0.1549474256969163
           },
           {
            "id": 10,
            "time": 19,
            "value": -1.350313501531391,
            "x": 0.144043571160878,
            "y": 0.1549474256969163
           },
           {
            "id": 10,
            "time": 20,
            "value": -2.4049419655164046,
            "x": 0.144043571160878,
            "y": 0.1549474256969163
           },
           {
            "id": 10,
            "time": 21,
            "value": -4.421348593316164,
            "x": 0.144043571160878,
            "y": 0.1549474256969163
           },
           {
            "id": 10,
            "time": 22,
            "value": -5.451283876625141,
            "x": 0.144043571160878,
            "y": 0.1549474256969163
           },
           {
            "id": 10,
            "time": 23,
            "value": -4.556023603735211,
            "x": 0.144043571160878,
            "y": 0.1549474256969163
           },
           {
            "id": 10,
            "time": 24,
            "value": -6.795627662396948,
            "x": 0.144043571160878,
            "y": 0.1549474256969163
           },
           {
            "id": 10,
            "time": 25,
            "value": -6.631699089944361,
            "x": 0.144043571160878,
            "y": 0.1549474256969163
           },
           {
            "id": 10,
            "time": 26,
            "value": -6.177917177308677,
            "x": 0.144043571160878,
            "y": 0.1549474256969163
           },
           {
            "id": 10,
            "time": 27,
            "value": -5.6346052859211575,
            "x": 0.144043571160878,
            "y": 0.1549474256969163
           },
           {
            "id": 10,
            "time": 28,
            "value": -7.376961483730388,
            "x": 0.144043571160878,
            "y": 0.1549474256969163
           },
           {
            "id": 10,
            "time": 29,
            "value": -8.064260520887052,
            "x": 0.144043571160878,
            "y": 0.1549474256969163
           },
           {
            "id": 10,
            "time": 30,
            "value": -7.777356032883706,
            "x": 0.144043571160878,
            "y": 0.1549474256969163
           },
           {
            "id": 10,
            "time": 31,
            "value": -8.323068006901488,
            "x": 0.144043571160878,
            "y": 0.1549474256969163
           },
           {
            "id": 10,
            "time": 32,
            "value": -7.992491250627115,
            "x": 0.144043571160878,
            "y": 0.1549474256969163
           },
           {
            "id": 10,
            "time": 33,
            "value": -8.697412603134559,
            "x": 0.144043571160878,
            "y": 0.1549474256969163
           },
           {
            "id": 10,
            "time": 34,
            "value": -9.202770920398969,
            "x": 0.144043571160878,
            "y": 0.1549474256969163
           },
           {
            "id": 10,
            "time": 35,
            "value": -8.430076083296587,
            "x": 0.144043571160878,
            "y": 0.1549474256969163
           },
           {
            "id": 10,
            "time": 36,
            "value": -8.92909272129077,
            "x": 0.144043571160878,
            "y": 0.1549474256969163
           },
           {
            "id": 10,
            "time": 37,
            "value": -9.686963581715936,
            "x": 0.144043571160878,
            "y": 0.1549474256969163
           },
           {
            "id": 10,
            "time": 38,
            "value": -10.219453500925004,
            "x": 0.144043571160878,
            "y": 0.1549474256969163
           },
           {
            "id": 10,
            "time": 39,
            "value": -9.894583885128819,
            "x": 0.144043571160878,
            "y": 0.1549474256969163
           },
           {
            "id": 10,
            "time": 40,
            "value": -12.477380518098764,
            "x": 0.144043571160878,
            "y": 0.1549474256969163
           },
           {
            "id": 10,
            "time": 41,
            "value": -11.396004483640574,
            "x": 0.144043571160878,
            "y": 0.1549474256969163
           },
           {
            "id": 10,
            "time": 42,
            "value": -12.043185915488335,
            "x": 0.144043571160878,
            "y": 0.1549474256969163
           },
           {
            "id": 10,
            "time": 43,
            "value": -12.860679013104562,
            "x": 0.144043571160878,
            "y": 0.1549474256969163
           },
           {
            "id": 10,
            "time": 44,
            "value": -11.26790825868708,
            "x": 0.144043571160878,
            "y": 0.1549474256969163
           },
           {
            "id": 10,
            "time": 45,
            "value": -12.215396853593958,
            "x": 0.144043571160878,
            "y": 0.1549474256969163
           },
           {
            "id": 10,
            "time": 46,
            "value": -12.873322946130754,
            "x": 0.144043571160878,
            "y": 0.1549474256969163
           },
           {
            "id": 10,
            "time": 47,
            "value": -12.432290038857603,
            "x": 0.144043571160878,
            "y": 0.1549474256969163
           },
           {
            "id": 10,
            "time": 48,
            "value": -13.432620387811308,
            "x": 0.144043571160878,
            "y": 0.1549474256969163
           },
           {
            "id": 10,
            "time": 49,
            "value": -14.18632485399191,
            "x": 0.144043571160878,
            "y": 0.1549474256969163
           },
           {
            "id": 11,
            "time": 0,
            "value": 0.386902497859262,
            "x": 1.454273506962975,
            "y": 0.37816251960217356
           },
           {
            "id": 11,
            "time": 1,
            "value": 0.5158854086166726,
            "x": 1.454273506962975,
            "y": 0.37816251960217356
           },
           {
            "id": 11,
            "time": 2,
            "value": 1.7383304789991,
            "x": 1.454273506962975,
            "y": 0.37816251960217356
           },
           {
            "id": 11,
            "time": 3,
            "value": 2.6443751372744853,
            "x": 1.454273506962975,
            "y": 0.37816251960217356
           },
           {
            "id": 11,
            "time": 4,
            "value": 3.1836243285663026,
            "x": 1.454273506962975,
            "y": 0.37816251960217356
           },
           {
            "id": 11,
            "time": 5,
            "value": 4.896967050215669,
            "x": 1.454273506962975,
            "y": 0.37816251960217356
           },
           {
            "id": 11,
            "time": 6,
            "value": 5.21569470315869,
            "x": 1.454273506962975,
            "y": 0.37816251960217356
           },
           {
            "id": 11,
            "time": 7,
            "value": 5.4827455725078735,
            "x": 1.454273506962975,
            "y": 0.37816251960217356
           },
           {
            "id": 11,
            "time": 8,
            "value": 5.799963787699175,
            "x": 1.454273506962975,
            "y": 0.37816251960217356
           },
           {
            "id": 11,
            "time": 9,
            "value": 5.3066439043369815,
            "x": 1.454273506962975,
            "y": 0.37816251960217356
           },
           {
            "id": 11,
            "time": 10,
            "value": 4.730855934523915,
            "x": 1.454273506962975,
            "y": 0.37816251960217356
           },
           {
            "id": 11,
            "time": 11,
            "value": 1.958263178097265,
            "x": 1.454273506962975,
            "y": 0.37816251960217356
           },
           {
            "id": 11,
            "time": 12,
            "value": 1.4772360596364773,
            "x": 1.454273506962975,
            "y": 0.37816251960217356
           },
           {
            "id": 11,
            "time": 13,
            "value": 2.55497986561274,
            "x": 1.454273506962975,
            "y": 0.37816251960217356
           },
           {
            "id": 11,
            "time": 14,
            "value": 1.366034910409004,
            "x": 1.454273506962975,
            "y": 0.37816251960217356
           },
           {
            "id": 11,
            "time": 15,
            "value": -0.07175656339257452,
            "x": 1.454273506962975,
            "y": 0.37816251960217356
           },
           {
            "id": 11,
            "time": 16,
            "value": -1.0648801743221552,
            "x": 1.454273506962975,
            "y": 0.37816251960217356
           },
           {
            "id": 11,
            "time": 17,
            "value": -1.2875552748373096,
            "x": 1.454273506962975,
            "y": 0.37816251960217356
           },
           {
            "id": 11,
            "time": 18,
            "value": -0.48725732549728207,
            "x": 1.454273506962975,
            "y": 0.37816251960217356
           },
           {
            "id": 11,
            "time": 19,
            "value": -1.9041634386235415,
            "x": 1.454273506962975,
            "y": 0.37816251960217356
           },
           {
            "id": 11,
            "time": 20,
            "value": -1.0839156012988602,
            "x": 1.454273506962975,
            "y": 0.37816251960217356
           },
           {
            "id": 11,
            "time": 21,
            "value": -1.6233702346733616,
            "x": 1.454273506962975,
            "y": 0.37816251960217356
           },
           {
            "id": 11,
            "time": 22,
            "value": -1.9733135992624664,
            "x": 1.454273506962975,
            "y": 0.37816251960217356
           },
           {
            "id": 11,
            "time": 23,
            "value": -0.5983495328694766,
            "x": 1.454273506962975,
            "y": 0.37816251960217356
           },
           {
            "id": 11,
            "time": 24,
            "value": -0.19685047777918907,
            "x": 1.454273506962975,
            "y": 0.37816251960217356
           },
           {
            "id": 11,
            "time": 25,
            "value": -0.10052912185799225,
            "x": 1.454273506962975,
            "y": 0.37816251960217356
           },
           {
            "id": 11,
            "time": 26,
            "value": -1.9302695328625237,
            "x": 1.454273506962975,
            "y": 0.37816251960217356
           },
           {
            "id": 11,
            "time": 27,
            "value": -1.4912265751904812,
            "x": 1.454273506962975,
            "y": 0.37816251960217356
           },
           {
            "id": 11,
            "time": 28,
            "value": -2.794469329302797,
            "x": 1.454273506962975,
            "y": 0.37816251960217356
           },
           {
            "id": 11,
            "time": 29,
            "value": -2.911943875720908,
            "x": 1.454273506962975,
            "y": 0.37816251960217356
           },
           {
            "id": 11,
            "time": 30,
            "value": -5.232538151511649,
            "x": 1.454273506962975,
            "y": 0.37816251960217356
           },
           {
            "id": 11,
            "time": 31,
            "value": -7.117123996491097,
            "x": 1.454273506962975,
            "y": 0.37816251960217356
           },
           {
            "id": 11,
            "time": 32,
            "value": -6.167877522932861,
            "x": 1.454273506962975,
            "y": 0.37816251960217356
           },
           {
            "id": 11,
            "time": 33,
            "value": -5.4879026786877585,
            "x": 1.454273506962975,
            "y": 0.37816251960217356
           },
           {
            "id": 11,
            "time": 34,
            "value": -6.30369422068173,
            "x": 1.454273506962975,
            "y": 0.37816251960217356
           },
           {
            "id": 11,
            "time": 35,
            "value": -7.965292511796294,
            "x": 1.454273506962975,
            "y": 0.37816251960217356
           },
           {
            "id": 11,
            "time": 36,
            "value": -7.943941287952746,
            "x": 1.454273506962975,
            "y": 0.37816251960217356
           },
           {
            "id": 11,
            "time": 37,
            "value": -7.9940253822375675,
            "x": 1.454273506962975,
            "y": 0.37816251960217356
           },
           {
            "id": 11,
            "time": 38,
            "value": -7.34897010877769,
            "x": 1.454273506962975,
            "y": 0.37816251960217356
           },
           {
            "id": 11,
            "time": 39,
            "value": -6.351852127985931,
            "x": 1.454273506962975,
            "y": 0.37816251960217356
           },
           {
            "id": 11,
            "time": 40,
            "value": -7.50580249163794,
            "x": 1.454273506962975,
            "y": 0.37816251960217356
           },
           {
            "id": 11,
            "time": 41,
            "value": -8.137178480087329,
            "x": 1.454273506962975,
            "y": 0.37816251960217356
           },
           {
            "id": 11,
            "time": 42,
            "value": -7.6649313299994795,
            "x": 1.454273506962975,
            "y": 0.37816251960217356
           },
           {
            "id": 11,
            "time": 43,
            "value": -9.06627862303879,
            "x": 1.454273506962975,
            "y": 0.37816251960217356
           },
           {
            "id": 11,
            "time": 44,
            "value": -9.324851254715561,
            "x": 1.454273506962975,
            "y": 0.37816251960217356
           },
           {
            "id": 11,
            "time": 45,
            "value": -9.080407798753928,
            "x": 1.454273506962975,
            "y": 0.37816251960217356
           },
           {
            "id": 11,
            "time": 46,
            "value": -8.111525160190878,
            "x": 1.454273506962975,
            "y": 0.37816251960217356
           },
           {
            "id": 11,
            "time": 47,
            "value": -7.932732294457698,
            "x": 1.454273506962975,
            "y": 0.37816251960217356
           },
           {
            "id": 11,
            "time": 48,
            "value": -6.258746587446987,
            "x": 1.454273506962975,
            "y": 0.37816251960217356
           },
           {
            "id": 11,
            "time": 49,
            "value": -6.12105676154364,
            "x": 1.454273506962975,
            "y": 0.37816251960217356
           },
           {
            "id": 12,
            "time": 0,
            "value": -0.510805137568873,
            "x": 0.7610377251469934,
            "y": -0.8877857476301128
           },
           {
            "id": 12,
            "time": 1,
            "value": 0.6285955469744277,
            "x": 0.7610377251469934,
            "y": -0.8877857476301128
           },
           {
            "id": 12,
            "time": 2,
            "value": 0.836870525051288,
            "x": 0.7610377251469934,
            "y": -0.8877857476301128
           },
           {
            "id": 12,
            "time": 3,
            "value": -0.024355160003414533,
            "x": 0.7610377251469934,
            "y": -0.8877857476301128
           },
           {
            "id": 12,
            "time": 4,
            "value": -0.6986878206607906,
            "x": 0.7610377251469934,
            "y": -0.8877857476301128
           },
           {
            "id": 12,
            "time": 5,
            "value": -1.4434426427092304,
            "x": 0.7610377251469934,
            "y": -0.8877857476301128
           },
           {
            "id": 12,
            "time": 6,
            "value": -0.5866120308065392,
            "x": 0.7610377251469934,
            "y": -0.8877857476301128
           },
           {
            "id": 12,
            "time": 7,
            "value": -0.6258948490340348,
            "x": 0.7610377251469934,
            "y": -0.8877857476301128
           },
           {
            "id": 12,
            "time": 8,
            "value": 0.16043311307494135,
            "x": 0.7610377251469934,
            "y": -0.8877857476301128
           },
           {
            "id": 12,
            "time": 9,
            "value": -0.3824283629417764,
            "x": 0.7610377251469934,
            "y": -0.8877857476301128
           },
           {
            "id": 12,
            "time": 10,
            "value": -0.24047519962099673,
            "x": 0.7610377251469934,
            "y": -0.8877857476301128
           },
           {
            "id": 12,
            "time": 11,
            "value": 1.7154371086296973,
            "x": 0.7610377251469934,
            "y": -0.8877857476301128
           },
           {
            "id": 12,
            "time": 12,
            "value": 4.019353806313639,
            "x": 0.7610377251469934,
            "y": -0.8877857476301128
           },
           {
            "id": 12,
            "time": 13,
            "value": 2.892527997556895,
            "x": 0.7610377251469934,
            "y": -0.8877857476301128
           },
           {
            "id": 12,
            "time": 14,
            "value": 3.6657809749594947,
            "x": 0.7610377251469934,
            "y": -0.8877857476301128
           },
           {
            "id": 12,
            "time": 15,
            "value": 5.030312823061966,
            "x": 0.7610377251469934,
            "y": -0.8877857476301128
           },
           {
            "id": 12,
            "time": 16,
            "value": 5.871944087135602,
            "x": 0.7610377251469934,
            "y": -0.8877857476301128
           },
           {
            "id": 12,
            "time": 17,
            "value": 5.518512338378403,
            "x": 0.7610377251469934,
            "y": -0.8877857476301128
           },
           {
            "id": 12,
            "time": 18,
            "value": 5.2093978936066945,
            "x": 0.7610377251469934,
            "y": -0.8877857476301128
           },
           {
            "id": 12,
            "time": 19,
            "value": 6.07836138050349,
            "x": 0.7610377251469934,
            "y": -0.8877857476301128
           },
           {
            "id": 12,
            "time": 20,
            "value": 6.541491709822097,
            "x": 0.7610377251469934,
            "y": -0.8877857476301128
           },
           {
            "id": 12,
            "time": 21,
            "value": 6.26582117526154,
            "x": 0.7610377251469934,
            "y": -0.8877857476301128
           },
           {
            "id": 12,
            "time": 22,
            "value": 7.366105513481914,
            "x": 0.7610377251469934,
            "y": -0.8877857476301128
           },
           {
            "id": 12,
            "time": 23,
            "value": 6.033893858887412,
            "x": 0.7610377251469934,
            "y": -0.8877857476301128
           },
           {
            "id": 12,
            "time": 24,
            "value": 7.258764423081072,
            "x": 0.7610377251469934,
            "y": -0.8877857476301128
           },
           {
            "id": 12,
            "time": 25,
            "value": 8.201232542301465,
            "x": 0.7610377251469934,
            "y": -0.8877857476301128
           },
           {
            "id": 12,
            "time": 26,
            "value": 8.238238264211615,
            "x": 0.7610377251469934,
            "y": -0.8877857476301128
           },
           {
            "id": 12,
            "time": 27,
            "value": 8.018697235880403,
            "x": 0.7610377251469934,
            "y": -0.8877857476301128
           },
           {
            "id": 12,
            "time": 28,
            "value": 8.62381731996257,
            "x": 0.7610377251469934,
            "y": -0.8877857476301128
           },
           {
            "id": 12,
            "time": 29,
            "value": 9.0899837459966,
            "x": 0.7610377251469934,
            "y": -0.8877857476301128
           },
           {
            "id": 12,
            "time": 30,
            "value": 9.407144372289288,
            "x": 0.7610377251469934,
            "y": -0.8877857476301128
           },
           {
            "id": 12,
            "time": 31,
            "value": 7.461441289125329,
            "x": 0.7610377251469934,
            "y": -0.8877857476301128
           },
           {
            "id": 12,
            "time": 32,
            "value": 5.959044719743616,
            "x": 0.7610377251469934,
            "y": -0.8877857476301128
           },
           {
            "id": 12,
            "time": 33,
            "value": 5.262718065882534,
            "x": 0.7610377251469934,
            "y": -0.8877857476301128
           },
           {
            "id": 12,
            "time": 34,
            "value": 4.755200464225177,
            "x": 0.7610377251469934,
            "y": -0.8877857476301128
           },
           {
            "id": 12,
            "time": 35,
            "value": 5.203395748648489,
            "x": 0.7610377251469934,
            "y": -0.8877857476301128
           },
           {
            "id": 12,
            "time": 36,
            "value": 4.284282303778546,
            "x": 0.7610377251469934,
            "y": -0.8877857476301128
           },
           {
            "id": 12,
            "time": 37,
            "value": 3.386881376876715,
            "x": 0.7610377251469934,
            "y": -0.8877857476301128
           },
           {
            "id": 12,
            "time": 38,
            "value": 4.398723809870904,
            "x": 0.7610377251469934,
            "y": -0.8877857476301128
           },
           {
            "id": 12,
            "time": 39,
            "value": 4.429325634209422,
            "x": 0.7610377251469934,
            "y": -0.8877857476301128
           },
           {
            "id": 12,
            "time": 40,
            "value": 4.081363778288576,
            "x": 0.7610377251469934,
            "y": -0.8877857476301128
           },
           {
            "id": 12,
            "time": 41,
            "value": 3.840025986835472,
            "x": 0.7610377251469934,
            "y": -0.8877857476301128
           },
           {
            "id": 12,
            "time": 42,
            "value": 4.770434482946588,
            "x": 0.7610377251469934,
            "y": -0.8877857476301128
           },
           {
            "id": 12,
            "time": 43,
            "value": 5.800872750362193,
            "x": 0.7610377251469934,
            "y": -0.8877857476301128
           },
           {
            "id": 12,
            "time": 44,
            "value": 6.109203996321538,
            "x": 0.7610377251469934,
            "y": -0.8877857476301128
           },
           {
            "id": 12,
            "time": 45,
            "value": 7.510548827613498,
            "x": 0.7610377251469934,
            "y": -0.8877857476301128
           },
           {
            "id": 12,
            "time": 46,
            "value": 7.736130491182301,
            "x": 0.7610377251469934,
            "y": -0.8877857476301128
           },
           {
            "id": 12,
            "time": 47,
            "value": 6.936708091639205,
            "x": 0.7610377251469934,
            "y": -0.8877857476301128
           },
           {
            "id": 12,
            "time": 48,
            "value": 7.098267358877373,
            "x": 0.7610377251469934,
            "y": -0.8877857476301128
           },
           {
            "id": 12,
            "time": 49,
            "value": 6.891322648320082,
            "x": 0.7610377251469934,
            "y": -0.8877857476301128
           },
           {
            "id": 13,
            "time": 0,
            "value": -1.180632184122412,
            "x": 0.12167501649282841,
            "y": -1.980796468223927
           },
           {
            "id": 13,
            "time": 1,
            "value": -2.415458004476065,
            "x": 0.12167501649282841,
            "y": -1.980796468223927
           },
           {
            "id": 13,
            "time": 2,
            "value": -1.4388189679923522,
            "x": 0.12167501649282841,
            "y": -1.980796468223927
           },
           {
            "id": 13,
            "time": 3,
            "value": 0.4712459851066815,
            "x": 0.12167501649282841,
            "y": -1.980796468223927
           },
           {
            "id": 13,
            "time": 4,
            "value": 0.5030765433810327,
            "x": 0.12167501649282841,
            "y": -1.980796468223927
           },
           {
            "id": 13,
            "time": 5,
            "value": -0.3233619952779817,
            "x": 0.12167501649282841,
            "y": -1.980796468223927
           },
           {
            "id": 13,
            "time": 6,
            "value": -0.9743875885781286,
            "x": 0.12167501649282841,
            "y": -1.980796468223927
           },
           {
            "id": 13,
            "time": 7,
            "value": -2.142481086319326,
            "x": 0.12167501649282841,
            "y": -1.980796468223927
           },
           {
            "id": 13,
            "time": 8,
            "value": -2.608900183055269,
            "x": 0.12167501649282841,
            "y": -1.980796468223927
           },
           {
            "id": 13,
            "time": 9,
            "value": -2.1928501367938433,
            "x": 0.12167501649282841,
            "y": -1.980796468223927
           },
           {
            "id": 13,
            "time": 10,
            "value": -2.5121785539389387,
            "x": 0.12167501649282841,
            "y": -1.980796468223927
           },
           {
            "id": 13,
            "time": 11,
            "value": -2.1220852312510123,
            "x": 0.12167501649282841,
            "y": -1.980796468223927
           },
           {
            "id": 13,
            "time": 12,
            "value": -3.1821010539725596,
            "x": 0.12167501649282841,
            "y": -1.980796468223927
           },
           {
            "id": 13,
            "time": 13,
            "value": -3.9127788068373843,
            "x": 0.12167501649282841,
            "y": -1.980796468223927
           },
           {
            "id": 13,
            "time": 14,
            "value": -5.096659447030702,
            "x": 0.12167501649282841,
            "y": -1.980796468223927
           },
           {
            "id": 13,
            "time": 15,
            "value": -5.78610863158064,
            "x": 0.12167501649282841,
            "y": -1.980796468223927
           },
           {
            "id": 13,
            "time": 16,
            "value": -6.035567211741589,
            "x": 0.12167501649282841,
            "y": -1.980796468223927
           },
           {
            "id": 13,
            "time": 17,
            "value": -7.652041400392622,
            "x": 0.12167501649282841,
            "y": -1.980796468223927
           },
           {
            "id": 13,
            "time": 18,
            "value": -7.8855080619363145,
            "x": 0.12167501649282841,
            "y": -1.980796468223927
           },
           {
            "id": 13,
            "time": 19,
            "value": -7.608636156090187,
            "x": 0.12167501649282841,
            "y": -1.980796468223927
           },
           {
            "id": 13,
            "time": 20,
            "value": -7.3295403916977335,
            "x": 0.12167501649282841,
            "y": -1.980796468223927
           },
           {
            "id": 13,
            "time": 21,
            "value": -8.039268357544621,
            "x": 0.12167501649282841,
            "y": -1.980796468223927
           },
           {
            "id": 13,
            "time": 22,
            "value": -6.7412463852184,
            "x": 0.12167501649282841,
            "y": -1.980796468223927
           },
           {
            "id": 13,
            "time": 23,
            "value": -8.70987107500442,
            "x": 0.12167501649282841,
            "y": -1.980796468223927
           },
           {
            "id": 13,
            "time": 24,
            "value": -8.645014968660844,
            "x": 0.12167501649282841,
            "y": -1.980796468223927
           },
           {
            "id": 13,
            "time": 25,
            "value": -8.912609714896192,
            "x": 0.12167501649282841,
            "y": -1.980796468223927
           },
           {
            "id": 13,
            "time": 26,
            "value": -8.144707307163488,
            "x": 0.12167501649282841,
            "y": -1.980796468223927
           },
           {
            "id": 13,
            "time": 27,
            "value": -9.228743927835422,
            "x": 0.12167501649282841,
            "y": -1.980796468223927
           },
           {
            "id": 13,
            "time": 28,
            "value": -8.333187942284098,
            "x": 0.12167501649282841,
            "y": -1.980796468223927
           },
           {
            "id": 13,
            "time": 29,
            "value": -8.703430382988442,
            "x": 0.12167501649282841,
            "y": -1.980796468223927
           },
           {
            "id": 13,
            "time": 30,
            "value": -8.183389768417573,
            "x": 0.12167501649282841,
            "y": -1.980796468223927
           },
           {
            "id": 13,
            "time": 31,
            "value": -9.096173262552865,
            "x": 0.12167501649282841,
            "y": -1.980796468223927
           },
           {
            "id": 13,
            "time": 32,
            "value": -10.87384021728657,
            "x": 0.12167501649282841,
            "y": -1.980796468223927
           },
           {
            "id": 13,
            "time": 33,
            "value": -11.164237318090438,
            "x": 0.12167501649282841,
            "y": -1.980796468223927
           },
           {
            "id": 13,
            "time": 34,
            "value": -12.216117420642112,
            "x": 0.12167501649282841,
            "y": -1.980796468223927
           },
           {
            "id": 13,
            "time": 35,
            "value": -10.51993584781395,
            "x": 0.12167501649282841,
            "y": -1.980796468223927
           },
           {
            "id": 13,
            "time": 36,
            "value": -10.327181998748735,
            "x": 0.12167501649282841,
            "y": -1.980796468223927
           },
           {
            "id": 13,
            "time": 37,
            "value": -9.014711631607739,
            "x": 0.12167501649282841,
            "y": -1.980796468223927
           },
           {
            "id": 13,
            "time": 38,
            "value": -9.672662676368907,
            "x": 0.12167501649282841,
            "y": -1.980796468223927
           },
           {
            "id": 13,
            "time": 39,
            "value": -9.742304254815842,
            "x": 0.12167501649282841,
            "y": -1.980796468223927
           },
           {
            "id": 13,
            "time": 40,
            "value": -11.095693112963556,
            "x": 0.12167501649282841,
            "y": -1.980796468223927
           },
           {
            "id": 13,
            "time": 41,
            "value": -11.97388345577363,
            "x": 0.12167501649282841,
            "y": -1.980796468223927
           },
           {
            "id": 13,
            "time": 42,
            "value": -12.14919985810065,
            "x": 0.12167501649282841,
            "y": -1.980796468223927
           },
           {
            "id": 13,
            "time": 43,
            "value": -14.196523471158612,
            "x": 0.12167501649282841,
            "y": -1.980796468223927
           },
           {
            "id": 13,
            "time": 44,
            "value": -15.574606938222688,
            "x": 0.12167501649282841,
            "y": -1.980796468223927
           },
           {
            "id": 13,
            "time": 45,
            "value": -15.98498873188056,
            "x": 0.12167501649282841,
            "y": -1.980796468223927
           },
           {
            "id": 13,
            "time": 46,
            "value": -14.595843416202632,
            "x": 0.12167501649282841,
            "y": -1.980796468223927
           },
           {
            "id": 13,
            "time": 47,
            "value": -14.355055906460693,
            "x": 0.12167501649282841,
            "y": -1.980796468223927
           },
           {
            "id": 13,
            "time": 48,
            "value": -12.791651161431764,
            "x": 0.12167501649282841,
            "y": -1.980796468223927
           },
           {
            "id": 13,
            "time": 49,
            "value": -13.469746622218011,
            "x": 0.12167501649282841,
            "y": -1.980796468223927
           },
           {
            "id": 14,
            "time": 0,
            "value": -0.028182228338654868,
            "x": 0.44386323274542566,
            "y": -0.3479121493261526
           },
           {
            "id": 14,
            "time": 1,
            "value": 0.37415941283889415,
            "x": 0.44386323274542566,
            "y": -0.3479121493261526
           },
           {
            "id": 14,
            "time": 2,
            "value": 0.7305258100132961,
            "x": 0.44386323274542566,
            "y": -0.3479121493261526
           },
           {
            "id": 14,
            "time": 3,
            "value": 0.4625224390619157,
            "x": 0.44386323274542566,
            "y": -0.3479121493261526
           },
           {
            "id": 14,
            "time": 4,
            "value": -0.17332363931696526,
            "x": 0.44386323274542566,
            "y": -0.3479121493261526
           },
           {
            "id": 14,
            "time": 5,
            "value": -0.27177616374239755,
            "x": 0.44386323274542566,
            "y": -0.3479121493261526
           },
           {
            "id": 14,
            "time": 6,
            "value": -1.3060190055268621,
            "x": 0.44386323274542566,
            "y": -0.3479121493261526
           },
           {
            "id": 14,
            "time": 7,
            "value": -0.7827423449951084,
            "x": 0.44386323274542566,
            "y": -0.3479121493261526
           },
           {
            "id": 14,
            "time": 8,
            "value": -1.7271886009133588,
            "x": 0.44386323274542566,
            "y": -0.3479121493261526
           },
           {
            "id": 14,
            "time": 9,
            "value": -2.8833710327352717,
            "x": 0.44386323274542566,
            "y": -0.3479121493261526
           },
           {
            "id": 14,
            "time": 10,
            "value": -2.1918322816650853,
            "x": 0.44386323274542566,
            "y": -0.3479121493261526
           },
           {
            "id": 14,
            "time": 11,
            "value": -2.8442408640521055,
            "x": 0.44386323274542566,
            "y": -0.3479121493261526
           },
           {
            "id": 14,
            "time": 12,
            "value": -2.9801905647304263,
            "x": 0.44386323274542566,
            "y": -0.3479121493261526
           },
           {
            "id": 14,
            "time": 13,
            "value": -3.365070373911702,
            "x": 0.44386323274542566,
            "y": -0.3479121493261526
           },
           {
            "id": 14,
            "time": 14,
            "value": -6.024242611908443,
            "x": 0.44386323274542566,
            "y": -0.3479121493261526
           },
           {
            "id": 14,
            "time": 15,
            "value": -6.676536211843462,
            "x": 0.44386323274542566,
            "y": -0.3479121493261526
           },
           {
            "id": 14,
            "time": 16,
            "value": -6.627041230193371,
            "x": 0.44386323274542566,
            "y": -0.3479121493261526
           },
           {
            "id": 14,
            "time": 17,
            "value": -6.918878592941234,
            "x": 0.44386323274542566,
            "y": -0.3479121493261526
           },
           {
            "id": 14,
            "time": 18,
            "value": -5.186157406022101,
            "x": 0.44386323274542566,
            "y": -0.3479121493261526
           },
           {
            "id": 14,
            "time": 19,
            "value": -6.157261976466586,
            "x": 0.44386323274542566,
            "y": -0.3479121493261526
           },
           {
            "id": 14,
            "time": 20,
            "value": -5.818357851250641,
            "x": 0.44386323274542566,
            "y": -0.3479121493261526
           },
           {
            "id": 14,
            "time": 21,
            "value": -4.07948517379613,
            "x": 0.44386323274542566,
            "y": -0.3479121493261526
           },
           {
            "id": 14,
            "time": 22,
            "value": -1.3832611212325507,
            "x": 0.44386323274542566,
            "y": -0.3479121493261526
           },
           {
            "id": 14,
            "time": 23,
            "value": -2.0433174413666335,
            "x": 0.44386323274542566,
            "y": -0.3479121493261526
           },
           {
            "id": 14,
            "time": 24,
            "value": -3.3230066145708728,
            "x": 0.44386323274542566,
            "y": -0.3479121493261526
           },
           {
            "id": 14,
            "time": 25,
            "value": -4.001032396135323,
            "x": 0.44386323274542566,
            "y": -0.3479121493261526
           },
           {
            "id": 14,
            "time": 26,
            "value": -3.411152575400804,
            "x": 0.44386323274542566,
            "y": -0.3479121493261526
           },
           {
            "id": 14,
            "time": 27,
            "value": -3.059372464719446,
            "x": 0.44386323274542566,
            "y": -0.3479121493261526
           },
           {
            "id": 14,
            "time": 28,
            "value": -3.1912811044994127,
            "x": 0.44386323274542566,
            "y": -0.3479121493261526
           },
           {
            "id": 14,
            "time": 29,
            "value": -3.645085145551414,
            "x": 0.44386323274542566,
            "y": -0.3479121493261526
           },
           {
            "id": 14,
            "time": 30,
            "value": -3.41947649108031,
            "x": 0.44386323274542566,
            "y": -0.3479121493261526
           },
           {
            "id": 14,
            "time": 31,
            "value": -3.199966935287265,
            "x": 0.44386323274542566,
            "y": -0.3479121493261526
           },
           {
            "id": 14,
            "time": 32,
            "value": -3.7326697272668192,
            "x": 0.44386323274542566,
            "y": -0.3479121493261526
           },
           {
            "id": 14,
            "time": 33,
            "value": -2.404887031308836,
            "x": 0.44386323274542566,
            "y": -0.3479121493261526
           },
           {
            "id": 14,
            "time": 34,
            "value": 0.09231336027817116,
            "x": 0.44386323274542566,
            "y": -0.3479121493261526
           },
           {
            "id": 14,
            "time": 35,
            "value": 0.07745565692346845,
            "x": 0.44386323274542566,
            "y": -0.3479121493261526
           },
           {
            "id": 14,
            "time": 36,
            "value": -0.2875995596227892,
            "x": 0.44386323274542566,
            "y": -0.3479121493261526
           },
           {
            "id": 14,
            "time": 37,
            "value": -1.1465719480671315,
            "x": 0.44386323274542566,
            "y": -0.3479121493261526
           },
           {
            "id": 14,
            "time": 38,
            "value": -0.6781867137900799,
            "x": 0.44386323274542566,
            "y": -0.3479121493261526
           },
           {
            "id": 14,
            "time": 39,
            "value": -0.6266117710201908,
            "x": 0.44386323274542566,
            "y": -0.3479121493261526
           },
           {
            "id": 14,
            "time": 40,
            "value": -1.6592548729123204,
            "x": 0.44386323274542566,
            "y": -0.3479121493261526
           },
           {
            "id": 14,
            "time": 41,
            "value": -0.9598743893245033,
            "x": 0.44386323274542566,
            "y": -0.3479121493261526
           },
           {
            "id": 14,
            "time": 42,
            "value": -2.38179426096494,
            "x": 0.44386323274542566,
            "y": -0.3479121493261526
           },
           {
            "id": 14,
            "time": 43,
            "value": -3.608415920361556,
            "x": 0.44386323274542566,
            "y": -0.3479121493261526
           },
           {
            "id": 14,
            "time": 44,
            "value": -3.9203920282777687,
            "x": 0.44386323274542566,
            "y": -0.3479121493261526
           },
           {
            "id": 14,
            "time": 45,
            "value": -3.3914484098611863,
            "x": 0.44386323274542566,
            "y": -0.3479121493261526
           },
           {
            "id": 14,
            "time": 46,
            "value": -1.3773882549427183,
            "x": 0.44386323274542566,
            "y": -0.3479121493261526
           },
           {
            "id": 14,
            "time": 47,
            "value": -1.0882677496639062,
            "x": 0.44386323274542566,
            "y": -0.3479121493261526
           },
           {
            "id": 14,
            "time": 48,
            "value": -1.8787907714969834,
            "x": 0.44386323274542566,
            "y": -0.3479121493261526
           },
           {
            "id": 14,
            "time": 49,
            "value": -1.1247993045185036,
            "x": 0.44386323274542566,
            "y": -0.3479121493261526
           },
           {
            "id": 15,
            "time": 0,
            "value": 0.42833187053041766,
            "x": 0.33367432737426683,
            "y": 0.15634896910398005
           },
           {
            "id": 15,
            "time": 1,
            "value": -0.25647822040989554,
            "x": 0.33367432737426683,
            "y": 0.15634896910398005
           },
           {
            "id": 15,
            "time": 2,
            "value": 0.4500949477820526,
            "x": 0.33367432737426683,
            "y": 0.15634896910398005
           },
           {
            "id": 15,
            "time": 3,
            "value": 1.2525513435784479,
            "x": 0.33367432737426683,
            "y": 0.15634896910398005
           },
           {
            "id": 15,
            "time": 4,
            "value": 1.9289846385249476,
            "x": 0.33367432737426683,
            "y": 0.15634896910398005
           },
           {
            "id": 15,
            "time": 5,
            "value": 1.2655063521628402,
            "x": 0.33367432737426683,
            "y": 0.15634896910398005
           },
           {
            "id": 15,
            "time": 6,
            "value": 1.9471008704444672,
            "x": 0.33367432737426683,
            "y": 0.15634896910398005
           },
           {
            "id": 15,
            "time": 7,
            "value": 1.7755545392222192,
            "x": 0.33367432737426683,
            "y": 0.15634896910398005
           },
           {
            "id": 15,
            "time": 8,
            "value": 1.3655048460196708,
            "x": 0.33367432737426683,
            "y": 0.15634896910398005
           },
           {
            "id": 15,
            "time": 9,
            "value": 2.146702947729664,
            "x": 0.33367432737426683,
            "y": 0.15634896910398005
           },
           {
            "id": 15,
            "time": 10,
            "value": 2.84145209138567,
            "x": 0.33367432737426683,
            "y": 0.15634896910398005
           },
           {
            "id": 15,
            "time": 11,
            "value": 2.450498716198069,
            "x": 0.33367432737426683,
            "y": 0.15634896910398005
           },
           {
            "id": 15,
            "time": 12,
            "value": 3.587390078800764,
            "x": 0.33367432737426683,
            "y": 0.15634896910398005
           },
           {
            "id": 15,
            "time": 13,
            "value": 3.681741668117838,
            "x": 0.33367432737426683,
            "y": 0.15634896910398005
           },
           {
            "id": 15,
            "time": 14,
            "value": 4.288061192477219,
            "x": 0.33367432737426683,
            "y": 0.15634896910398005
           },
           {
            "id": 15,
            "time": 15,
            "value": 3.766871880176108,
            "x": 0.33367432737426683,
            "y": 0.15634896910398005
           },
           {
            "id": 15,
            "time": 16,
            "value": 4.260708656457064,
            "x": 0.33367432737426683,
            "y": 0.15634896910398005
           },
           {
            "id": 15,
            "time": 17,
            "value": 3.4992164446454406,
            "x": 0.33367432737426683,
            "y": 0.15634896910398005
           },
           {
            "id": 15,
            "time": 18,
            "value": 4.183717551504631,
            "x": 0.33367432737426683,
            "y": 0.15634896910398005
           },
           {
            "id": 15,
            "time": 19,
            "value": 4.4985347560204545,
            "x": 0.33367432737426683,
            "y": 0.15634896910398005
           },
           {
            "id": 15,
            "time": 20,
            "value": 6.5195783175052515,
            "x": 0.33367432737426683,
            "y": 0.15634896910398005
           },
           {
            "id": 15,
            "time": 21,
            "value": 7.51397270882075,
            "x": 0.33367432737426683,
            "y": 0.15634896910398005
           },
           {
            "id": 15,
            "time": 22,
            "value": 7.440048042540336,
            "x": 0.33367432737426683,
            "y": 0.15634896910398005
           },
           {
            "id": 15,
            "time": 23,
            "value": 7.615866995836364,
            "x": 0.33367432737426683,
            "y": 0.15634896910398005
           },
           {
            "id": 15,
            "time": 24,
            "value": 7.030435791558592,
            "x": 0.33367432737426683,
            "y": 0.15634896910398005
           },
           {
            "id": 15,
            "time": 25,
            "value": 8.32828158220969,
            "x": 0.33367432737426683,
            "y": 0.15634896910398005
           },
           {
            "id": 15,
            "time": 26,
            "value": 7.964422772238901,
            "x": 0.33367432737426683,
            "y": 0.15634896910398005
           },
           {
            "id": 15,
            "time": 27,
            "value": 8.343658305774488,
            "x": 0.33367432737426683,
            "y": 0.15634896910398005
           },
           {
            "id": 15,
            "time": 28,
            "value": 8.748420117814986,
            "x": 0.33367432737426683,
            "y": 0.15634896910398005
           },
           {
            "id": 15,
            "time": 29,
            "value": 9.151684657978233,
            "x": 0.33367432737426683,
            "y": 0.15634896910398005
           },
           {
            "id": 15,
            "time": 30,
            "value": 9.601396758210226,
            "x": 0.33367432737426683,
            "y": 0.15634896910398005
           },
           {
            "id": 15,
            "time": 31,
            "value": 9.994459692190318,
            "x": 0.33367432737426683,
            "y": 0.15634896910398005
           },
           {
            "id": 15,
            "time": 32,
            "value": 11.085209426624818,
            "x": 0.33367432737426683,
            "y": 0.15634896910398005
           },
           {
            "id": 15,
            "time": 33,
            "value": 10.983927940407419,
            "x": 0.33367432737426683,
            "y": 0.15634896910398005
           },
           {
            "id": 15,
            "time": 34,
            "value": 8.738606292036017,
            "x": 0.33367432737426683,
            "y": 0.15634896910398005
           },
           {
            "id": 15,
            "time": 35,
            "value": 9.56001222906083,
            "x": 0.33367432737426683,
            "y": 0.15634896910398005
           },
           {
            "id": 15,
            "time": 36,
            "value": 7.7686846810196455,
            "x": 0.33367432737426683,
            "y": 0.15634896910398005
           },
           {
            "id": 15,
            "time": 37,
            "value": 6.869742524554109,
            "x": 0.33367432737426683,
            "y": 0.15634896910398005
           },
           {
            "id": 15,
            "time": 38,
            "value": 8.605621522239822,
            "x": 0.33367432737426683,
            "y": 0.15634896910398005
           },
           {
            "id": 15,
            "time": 39,
            "value": 9.47289815104825,
            "x": 0.33367432737426683,
            "y": 0.15634896910398005
           },
           {
            "id": 15,
            "time": 40,
            "value": 9.036149813590242,
            "x": 0.33367432737426683,
            "y": 0.15634896910398005
           },
           {
            "id": 15,
            "time": 41,
            "value": 7.974927526144333,
            "x": 0.33367432737426683,
            "y": 0.15634896910398005
           },
           {
            "id": 15,
            "time": 42,
            "value": 9.972883605894337,
            "x": 0.33367432737426683,
            "y": 0.15634896910398005
           },
           {
            "id": 15,
            "time": 43,
            "value": 10.940329755944571,
            "x": 0.33367432737426683,
            "y": 0.15634896910398005
           },
           {
            "id": 15,
            "time": 44,
            "value": 10.100039360465265,
            "x": 0.33367432737426683,
            "y": 0.15634896910398005
           },
           {
            "id": 15,
            "time": 45,
            "value": 10.34618714915011,
            "x": 0.33367432737426683,
            "y": 0.15634896910398005
           },
           {
            "id": 15,
            "time": 46,
            "value": 10.039421373123105,
            "x": 0.33367432737426683,
            "y": 0.15634896910398005
           },
           {
            "id": 15,
            "time": 47,
            "value": 10.45229219356928,
            "x": 0.33367432737426683,
            "y": 0.15634896910398005
           },
           {
            "id": 15,
            "time": 48,
            "value": 9.544992072043952,
            "x": 0.33367432737426683,
            "y": 0.15634896910398005
           },
           {
            "id": 15,
            "time": 49,
            "value": 10.610307564141946,
            "x": 0.33367432737426683,
            "y": 0.15634896910398005
           },
           {
            "id": 16,
            "time": 0,
            "value": 0.06651722238316789,
            "x": 1.4940790731576061,
            "y": 1.2302906807277207
           },
           {
            "id": 16,
            "time": 1,
            "value": -0.8042799267987139,
            "x": 1.4940790731576061,
            "y": 1.2302906807277207
           },
           {
            "id": 16,
            "time": 2,
            "value": -0.7937799060778934,
            "x": 1.4940790731576061,
            "y": 1.2302906807277207
           },
           {
            "id": 16,
            "time": 3,
            "value": 0.1534720616958546,
            "x": 1.4940790731576061,
            "y": 1.2302906807277207
           },
           {
            "id": 16,
            "time": 4,
            "value": 0.7300628783107955,
            "x": 1.4940790731576061,
            "y": 1.2302906807277207
           },
           {
            "id": 16,
            "time": 5,
            "value": 1.8566988004173024,
            "x": 1.4940790731576061,
            "y": 1.2302906807277207
           },
           {
            "id": 16,
            "time": 6,
            "value": 1.0532891362434613,
            "x": 1.4940790731576061,
            "y": 1.2302906807277207
           },
           {
            "id": 16,
            "time": 7,
            "value": 1.8250796874571287,
            "x": 1.4940790731576061,
            "y": 1.2302906807277207
           },
           {
            "id": 16,
            "time": 8,
            "value": 1.8080592735956882,
            "x": 1.4940790731576061,
            "y": 1.2302906807277207
           },
           {
            "id": 16,
            "time": 9,
            "value": 3.3025438180870568,
            "x": 1.4940790731576061,
            "y": 1.2302906807277207
           },
           {
            "id": 16,
            "time": 10,
            "value": 2.5769464396234723,
            "x": 1.4940790731576061,
            "y": 1.2302906807277207
           },
           {
            "id": 16,
            "time": 11,
            "value": 3.070688216972661,
            "x": 1.4940790731576061,
            "y": 1.2302906807277207
           },
           {
            "id": 16,
            "time": 12,
            "value": 3.1684131846875165,
            "x": 1.4940790731576061,
            "y": 1.2302906807277207
           },
           {
            "id": 16,
            "time": 13,
            "value": 3.1262417333969377,
            "x": 1.4940790731576061,
            "y": 1.2302906807277207
           },
           {
            "id": 16,
            "time": 14,
            "value": 1.3703511499592183,
            "x": 1.4940790731576061,
            "y": 1.2302906807277207
           },
           {
            "id": 16,
            "time": 15,
            "value": -0.4727184001974303,
            "x": 1.4940790731576061,
            "y": 1.2302906807277207
           },
           {
            "id": 16,
            "time": 16,
            "value": 0.1705960648654976,
            "x": 1.4940790731576061,
            "y": 1.2302906807277207
           },
           {
            "id": 16,
            "time": 17,
            "value": 1.028519989157834,
            "x": 1.4940790731576061,
            "y": 1.2302906807277207
           },
           {
            "id": 16,
            "time": 18,
            "value": 1.3993449904389361,
            "x": 1.4940790731576061,
            "y": 1.2302906807277207
           },
           {
            "id": 16,
            "time": 19,
            "value": 2.220930702488732,
            "x": 1.4940790731576061,
            "y": 1.2302906807277207
           },
           {
            "id": 16,
            "time": 20,
            "value": 1.7520665145219365,
            "x": 1.4940790731576061,
            "y": 1.2302906807277207
           },
           {
            "id": 16,
            "time": 21,
            "value": 3.071203390823512,
            "x": 1.4940790731576061,
            "y": 1.2302906807277207
           },
           {
            "id": 16,
            "time": 22,
            "value": 2.412650424018508,
            "x": 1.4940790731576061,
            "y": 1.2302906807277207
           },
           {
            "id": 16,
            "time": 23,
            "value": 2.9113406989283357,
            "x": 1.4940790731576061,
            "y": 1.2302906807277207
           },
           {
            "id": 16,
            "time": 24,
            "value": 2.649695253217435,
            "x": 1.4940790731576061,
            "y": 1.2302906807277207
           },
           {
            "id": 16,
            "time": 25,
            "value": 0.2855214360762548,
            "x": 1.4940790731576061,
            "y": 1.2302906807277207
           },
           {
            "id": 16,
            "time": 26,
            "value": -0.520105071463113,
            "x": 1.4940790731576061,
            "y": 1.2302906807277207
           },
           {
            "id": 16,
            "time": 27,
            "value": -0.9901379541639879,
            "x": 1.4940790731576061,
            "y": 1.2302906807277207
           },
           {
            "id": 16,
            "time": 28,
            "value": -0.7662943908510772,
            "x": 1.4940790731576061,
            "y": 1.2302906807277207
           },
           {
            "id": 16,
            "time": 29,
            "value": -1.6842991606701228,
            "x": 1.4940790731576061,
            "y": 1.2302906807277207
           },
           {
            "id": 16,
            "time": 30,
            "value": -1.7515747695931045,
            "x": 1.4940790731576061,
            "y": 1.2302906807277207
           },
           {
            "id": 16,
            "time": 31,
            "value": -2.69055634227089,
            "x": 1.4940790731576061,
            "y": 1.2302906807277207
           },
           {
            "id": 16,
            "time": 32,
            "value": -3.0368057899182,
            "x": 1.4940790731576061,
            "y": 1.2302906807277207
           },
           {
            "id": 16,
            "time": 33,
            "value": -3.839947177259828,
            "x": 1.4940790731576061,
            "y": 1.2302906807277207
           },
           {
            "id": 16,
            "time": 34,
            "value": -3.275938642186019,
            "x": 1.4940790731576061,
            "y": 1.2302906807277207
           },
           {
            "id": 16,
            "time": 35,
            "value": -2.605368191875109,
            "x": 1.4940790731576061,
            "y": 1.2302906807277207
           },
           {
            "id": 16,
            "time": 36,
            "value": -2.66395474300897,
            "x": 1.4940790731576061,
            "y": 1.2302906807277207
           },
           {
            "id": 16,
            "time": 37,
            "value": -2.5893683364654163,
            "x": 1.4940790731576061,
            "y": 1.2302906807277207
           },
           {
            "id": 16,
            "time": 38,
            "value": -3.2570810570359754,
            "x": 1.4940790731576061,
            "y": 1.2302906807277207
           },
           {
            "id": 16,
            "time": 39,
            "value": -4.105401579841208,
            "x": 1.4940790731576061,
            "y": 1.2302906807277207
           },
           {
            "id": 16,
            "time": 40,
            "value": -5.7483668733718165,
            "x": 1.4940790731576061,
            "y": 1.2302906807277207
           },
           {
            "id": 16,
            "time": 41,
            "value": -5.970843883614736,
            "x": 1.4940790731576061,
            "y": 1.2302906807277207
           },
           {
            "id": 16,
            "time": 42,
            "value": -6.827393191848946,
            "x": 1.4940790731576061,
            "y": 1.2302906807277207
           },
           {
            "id": 16,
            "time": 43,
            "value": -6.882745739871336,
            "x": 1.4940790731576061,
            "y": 1.2302906807277207
           },
           {
            "id": 16,
            "time": 44,
            "value": -7.88957749217032,
            "x": 1.4940790731576061,
            "y": 1.2302906807277207
           },
           {
            "id": 16,
            "time": 45,
            "value": -7.026057833789005,
            "x": 1.4940790731576061,
            "y": 1.2302906807277207
           },
           {
            "id": 16,
            "time": 46,
            "value": -7.432360964234067,
            "x": 1.4940790731576061,
            "y": 1.2302906807277207
           },
           {
            "id": 16,
            "time": 47,
            "value": -7.630759861054113,
            "x": 1.4940790731576061,
            "y": 1.2302906807277207
           },
           {
            "id": 16,
            "time": 48,
            "value": -7.406507640088431,
            "x": 1.4940790731576061,
            "y": 1.2302906807277207
           },
           {
            "id": 16,
            "time": 49,
            "value": -6.421190131148563,
            "x": 1.4940790731576061,
            "y": 1.2302906807277207
           },
           {
            "id": 17,
            "time": 0,
            "value": 0.3024718977397814,
            "x": -0.20515826376580087,
            "y": 1.2023798487844113
           },
           {
            "id": 17,
            "time": 1,
            "value": -0.27637776702463407,
            "x": -0.20515826376580087,
            "y": 1.2023798487844113
           },
           {
            "id": 17,
            "time": 2,
            "value": 1.509492726881201,
            "x": -0.20515826376580087,
            "y": 1.2023798487844113
           },
           {
            "id": 17,
            "time": 3,
            "value": 1.3544826337903668,
            "x": -0.20515826376580087,
            "y": 1.2023798487844113
           },
           {
            "id": 17,
            "time": 4,
            "value": 1.1461838782123719,
            "x": -0.20515826376580087,
            "y": 1.2023798487844113
           },
           {
            "id": 17,
            "time": 5,
            "value": 0.06625236984894856,
            "x": -0.20515826376580087,
            "y": 1.2023798487844113
           },
           {
            "id": 17,
            "time": 6,
            "value": -0.623297407901252,
            "x": -0.20515826376580087,
            "y": 1.2023798487844113
           },
           {
            "id": 17,
            "time": 7,
            "value": 0.20020674606247946,
            "x": -0.20515826376580087,
            "y": 1.2023798487844113
           },
           {
            "id": 17,
            "time": 8,
            "value": 0.5793584816175612,
            "x": -0.20515826376580087,
            "y": 1.2023798487844113
           },
           {
            "id": 17,
            "time": 9,
            "value": -1.4906265433959713,
            "x": -0.20515826376580087,
            "y": 1.2023798487844113
           },
           {
            "id": 17,
            "time": 10,
            "value": -2.8739904987910267,
            "x": -0.20515826376580087,
            "y": 1.2023798487844113
           },
           {
            "id": 17,
            "time": 11,
            "value": -2.9900944378253933,
            "x": -0.20515826376580087,
            "y": 1.2023798487844113
           },
           {
            "id": 17,
            "time": 12,
            "value": -2.4071407580721,
            "x": -0.20515826376580087,
            "y": 1.2023798487844113
           },
           {
            "id": 17,
            "time": 13,
            "value": -2.6940279504620075,
            "x": -0.20515826376580087,
            "y": 1.2023798487844113
           },
           {
            "id": 17,
            "time": 14,
            "value": -2.2430934886560925,
            "x": -0.20515826376580087,
            "y": 1.2023798487844113
           },
           {
            "id": 17,
            "time": 15,
            "value": -2.721067492696579,
            "x": -0.20515826376580087,
            "y": 1.2023798487844113
           },
           {
            "id": 17,
            "time": 16,
            "value": -4.291690901330032,
            "x": -0.20515826376580087,
            "y": 1.2023798487844113
           },
           {
            "id": 17,
            "time": 17,
            "value": -3.1505890346724588,
            "x": -0.20515826376580087,
            "y": 1.2023798487844113
           },
           {
            "id": 17,
            "time": 18,
            "value": -3.008527229485223,
            "x": -0.20515826376580087,
            "y": 1.2023798487844113
           },
           {
            "id": 17,
            "time": 19,
            "value": -3.0032345831858622,
            "x": -0.20515826376580087,
            "y": 1.2023798487844113
           },
           {
            "id": 17,
            "time": 20,
            "value": -5.2046758686864205,
            "x": -0.20515826376580087,
            "y": 1.2023798487844113
           },
           {
            "id": 17,
            "time": 21,
            "value": -6.087094687236339,
            "x": -0.20515826376580087,
            "y": 1.2023798487844113
           },
           {
            "id": 17,
            "time": 22,
            "value": -6.601328653176328,
            "x": -0.20515826376580087,
            "y": 1.2023798487844113
           },
           {
            "id": 17,
            "time": 23,
            "value": -5.553356497208275,
            "x": -0.20515826376580087,
            "y": 1.2023798487844113
           },
           {
            "id": 17,
            "time": 24,
            "value": -5.735601280998218,
            "x": -0.20515826376580087,
            "y": 1.2023798487844113
           },
           {
            "id": 17,
            "time": 25,
            "value": -5.7152670992929755,
            "x": -0.20515826376580087,
            "y": 1.2023798487844113
           },
           {
            "id": 17,
            "time": 26,
            "value": -6.8335790236146075,
            "x": -0.20515826376580087,
            "y": 1.2023798487844113
           },
           {
            "id": 17,
            "time": 27,
            "value": -7.050310494190146,
            "x": -0.20515826376580087,
            "y": 1.2023798487844113
           },
           {
            "id": 17,
            "time": 28,
            "value": -6.720687512062408,
            "x": -0.20515826376580087,
            "y": 1.2023798487844113
           },
           {
            "id": 17,
            "time": 29,
            "value": -6.468190884985536,
            "x": -0.20515826376580087,
            "y": 1.2023798487844113
           },
           {
            "id": 17,
            "time": 30,
            "value": -7.786586754630271,
            "x": -0.20515826376580087,
            "y": 1.2023798487844113
           },
           {
            "id": 17,
            "time": 31,
            "value": -6.7695657632170265,
            "x": -0.20515826376580087,
            "y": 1.2023798487844113
           },
           {
            "id": 17,
            "time": 32,
            "value": -7.564202084288525,
            "x": -0.20515826376580087,
            "y": 1.2023798487844113
           },
           {
            "id": 17,
            "time": 33,
            "value": -8.028539775724017,
            "x": -0.20515826376580087,
            "y": 1.2023798487844113
           },
           {
            "id": 17,
            "time": 34,
            "value": -9.313092073716543,
            "x": -0.20515826376580087,
            "y": 1.2023798487844113
           },
           {
            "id": 17,
            "time": 35,
            "value": -10.02059777122712,
            "x": -0.20515826376580087,
            "y": 1.2023798487844113
           },
           {
            "id": 17,
            "time": 36,
            "value": -10.33814086515732,
            "x": -0.20515826376580087,
            "y": 1.2023798487844113
           },
           {
            "id": 17,
            "time": 37,
            "value": -11.415239934561313,
            "x": -0.20515826376580087,
            "y": 1.2023798487844113
           },
           {
            "id": 17,
            "time": 38,
            "value": -9.733318194488175,
            "x": -0.20515826376580087,
            "y": 1.2023798487844113
           },
           {
            "id": 17,
            "time": 39,
            "value": -10.058987663308349,
            "x": -0.20515826376580087,
            "y": 1.2023798487844113
           },
           {
            "id": 17,
            "time": 40,
            "value": -10.465059459568181,
            "x": -0.20515826376580087,
            "y": 1.2023798487844113
           },
           {
            "id": 17,
            "time": 41,
            "value": -11.323979367375852,
            "x": -0.20515826376580087,
            "y": 1.2023798487844113
           },
           {
            "id": 17,
            "time": 42,
            "value": -12.865566767047639,
            "x": -0.20515826376580087,
            "y": 1.2023798487844113
           },
           {
            "id": 17,
            "time": 43,
            "value": -13.129504115640326,
            "x": -0.20515826376580087,
            "y": 1.2023798487844113
           },
           {
            "id": 17,
            "time": 44,
            "value": -11.447927399372999,
            "x": -0.20515826376580087,
            "y": 1.2023798487844113
           },
           {
            "id": 17,
            "time": 45,
            "value": -12.252681140010868,
            "x": -0.20515826376580087,
            "y": 1.2023798487844113
           },
           {
            "id": 17,
            "time": 46,
            "value": -13.116726131113237,
            "x": -0.20515826376580087,
            "y": 1.2023798487844113
           },
           {
            "id": 17,
            "time": 47,
            "value": -13.022533830803091,
            "x": -0.20515826376580087,
            "y": 1.2023798487844113
           },
           {
            "id": 17,
            "time": 48,
            "value": -14.701222193631748,
            "x": -0.20515826376580087,
            "y": 1.2023798487844113
           },
           {
            "id": 17,
            "time": 49,
            "value": -13.93430252397055,
            "x": -0.20515826376580087,
            "y": 1.2023798487844113
           },
           {
            "id": 18,
            "time": 0,
            "value": -0.6343220936809636,
            "x": 0.31306770165090136,
            "y": -0.3873268174079523
           },
           {
            "id": 18,
            "time": 1,
            "value": -0.9458746258083363,
            "x": 0.31306770165090136,
            "y": -0.3873268174079523
           },
           {
            "id": 18,
            "time": 2,
            "value": -0.8189625331047163,
            "x": 0.31306770165090136,
            "y": -0.3873268174079523
           },
           {
            "id": 18,
            "time": 3,
            "value": -0.20488316275863605,
            "x": 0.31306770165090136,
            "y": -0.3873268174079523
           },
           {
            "id": 18,
            "time": 4,
            "value": 0.19112354990300923,
            "x": 0.31306770165090136,
            "y": -0.3873268174079523
           },
           {
            "id": 18,
            "time": 5,
            "value": -0.9563451025080931,
            "x": 0.31306770165090136,
            "y": -0.3873268174079523
           },
           {
            "id": 18,
            "time": 6,
            "value": -1.4118776060254363,
            "x": 0.31306770165090136,
            "y": -0.3873268174079523
           },
           {
            "id": 18,
            "time": 7,
            "value": 0.7513583432552535,
            "x": 0.31306770165090136,
            "y": -0.3873268174079523
           },
           {
            "id": 18,
            "time": 8,
            "value": 3.0106672939461054,
            "x": 0.31306770165090136,
            "y": -0.3873268174079523
           },
           {
            "id": 18,
            "time": 9,
            "value": 3.4369260247242064,
            "x": 0.31306770165090136,
            "y": -0.3873268174079523
           },
           {
            "id": 18,
            "time": 10,
            "value": 1.8539876273891245,
            "x": 0.31306770165090136,
            "y": -0.3873268174079523
           },
           {
            "id": 18,
            "time": 11,
            "value": -0.17669684039236988,
            "x": 0.31306770165090136,
            "y": -0.3873268174079523
           },
           {
            "id": 18,
            "time": 12,
            "value": -0.5761458696552451,
            "x": 0.31306770165090136,
            "y": -0.3873268174079523
           },
           {
            "id": 18,
            "time": 13,
            "value": -0.6377722717508925,
            "x": 0.31306770165090136,
            "y": -0.3873268174079523
           },
           {
            "id": 18,
            "time": 14,
            "value": -1.321783169488109,
            "x": 0.31306770165090136,
            "y": -0.3873268174079523
           },
           {
            "id": 18,
            "time": 15,
            "value": -1.8014389834960567,
            "x": 0.31306770165090136,
            "y": -0.3873268174079523
           },
           {
            "id": 18,
            "time": 16,
            "value": -2.0083426596600282,
            "x": 0.31306770165090136,
            "y": -0.3873268174079523
           },
           {
            "id": 18,
            "time": 17,
            "value": -0.5417639440858506,
            "x": 0.31306770165090136,
            "y": -0.3873268174079523
           },
           {
            "id": 18,
            "time": 18,
            "value": 0.9782309166799221,
            "x": 0.31306770165090136,
            "y": -0.3873268174079523
           },
           {
            "id": 18,
            "time": 19,
            "value": 1.778795720110919,
            "x": 0.31306770165090136,
            "y": -0.3873268174079523
           },
           {
            "id": 18,
            "time": 20,
            "value": 1.9780959170073842,
            "x": 0.31306770165090136,
            "y": -0.3873268174079523
           },
           {
            "id": 18,
            "time": 21,
            "value": 3.106689981521953,
            "x": 0.31306770165090136,
            "y": -0.3873268174079523
           },
           {
            "id": 18,
            "time": 22,
            "value": 2.0886481062345883,
            "x": 0.31306770165090136,
            "y": -0.3873268174079523
           },
           {
            "id": 18,
            "time": 23,
            "value": 2.372927777041803,
            "x": 0.31306770165090136,
            "y": -0.3873268174079523
           },
           {
            "id": 18,
            "time": 24,
            "value": 2.170030936275136,
            "x": 0.31306770165090136,
            "y": -0.3873268174079523
           },
           {
            "id": 18,
            "time": 25,
            "value": 0.8221055136460158,
            "x": 0.31306770165090136,
            "y": -0.3873268174079523
           },
           {
            "id": 18,
            "time": 26,
            "value": 0.6910515021046035,
            "x": 0.31306770165090136,
            "y": -0.3873268174079523
           },
           {
            "id": 18,
            "time": 27,
            "value": -0.23910500041971772,
            "x": 0.31306770165090136,
            "y": -0.3873268174079523
           },
           {
            "id": 18,
            "time": 28,
            "value": 1.0468790066605753,
            "x": 0.31306770165090136,
            "y": -0.3873268174079523
           },
           {
            "id": 18,
            "time": 29,
            "value": 1.867200803921997,
            "x": 0.31306770165090136,
            "y": -0.3873268174079523
           },
           {
            "id": 18,
            "time": 30,
            "value": 1.4964968007015436,
            "x": 0.31306770165090136,
            "y": -0.3873268174079523
           },
           {
            "id": 18,
            "time": 31,
            "value": 2.9194802972176497,
            "x": 0.31306770165090136,
            "y": -0.3873268174079523
           },
           {
            "id": 18,
            "time": 32,
            "value": 3.117447587162617,
            "x": 0.31306770165090136,
            "y": -0.3873268174079523
           },
           {
            "id": 18,
            "time": 33,
            "value": 4.13923817275129,
            "x": 0.31306770165090136,
            "y": -0.3873268174079523
           },
           {
            "id": 18,
            "time": 34,
            "value": 4.034894681256597,
            "x": 0.31306770165090136,
            "y": -0.3873268174079523
           },
           {
            "id": 18,
            "time": 35,
            "value": 4.074661415843092,
            "x": 0.31306770165090136,
            "y": -0.3873268174079523
           },
           {
            "id": 18,
            "time": 36,
            "value": 2.442238113775109,
            "x": 0.31306770165090136,
            "y": -0.3873268174079523
           },
           {
            "id": 18,
            "time": 37,
            "value": 2.0175748113422434,
            "x": 0.31306770165090136,
            "y": -0.3873268174079523
           },
           {
            "id": 18,
            "time": 38,
            "value": 1.1649889641715965,
            "x": 0.31306770165090136,
            "y": -0.3873268174079523
           },
           {
            "id": 18,
            "time": 39,
            "value": 1.6354221090180783,
            "x": 0.31306770165090136,
            "y": -0.3873268174079523
           },
           {
            "id": 18,
            "time": 40,
            "value": 1.100151944485234,
            "x": 0.31306770165090136,
            "y": -0.3873268174079523
           },
           {
            "id": 18,
            "time": 41,
            "value": 1.1511062214965233,
            "x": 0.31306770165090136,
            "y": -0.3873268174079523
           },
           {
            "id": 18,
            "time": 42,
            "value": 3.7455308092646753,
            "x": 0.31306770165090136,
            "y": -0.3873268174079523
           },
           {
            "id": 18,
            "time": 43,
            "value": 4.098347415759053,
            "x": 0.31306770165090136,
            "y": -0.3873268174079523
           },
           {
            "id": 18,
            "time": 44,
            "value": 3.3060607539529085,
            "x": 0.31306770165090136,
            "y": -0.3873268174079523
           },
           {
            "id": 18,
            "time": 45,
            "value": 5.65270778447947,
            "x": 0.31306770165090136,
            "y": -0.3873268174079523
           },
           {
            "id": 18,
            "time": 46,
            "value": 5.509128272763149,
            "x": 0.31306770165090136,
            "y": -0.3873268174079523
           },
           {
            "id": 18,
            "time": 47,
            "value": 4.361517327920014,
            "x": 0.31306770165090136,
            "y": -0.3873268174079523
           },
           {
            "id": 18,
            "time": 48,
            "value": 4.576482918546107,
            "x": 0.31306770165090136,
            "y": -0.3873268174079523
           },
           {
            "id": 18,
            "time": 49,
            "value": 4.979108449676143,
            "x": 0.31306770165090136,
            "y": -0.3873268174079523
           },
           {
            "id": 19,
            "time": 0,
            "value": -0.3627411659871381,
            "x": -0.8540957393017248,
            "y": -0.30230275057533557
           },
           {
            "id": 19,
            "time": 1,
            "value": -0.3065758237573927,
            "x": -0.8540957393017248,
            "y": -0.30230275057533557
           },
           {
            "id": 19,
            "time": 2,
            "value": 0.09541353968730898,
            "x": -0.8540957393017248,
            "y": -0.30230275057533557
           },
           {
            "id": 19,
            "time": 3,
            "value": 1.0176202112538357,
            "x": -0.8540957393017248,
            "y": -0.30230275057533557
           },
           {
            "id": 19,
            "time": 4,
            "value": -0.07544129747667006,
            "x": -0.8540957393017248,
            "y": -0.30230275057533557
           },
           {
            "id": 19,
            "time": 5,
            "value": -0.5132613422211041,
            "x": -0.8540957393017248,
            "y": -0.30230275057533557
           },
           {
            "id": 19,
            "time": 6,
            "value": -0.4957821831960474,
            "x": -0.8540957393017248,
            "y": -0.30230275057533557
           },
           {
            "id": 19,
            "time": 7,
            "value": 0.8407457662403446,
            "x": -0.8540957393017248,
            "y": -0.30230275057533557
           },
           {
            "id": 19,
            "time": 8,
            "value": 0.7984886145797019,
            "x": -0.8540957393017248,
            "y": -0.30230275057533557
           },
           {
            "id": 19,
            "time": 9,
            "value": 1.4753966496099475,
            "x": -0.8540957393017248,
            "y": -0.30230275057533557
           },
           {
            "id": 19,
            "time": 10,
            "value": 2.0857760287171527,
            "x": -0.8540957393017248,
            "y": -0.30230275057533557
           },
           {
            "id": 19,
            "time": 11,
            "value": 4.150268890076472,
            "x": -0.8540957393017248,
            "y": -0.30230275057533557
           },
           {
            "id": 19,
            "time": 12,
            "value": 4.520324777923991,
            "x": -0.8540957393017248,
            "y": -0.30230275057533557
           },
           {
            "id": 19,
            "time": 13,
            "value": 4.4130195016328155,
            "x": -0.8540957393017248,
            "y": -0.30230275057533557
           },
           {
            "id": 19,
            "time": 14,
            "value": 6.072570297822688,
            "x": -0.8540957393017248,
            "y": -0.30230275057533557
           },
           {
            "id": 19,
            "time": 15,
            "value": 6.692928596166201,
            "x": -0.8540957393017248,
            "y": -0.30230275057533557
           },
           {
            "id": 19,
            "time": 16,
            "value": 7.573107508246983,
            "x": -0.8540957393017248,
            "y": -0.30230275057533557
           },
           {
            "id": 19,
            "time": 17,
            "value": 8.425659447708215,
            "x": -0.8540957393017248,
            "y": -0.30230275057533557
           },
           {
            "id": 19,
            "time": 18,
            "value": 10.14524875512441,
            "x": -0.8540957393017248,
            "y": -0.30230275057533557
           },
           {
            "id": 19,
            "time": 19,
            "value": 10.223508930286071,
            "x": -0.8540957393017248,
            "y": -0.30230275057533557
           },
           {
            "id": 19,
            "time": 20,
            "value": 10.172905389324406,
            "x": -0.8540957393017248,
            "y": -0.30230275057533557
           },
           {
            "id": 19,
            "time": 21,
            "value": 10.668906335668368,
            "x": -0.8540957393017248,
            "y": -0.30230275057533557
           },
           {
            "id": 19,
            "time": 22,
            "value": 10.591051579727516,
            "x": -0.8540957393017248,
            "y": -0.30230275057533557
           },
           {
            "id": 19,
            "time": 23,
            "value": 12.333720360383147,
            "x": -0.8540957393017248,
            "y": -0.30230275057533557
           },
           {
            "id": 19,
            "time": 24,
            "value": 12.223837581073832,
            "x": -0.8540957393017248,
            "y": -0.30230275057533557
           },
           {
            "id": 19,
            "time": 25,
            "value": 11.462264192817273,
            "x": -0.8540957393017248,
            "y": -0.30230275057533557
           },
           {
            "id": 19,
            "time": 26,
            "value": 12.595344072376994,
            "x": -0.8540957393017248,
            "y": -0.30230275057533557
           },
           {
            "id": 19,
            "time": 27,
            "value": 12.416754980289666,
            "x": -0.8540957393017248,
            "y": -0.30230275057533557
           },
           {
            "id": 19,
            "time": 28,
            "value": 10.909756582075394,
            "x": -0.8540957393017248,
            "y": -0.30230275057533557
           },
           {
            "id": 19,
            "time": 29,
            "value": 12.269705123754878,
            "x": -0.8540957393017248,
            "y": -0.30230275057533557
           },
           {
            "id": 19,
            "time": 30,
            "value": 11.324089328198587,
            "x": -0.8540957393017248,
            "y": -0.30230275057533557
           },
           {
            "id": 19,
            "time": 31,
            "value": 11.720175913155147,
            "x": -0.8540957393017248,
            "y": -0.30230275057533557
           },
           {
            "id": 19,
            "time": 32,
            "value": 12.802111131632412,
            "x": -0.8540957393017248,
            "y": -0.30230275057533557
           },
           {
            "id": 19,
            "time": 33,
            "value": 12.249570458215683,
            "x": -0.8540957393017248,
            "y": -0.30230275057533557
           },
           {
            "id": 19,
            "time": 34,
            "value": 11.261568515721947,
            "x": -0.8540957393017248,
            "y": -0.30230275057533557
           },
           {
            "id": 19,
            "time": 35,
            "value": 9.694573804860346,
            "x": -0.8540957393017248,
            "y": -0.30230275057533557
           },
           {
            "id": 19,
            "time": 36,
            "value": 9.627439650245824,
            "x": -0.8540957393017248,
            "y": -0.30230275057533557
           },
           {
            "id": 19,
            "time": 37,
            "value": 8.797475052707862,
            "x": -0.8540957393017248,
            "y": -0.30230275057533557
           },
           {
            "id": 19,
            "time": 38,
            "value": 8.820434808315813,
            "x": -0.8540957393017248,
            "y": -0.30230275057533557
           },
           {
            "id": 19,
            "time": 39,
            "value": 9.131881879869969,
            "x": -0.8540957393017248,
            "y": -0.30230275057533557
           },
           {
            "id": 19,
            "time": 40,
            "value": 9.157287088254984,
            "x": -0.8540957393017248,
            "y": -0.30230275057533557
           },
           {
            "id": 19,
            "time": 41,
            "value": 7.363057816765263,
            "x": -0.8540957393017248,
            "y": -0.30230275057533557
           },
           {
            "id": 19,
            "time": 42,
            "value": 6.959025522914326,
            "x": -0.8540957393017248,
            "y": -0.30230275057533557
           },
           {
            "id": 19,
            "time": 43,
            "value": 6.806251099368917,
            "x": -0.8540957393017248,
            "y": -0.30230275057533557
           },
           {
            "id": 19,
            "time": 44,
            "value": 6.274645191357462,
            "x": -0.8540957393017248,
            "y": -0.30230275057533557
           },
           {
            "id": 19,
            "time": 45,
            "value": 4.995484084329203,
            "x": -0.8540957393017248,
            "y": -0.30230275057533557
           },
           {
            "id": 19,
            "time": 46,
            "value": 4.613458635378819,
            "x": -0.8540957393017248,
            "y": -0.30230275057533557
           },
           {
            "id": 19,
            "time": 47,
            "value": 4.255344559898963,
            "x": -0.8540957393017248,
            "y": -0.30230275057533557
           },
           {
            "id": 19,
            "time": 48,
            "value": 4.352563791901881,
            "x": -0.8540957393017248,
            "y": -0.30230275057533557
           },
           {
            "id": 19,
            "time": 49,
            "value": 2.576675791940052,
            "x": -0.8540957393017248,
            "y": -0.30230275057533557
           }
          ]
         },
         "encoding": {
          "color": {
           "field": "id",
           "legend": null,
           "type": "ordinal"
          },
          "x": {
           "field": "time",
           "type": "quantitative"
          },
          "y": {
           "field": "value",
           "scale": {
            "domain": [
             -15,
             15
            ]
           },
           "type": "quantitative"
          }
         },
         "height": 250,
         "mark": "line",
         "selection": {
          "selector001": {
           "empty": "all",
           "fields": [
            "id"
           ],
           "on": "click",
           "resolve": "global",
           "type": "single"
          }
         },
         "transform": [
          {
           "filter": {
            "selection": "selector001"
           }
          }
         ],
         "width": 250
        }
       ]
      },
      "image/png": "[encoded data removed]",
      "text/plain": [
       "<VegaLite 2 object>\n",
       "\n",
       "If you see this message, it means the renderer has not been properly enabled\n",
       "for the frontend that you are using. For more information, see\n",
       "https://altair-viz.github.io/user_guide/troubleshooting.html\n"
      ]
     },
     "execution_count": 4,
     "metadata": {},
     "output_type": "execute_result"
    }
   ],
   "source": [
    "# Create a 50-element time-series for each object\n",
    "timeseries = pd.DataFrame(np.random.randn(n_times, n_objects).cumsum(0),\n",
    "                          columns=locations['id'],\n",
    "                          index=pd.RangeIndex(0, n_times, name='time'))\n",
    "\n",
    "# Melt the wide-form timeseries into a long-form view\n",
    "timeseries = timeseries.reset_index().melt('time')\n",
    "\n",
    "# Merge the (x, y) metadata into the long-form view\n",
    "timeseries['id'] = timeseries['id'].astype(int)  # make merge not complain\n",
    "data = pd.merge(timeseries, locations, on='id')\n",
    "\n",
    "# Data is prepared, now make a chart\n",
    "\n",
    "selector = alt.selection_single(empty='all', fields=['id'])\n",
    "\n",
    "base = alt.Chart(data).properties(\n",
    "    width=250,\n",
    "    height=250\n",
    ").add_selection(selector)\n",
    "\n",
    "points = base.mark_point(filled=True, size=200).encode(\n",
    "    x='mean(x)',\n",
    "    y='mean(y)',\n",
    "    color=alt.condition(selector, 'id:O', alt.value('lightgray'), legend=None),\n",
    ").interactive()\n",
    "\n",
    "timeseries = base.mark_line().encode(\n",
    "    x='time',\n",
    "    y=alt.Y('value', scale=alt.Scale(domain=(-15, 15))),\n",
    "    color=alt.Color('id:O', legend=None)\n",
    ").transform_filter(\n",
    "    selector\n",
    ")\n",
    "\n",
    "points | timeseries"
   ]
  },
  {
   "cell_type": "markdown",
   "metadata": {},
   "source": [
    "## Analyzing seattle Weather interactively"
   ]
  },
  {
   "cell_type": "code",
   "execution_count": 5,
   "metadata": {},
   "outputs": [
    {
     "data": {
      "text/html": [
       "<div>\n",
       "<style scoped>\n",
       "    .dataframe tbody tr th:only-of-type {\n",
       "        vertical-align: middle;\n",
       "    }\n",
       "\n",
       "    .dataframe tbody tr th {\n",
       "        vertical-align: top;\n",
       "    }\n",
       "\n",
       "    .dataframe thead th {\n",
       "        text-align: right;\n",
       "    }\n",
       "</style>\n",
       "<table border=\"1\" class=\"dataframe\">\n",
       "  <thead>\n",
       "    <tr style=\"text-align: right;\">\n",
       "      <th></th>\n",
       "      <th>date</th>\n",
       "      <th>precipitation</th>\n",
       "      <th>temp_max</th>\n",
       "      <th>temp_min</th>\n",
       "      <th>wind</th>\n",
       "      <th>weather</th>\n",
       "    </tr>\n",
       "  </thead>\n",
       "  <tbody>\n",
       "    <tr>\n",
       "      <th>0</th>\n",
       "      <td>2012-01-01</td>\n",
       "      <td>0.0</td>\n",
       "      <td>12.8</td>\n",
       "      <td>5.0</td>\n",
       "      <td>4.7</td>\n",
       "      <td>drizzle</td>\n",
       "    </tr>\n",
       "    <tr>\n",
       "      <th>1</th>\n",
       "      <td>2012-01-02</td>\n",
       "      <td>10.9</td>\n",
       "      <td>10.6</td>\n",
       "      <td>2.8</td>\n",
       "      <td>4.5</td>\n",
       "      <td>rain</td>\n",
       "    </tr>\n",
       "    <tr>\n",
       "      <th>2</th>\n",
       "      <td>2012-01-03</td>\n",
       "      <td>0.8</td>\n",
       "      <td>11.7</td>\n",
       "      <td>7.2</td>\n",
       "      <td>2.3</td>\n",
       "      <td>rain</td>\n",
       "    </tr>\n",
       "    <tr>\n",
       "      <th>3</th>\n",
       "      <td>2012-01-04</td>\n",
       "      <td>20.3</td>\n",
       "      <td>12.2</td>\n",
       "      <td>5.6</td>\n",
       "      <td>4.7</td>\n",
       "      <td>rain</td>\n",
       "    </tr>\n",
       "    <tr>\n",
       "      <th>4</th>\n",
       "      <td>2012-01-05</td>\n",
       "      <td>1.3</td>\n",
       "      <td>8.9</td>\n",
       "      <td>2.8</td>\n",
       "      <td>6.1</td>\n",
       "      <td>rain</td>\n",
       "    </tr>\n",
       "    <tr>\n",
       "      <th>5</th>\n",
       "      <td>2012-01-06</td>\n",
       "      <td>2.5</td>\n",
       "      <td>4.4</td>\n",
       "      <td>2.2</td>\n",
       "      <td>2.2</td>\n",
       "      <td>rain</td>\n",
       "    </tr>\n",
       "    <tr>\n",
       "      <th>6</th>\n",
       "      <td>2012-01-07</td>\n",
       "      <td>0.0</td>\n",
       "      <td>7.2</td>\n",
       "      <td>2.8</td>\n",
       "      <td>2.3</td>\n",
       "      <td>rain</td>\n",
       "    </tr>\n",
       "    <tr>\n",
       "      <th>7</th>\n",
       "      <td>2012-01-08</td>\n",
       "      <td>0.0</td>\n",
       "      <td>10.0</td>\n",
       "      <td>2.8</td>\n",
       "      <td>2.0</td>\n",
       "      <td>sun</td>\n",
       "    </tr>\n",
       "    <tr>\n",
       "      <th>8</th>\n",
       "      <td>2012-01-09</td>\n",
       "      <td>4.3</td>\n",
       "      <td>9.4</td>\n",
       "      <td>5.0</td>\n",
       "      <td>3.4</td>\n",
       "      <td>rain</td>\n",
       "    </tr>\n",
       "    <tr>\n",
       "      <th>9</th>\n",
       "      <td>2012-01-10</td>\n",
       "      <td>1.0</td>\n",
       "      <td>6.1</td>\n",
       "      <td>0.6</td>\n",
       "      <td>3.4</td>\n",
       "      <td>rain</td>\n",
       "    </tr>\n",
       "    <tr>\n",
       "      <th>10</th>\n",
       "      <td>2012-01-11</td>\n",
       "      <td>0.0</td>\n",
       "      <td>6.1</td>\n",
       "      <td>-1.1</td>\n",
       "      <td>5.1</td>\n",
       "      <td>sun</td>\n",
       "    </tr>\n",
       "    <tr>\n",
       "      <th>11</th>\n",
       "      <td>2012-01-12</td>\n",
       "      <td>0.0</td>\n",
       "      <td>6.1</td>\n",
       "      <td>-1.7</td>\n",
       "      <td>1.9</td>\n",
       "      <td>sun</td>\n",
       "    </tr>\n",
       "    <tr>\n",
       "      <th>12</th>\n",
       "      <td>2012-01-13</td>\n",
       "      <td>0.0</td>\n",
       "      <td>5.0</td>\n",
       "      <td>-2.8</td>\n",
       "      <td>1.3</td>\n",
       "      <td>sun</td>\n",
       "    </tr>\n",
       "    <tr>\n",
       "      <th>13</th>\n",
       "      <td>2012-01-14</td>\n",
       "      <td>4.1</td>\n",
       "      <td>4.4</td>\n",
       "      <td>0.6</td>\n",
       "      <td>5.3</td>\n",
       "      <td>snow</td>\n",
       "    </tr>\n",
       "    <tr>\n",
       "      <th>14</th>\n",
       "      <td>2012-01-15</td>\n",
       "      <td>5.3</td>\n",
       "      <td>1.1</td>\n",
       "      <td>-3.3</td>\n",
       "      <td>3.2</td>\n",
       "      <td>snow</td>\n",
       "    </tr>\n",
       "    <tr>\n",
       "      <th>15</th>\n",
       "      <td>2012-01-16</td>\n",
       "      <td>2.5</td>\n",
       "      <td>1.7</td>\n",
       "      <td>-2.8</td>\n",
       "      <td>5.0</td>\n",
       "      <td>snow</td>\n",
       "    </tr>\n",
       "    <tr>\n",
       "      <th>16</th>\n",
       "      <td>2012-01-17</td>\n",
       "      <td>8.1</td>\n",
       "      <td>3.3</td>\n",
       "      <td>0.0</td>\n",
       "      <td>5.6</td>\n",
       "      <td>snow</td>\n",
       "    </tr>\n",
       "    <tr>\n",
       "      <th>17</th>\n",
       "      <td>2012-01-18</td>\n",
       "      <td>19.8</td>\n",
       "      <td>0.0</td>\n",
       "      <td>-2.8</td>\n",
       "      <td>5.0</td>\n",
       "      <td>snow</td>\n",
       "    </tr>\n",
       "    <tr>\n",
       "      <th>18</th>\n",
       "      <td>2012-01-19</td>\n",
       "      <td>15.2</td>\n",
       "      <td>-1.1</td>\n",
       "      <td>-2.8</td>\n",
       "      <td>1.6</td>\n",
       "      <td>snow</td>\n",
       "    </tr>\n",
       "    <tr>\n",
       "      <th>19</th>\n",
       "      <td>2012-01-20</td>\n",
       "      <td>13.5</td>\n",
       "      <td>7.2</td>\n",
       "      <td>-1.1</td>\n",
       "      <td>2.3</td>\n",
       "      <td>snow</td>\n",
       "    </tr>\n",
       "    <tr>\n",
       "      <th>20</th>\n",
       "      <td>2012-01-21</td>\n",
       "      <td>3.0</td>\n",
       "      <td>8.3</td>\n",
       "      <td>3.3</td>\n",
       "      <td>8.2</td>\n",
       "      <td>rain</td>\n",
       "    </tr>\n",
       "    <tr>\n",
       "      <th>21</th>\n",
       "      <td>2012-01-22</td>\n",
       "      <td>6.1</td>\n",
       "      <td>6.7</td>\n",
       "      <td>2.2</td>\n",
       "      <td>4.8</td>\n",
       "      <td>rain</td>\n",
       "    </tr>\n",
       "    <tr>\n",
       "      <th>22</th>\n",
       "      <td>2012-01-23</td>\n",
       "      <td>0.0</td>\n",
       "      <td>8.3</td>\n",
       "      <td>1.1</td>\n",
       "      <td>3.6</td>\n",
       "      <td>rain</td>\n",
       "    </tr>\n",
       "    <tr>\n",
       "      <th>23</th>\n",
       "      <td>2012-01-24</td>\n",
       "      <td>8.6</td>\n",
       "      <td>10.0</td>\n",
       "      <td>2.2</td>\n",
       "      <td>5.1</td>\n",
       "      <td>rain</td>\n",
       "    </tr>\n",
       "    <tr>\n",
       "      <th>24</th>\n",
       "      <td>2012-01-25</td>\n",
       "      <td>8.1</td>\n",
       "      <td>8.9</td>\n",
       "      <td>4.4</td>\n",
       "      <td>5.4</td>\n",
       "      <td>rain</td>\n",
       "    </tr>\n",
       "    <tr>\n",
       "      <th>25</th>\n",
       "      <td>2012-01-26</td>\n",
       "      <td>4.8</td>\n",
       "      <td>8.9</td>\n",
       "      <td>1.1</td>\n",
       "      <td>4.8</td>\n",
       "      <td>rain</td>\n",
       "    </tr>\n",
       "    <tr>\n",
       "      <th>26</th>\n",
       "      <td>2012-01-27</td>\n",
       "      <td>0.0</td>\n",
       "      <td>6.7</td>\n",
       "      <td>-2.2</td>\n",
       "      <td>1.4</td>\n",
       "      <td>drizzle</td>\n",
       "    </tr>\n",
       "    <tr>\n",
       "      <th>27</th>\n",
       "      <td>2012-01-28</td>\n",
       "      <td>0.0</td>\n",
       "      <td>6.7</td>\n",
       "      <td>0.6</td>\n",
       "      <td>2.2</td>\n",
       "      <td>rain</td>\n",
       "    </tr>\n",
       "    <tr>\n",
       "      <th>28</th>\n",
       "      <td>2012-01-29</td>\n",
       "      <td>27.7</td>\n",
       "      <td>9.4</td>\n",
       "      <td>3.9</td>\n",
       "      <td>4.5</td>\n",
       "      <td>rain</td>\n",
       "    </tr>\n",
       "    <tr>\n",
       "      <th>29</th>\n",
       "      <td>2012-01-30</td>\n",
       "      <td>3.6</td>\n",
       "      <td>8.3</td>\n",
       "      <td>6.1</td>\n",
       "      <td>5.1</td>\n",
       "      <td>rain</td>\n",
       "    </tr>\n",
       "    <tr>\n",
       "      <th>...</th>\n",
       "      <td>...</td>\n",
       "      <td>...</td>\n",
       "      <td>...</td>\n",
       "      <td>...</td>\n",
       "      <td>...</td>\n",
       "      <td>...</td>\n",
       "    </tr>\n",
       "    <tr>\n",
       "      <th>1431</th>\n",
       "      <td>2015-12-02</td>\n",
       "      <td>2.5</td>\n",
       "      <td>10.6</td>\n",
       "      <td>4.4</td>\n",
       "      <td>5.0</td>\n",
       "      <td>fog</td>\n",
       "    </tr>\n",
       "    <tr>\n",
       "      <th>1432</th>\n",
       "      <td>2015-12-03</td>\n",
       "      <td>12.7</td>\n",
       "      <td>15.6</td>\n",
       "      <td>7.8</td>\n",
       "      <td>5.9</td>\n",
       "      <td>fog</td>\n",
       "    </tr>\n",
       "    <tr>\n",
       "      <th>1433</th>\n",
       "      <td>2015-12-04</td>\n",
       "      <td>2.0</td>\n",
       "      <td>10.6</td>\n",
       "      <td>6.1</td>\n",
       "      <td>4.7</td>\n",
       "      <td>fog</td>\n",
       "    </tr>\n",
       "    <tr>\n",
       "      <th>1434</th>\n",
       "      <td>2015-12-05</td>\n",
       "      <td>15.7</td>\n",
       "      <td>10.0</td>\n",
       "      <td>6.1</td>\n",
       "      <td>4.0</td>\n",
       "      <td>fog</td>\n",
       "    </tr>\n",
       "    <tr>\n",
       "      <th>1435</th>\n",
       "      <td>2015-12-06</td>\n",
       "      <td>11.2</td>\n",
       "      <td>12.8</td>\n",
       "      <td>7.2</td>\n",
       "      <td>5.9</td>\n",
       "      <td>fog</td>\n",
       "    </tr>\n",
       "    <tr>\n",
       "      <th>1436</th>\n",
       "      <td>2015-12-07</td>\n",
       "      <td>27.4</td>\n",
       "      <td>11.1</td>\n",
       "      <td>8.3</td>\n",
       "      <td>3.4</td>\n",
       "      <td>fog</td>\n",
       "    </tr>\n",
       "    <tr>\n",
       "      <th>1437</th>\n",
       "      <td>2015-12-08</td>\n",
       "      <td>54.1</td>\n",
       "      <td>15.6</td>\n",
       "      <td>10.0</td>\n",
       "      <td>6.2</td>\n",
       "      <td>fog</td>\n",
       "    </tr>\n",
       "    <tr>\n",
       "      <th>1438</th>\n",
       "      <td>2015-12-09</td>\n",
       "      <td>13.5</td>\n",
       "      <td>12.2</td>\n",
       "      <td>7.8</td>\n",
       "      <td>6.3</td>\n",
       "      <td>fog</td>\n",
       "    </tr>\n",
       "    <tr>\n",
       "      <th>1439</th>\n",
       "      <td>2015-12-10</td>\n",
       "      <td>9.4</td>\n",
       "      <td>11.7</td>\n",
       "      <td>6.1</td>\n",
       "      <td>7.5</td>\n",
       "      <td>fog</td>\n",
       "    </tr>\n",
       "    <tr>\n",
       "      <th>1440</th>\n",
       "      <td>2015-12-11</td>\n",
       "      <td>0.3</td>\n",
       "      <td>9.4</td>\n",
       "      <td>4.4</td>\n",
       "      <td>2.8</td>\n",
       "      <td>sun</td>\n",
       "    </tr>\n",
       "    <tr>\n",
       "      <th>1441</th>\n",
       "      <td>2015-12-12</td>\n",
       "      <td>16.0</td>\n",
       "      <td>8.9</td>\n",
       "      <td>5.6</td>\n",
       "      <td>5.6</td>\n",
       "      <td>fog</td>\n",
       "    </tr>\n",
       "    <tr>\n",
       "      <th>1442</th>\n",
       "      <td>2015-12-13</td>\n",
       "      <td>1.3</td>\n",
       "      <td>7.8</td>\n",
       "      <td>6.1</td>\n",
       "      <td>6.1</td>\n",
       "      <td>sun</td>\n",
       "    </tr>\n",
       "    <tr>\n",
       "      <th>1443</th>\n",
       "      <td>2015-12-14</td>\n",
       "      <td>0.0</td>\n",
       "      <td>7.8</td>\n",
       "      <td>1.7</td>\n",
       "      <td>1.7</td>\n",
       "      <td>sun</td>\n",
       "    </tr>\n",
       "    <tr>\n",
       "      <th>1444</th>\n",
       "      <td>2015-12-15</td>\n",
       "      <td>1.5</td>\n",
       "      <td>6.7</td>\n",
       "      <td>1.1</td>\n",
       "      <td>2.9</td>\n",
       "      <td>fog</td>\n",
       "    </tr>\n",
       "    <tr>\n",
       "      <th>1445</th>\n",
       "      <td>2015-12-16</td>\n",
       "      <td>3.6</td>\n",
       "      <td>6.1</td>\n",
       "      <td>2.8</td>\n",
       "      <td>2.3</td>\n",
       "      <td>fog</td>\n",
       "    </tr>\n",
       "    <tr>\n",
       "      <th>1446</th>\n",
       "      <td>2015-12-17</td>\n",
       "      <td>21.8</td>\n",
       "      <td>6.7</td>\n",
       "      <td>3.9</td>\n",
       "      <td>6.0</td>\n",
       "      <td>fog</td>\n",
       "    </tr>\n",
       "    <tr>\n",
       "      <th>1447</th>\n",
       "      <td>2015-12-18</td>\n",
       "      <td>18.5</td>\n",
       "      <td>8.9</td>\n",
       "      <td>4.4</td>\n",
       "      <td>5.1</td>\n",
       "      <td>fog</td>\n",
       "    </tr>\n",
       "    <tr>\n",
       "      <th>1448</th>\n",
       "      <td>2015-12-19</td>\n",
       "      <td>0.0</td>\n",
       "      <td>8.3</td>\n",
       "      <td>2.8</td>\n",
       "      <td>4.1</td>\n",
       "      <td>fog</td>\n",
       "    </tr>\n",
       "    <tr>\n",
       "      <th>1449</th>\n",
       "      <td>2015-12-20</td>\n",
       "      <td>4.3</td>\n",
       "      <td>7.8</td>\n",
       "      <td>4.4</td>\n",
       "      <td>6.7</td>\n",
       "      <td>fog</td>\n",
       "    </tr>\n",
       "    <tr>\n",
       "      <th>1450</th>\n",
       "      <td>2015-12-21</td>\n",
       "      <td>27.4</td>\n",
       "      <td>5.6</td>\n",
       "      <td>2.8</td>\n",
       "      <td>4.3</td>\n",
       "      <td>fog</td>\n",
       "    </tr>\n",
       "    <tr>\n",
       "      <th>1451</th>\n",
       "      <td>2015-12-22</td>\n",
       "      <td>4.6</td>\n",
       "      <td>7.8</td>\n",
       "      <td>2.8</td>\n",
       "      <td>5.0</td>\n",
       "      <td>fog</td>\n",
       "    </tr>\n",
       "    <tr>\n",
       "      <th>1452</th>\n",
       "      <td>2015-12-23</td>\n",
       "      <td>6.1</td>\n",
       "      <td>5.0</td>\n",
       "      <td>2.8</td>\n",
       "      <td>7.6</td>\n",
       "      <td>fog</td>\n",
       "    </tr>\n",
       "    <tr>\n",
       "      <th>1453</th>\n",
       "      <td>2015-12-24</td>\n",
       "      <td>2.5</td>\n",
       "      <td>5.6</td>\n",
       "      <td>2.2</td>\n",
       "      <td>4.3</td>\n",
       "      <td>fog</td>\n",
       "    </tr>\n",
       "    <tr>\n",
       "      <th>1454</th>\n",
       "      <td>2015-12-25</td>\n",
       "      <td>5.8</td>\n",
       "      <td>5.0</td>\n",
       "      <td>2.2</td>\n",
       "      <td>1.5</td>\n",
       "      <td>fog</td>\n",
       "    </tr>\n",
       "    <tr>\n",
       "      <th>1455</th>\n",
       "      <td>2015-12-26</td>\n",
       "      <td>0.0</td>\n",
       "      <td>4.4</td>\n",
       "      <td>0.0</td>\n",
       "      <td>2.5</td>\n",
       "      <td>sun</td>\n",
       "    </tr>\n",
       "    <tr>\n",
       "      <th>1456</th>\n",
       "      <td>2015-12-27</td>\n",
       "      <td>8.6</td>\n",
       "      <td>4.4</td>\n",
       "      <td>1.7</td>\n",
       "      <td>2.9</td>\n",
       "      <td>fog</td>\n",
       "    </tr>\n",
       "    <tr>\n",
       "      <th>1457</th>\n",
       "      <td>2015-12-28</td>\n",
       "      <td>1.5</td>\n",
       "      <td>5.0</td>\n",
       "      <td>1.7</td>\n",
       "      <td>1.3</td>\n",
       "      <td>fog</td>\n",
       "    </tr>\n",
       "    <tr>\n",
       "      <th>1458</th>\n",
       "      <td>2015-12-29</td>\n",
       "      <td>0.0</td>\n",
       "      <td>7.2</td>\n",
       "      <td>0.6</td>\n",
       "      <td>2.6</td>\n",
       "      <td>fog</td>\n",
       "    </tr>\n",
       "    <tr>\n",
       "      <th>1459</th>\n",
       "      <td>2015-12-30</td>\n",
       "      <td>0.0</td>\n",
       "      <td>5.6</td>\n",
       "      <td>-1.0</td>\n",
       "      <td>3.4</td>\n",
       "      <td>sun</td>\n",
       "    </tr>\n",
       "    <tr>\n",
       "      <th>1460</th>\n",
       "      <td>2015-12-31</td>\n",
       "      <td>0.0</td>\n",
       "      <td>5.6</td>\n",
       "      <td>-2.1</td>\n",
       "      <td>3.5</td>\n",
       "      <td>sun</td>\n",
       "    </tr>\n",
       "  </tbody>\n",
       "</table>\n",
       "<p>1461 rows × 6 columns</p>\n",
       "</div>"
      ],
      "text/plain": [
       "           date  precipitation  temp_max  temp_min  wind  weather\n",
       "0    2012-01-01            0.0      12.8       5.0   4.7  drizzle\n",
       "1    2012-01-02           10.9      10.6       2.8   4.5     rain\n",
       "2    2012-01-03            0.8      11.7       7.2   2.3     rain\n",
       "3    2012-01-04           20.3      12.2       5.6   4.7     rain\n",
       "4    2012-01-05            1.3       8.9       2.8   6.1     rain\n",
       "5    2012-01-06            2.5       4.4       2.2   2.2     rain\n",
       "6    2012-01-07            0.0       7.2       2.8   2.3     rain\n",
       "7    2012-01-08            0.0      10.0       2.8   2.0      sun\n",
       "8    2012-01-09            4.3       9.4       5.0   3.4     rain\n",
       "9    2012-01-10            1.0       6.1       0.6   3.4     rain\n",
       "10   2012-01-11            0.0       6.1      -1.1   5.1      sun\n",
       "11   2012-01-12            0.0       6.1      -1.7   1.9      sun\n",
       "12   2012-01-13            0.0       5.0      -2.8   1.3      sun\n",
       "13   2012-01-14            4.1       4.4       0.6   5.3     snow\n",
       "14   2012-01-15            5.3       1.1      -3.3   3.2     snow\n",
       "15   2012-01-16            2.5       1.7      -2.8   5.0     snow\n",
       "16   2012-01-17            8.1       3.3       0.0   5.6     snow\n",
       "17   2012-01-18           19.8       0.0      -2.8   5.0     snow\n",
       "18   2012-01-19           15.2      -1.1      -2.8   1.6     snow\n",
       "19   2012-01-20           13.5       7.2      -1.1   2.3     snow\n",
       "20   2012-01-21            3.0       8.3       3.3   8.2     rain\n",
       "21   2012-01-22            6.1       6.7       2.2   4.8     rain\n",
       "22   2012-01-23            0.0       8.3       1.1   3.6     rain\n",
       "23   2012-01-24            8.6      10.0       2.2   5.1     rain\n",
       "24   2012-01-25            8.1       8.9       4.4   5.4     rain\n",
       "25   2012-01-26            4.8       8.9       1.1   4.8     rain\n",
       "26   2012-01-27            0.0       6.7      -2.2   1.4  drizzle\n",
       "27   2012-01-28            0.0       6.7       0.6   2.2     rain\n",
       "28   2012-01-29           27.7       9.4       3.9   4.5     rain\n",
       "29   2012-01-30            3.6       8.3       6.1   5.1     rain\n",
       "...         ...            ...       ...       ...   ...      ...\n",
       "1431 2015-12-02            2.5      10.6       4.4   5.0      fog\n",
       "1432 2015-12-03           12.7      15.6       7.8   5.9      fog\n",
       "1433 2015-12-04            2.0      10.6       6.1   4.7      fog\n",
       "1434 2015-12-05           15.7      10.0       6.1   4.0      fog\n",
       "1435 2015-12-06           11.2      12.8       7.2   5.9      fog\n",
       "1436 2015-12-07           27.4      11.1       8.3   3.4      fog\n",
       "1437 2015-12-08           54.1      15.6      10.0   6.2      fog\n",
       "1438 2015-12-09           13.5      12.2       7.8   6.3      fog\n",
       "1439 2015-12-10            9.4      11.7       6.1   7.5      fog\n",
       "1440 2015-12-11            0.3       9.4       4.4   2.8      sun\n",
       "1441 2015-12-12           16.0       8.9       5.6   5.6      fog\n",
       "1442 2015-12-13            1.3       7.8       6.1   6.1      sun\n",
       "1443 2015-12-14            0.0       7.8       1.7   1.7      sun\n",
       "1444 2015-12-15            1.5       6.7       1.1   2.9      fog\n",
       "1445 2015-12-16            3.6       6.1       2.8   2.3      fog\n",
       "1446 2015-12-17           21.8       6.7       3.9   6.0      fog\n",
       "1447 2015-12-18           18.5       8.9       4.4   5.1      fog\n",
       "1448 2015-12-19            0.0       8.3       2.8   4.1      fog\n",
       "1449 2015-12-20            4.3       7.8       4.4   6.7      fog\n",
       "1450 2015-12-21           27.4       5.6       2.8   4.3      fog\n",
       "1451 2015-12-22            4.6       7.8       2.8   5.0      fog\n",
       "1452 2015-12-23            6.1       5.0       2.8   7.6      fog\n",
       "1453 2015-12-24            2.5       5.6       2.2   4.3      fog\n",
       "1454 2015-12-25            5.8       5.0       2.2   1.5      fog\n",
       "1455 2015-12-26            0.0       4.4       0.0   2.5      sun\n",
       "1456 2015-12-27            8.6       4.4       1.7   2.9      fog\n",
       "1457 2015-12-28            1.5       5.0       1.7   1.3      fog\n",
       "1458 2015-12-29            0.0       7.2       0.6   2.6      fog\n",
       "1459 2015-12-30            0.0       5.6      -1.0   3.4      sun\n",
       "1460 2015-12-31            0.0       5.6      -2.1   3.5      sun\n",
       "\n",
       "[1461 rows x 6 columns]"
      ]
     },
     "execution_count": 5,
     "metadata": {},
     "output_type": "execute_result"
    }
   ],
   "source": [
    "from vega_datasets import data\n",
    "\n",
    "data.seattle_weather()"
   ]
  },
  {
   "cell_type": "code",
   "execution_count": 6,
   "metadata": {},
   "outputs": [
    {
     "data": {
      "application/vnd.vegalite.v2+json": {
       "$schema": "https://vega.github.io/schema/vega-lite/v2.4.3.json",
       "config": {
        "view": {
         "height": 300,
         "width": 400
        }
       },
       "data": {
        "format": {
         "type": "csv"
        },
        "url": "https://vega.github.io/vega-datasets/data/seattle-weather.csv"
       },
       "title": "Seattle Weather: 2012-2015",
       "vconcat": [
        {
         "encoding": {
          "color": {
           "condition": {
            "field": "weather",
            "scale": {
             "domain": [
              "sun",
              "fog",
              "drizzle",
              "rain",
              "snow"
             ],
             "range": [
              "#e7ba52",
              "#a7a7a7",
              "#aec7e8",
              "#1f77b4",
              "#9467bd"
             ]
            },
            "selection": "selector003",
            "type": "nominal"
           },
           "value": "lightgray"
          },
          "size": {
           "field": "precipitation",
           "scale": {
            "range": [
             5,
             200
            ]
           },
           "type": "quantitative"
          },
          "x": {
           "axis": {
            "title": "Date"
           },
           "field": "date",
           "timeUnit": "monthdate",
           "type": "temporal"
          },
          "y": {
           "axis": {
            "title": "Maximum Daily Temperature (C)"
           },
           "field": "temp_max",
           "scale": {
            "domain": [
             -5,
             40
            ]
           },
           "type": "quantitative"
          }
         },
         "height": 300,
         "mark": "point",
         "selection": {
          "selector003": {
           "encodings": [
            "x"
           ],
           "mark": {
            "fill": "#333",
            "fillOpacity": 0.125,
            "stroke": "white"
           },
           "on": "[mousedown, window:mouseup] > window:mousemove!",
           "resolve": "global",
           "translate": "[mousedown, window:mouseup] > window:mousemove!",
           "type": "interval",
           "zoom": "wheel!"
          }
         },
         "transform": [
          {
           "filter": {
            "selection": "selector004"
           }
          }
         ],
         "width": 600
        },
        {
         "encoding": {
          "color": {
           "condition": {
            "field": "weather",
            "scale": {
             "domain": [
              "sun",
              "fog",
              "drizzle",
              "rain",
              "snow"
             ],
             "range": [
              "#e7ba52",
              "#a7a7a7",
              "#aec7e8",
              "#1f77b4",
              "#9467bd"
             ]
            },
            "selection": "selector004",
            "type": "nominal"
           },
           "value": "lightgray"
          },
          "x": {
           "aggregate": "count",
           "type": "quantitative"
          },
          "y": {
           "field": "weather",
           "type": "nominal"
          }
         },
         "mark": "bar",
         "selection": {
          "selector004": {
           "empty": "all",
           "encodings": [
            "color"
           ],
           "on": "click",
           "resolve": "global",
           "toggle": "event.shiftKey",
           "type": "multi"
          }
         },
         "transform": [
          {
           "filter": {
            "selection": "selector003"
           }
          }
         ],
         "width": 600
        }
       ]
      },
      "image/png": "[encoded data removed]",
      "text/plain": [
       "<VegaLite 2 object>\n",
       "\n",
       "If you see this message, it means the renderer has not been properly enabled\n",
       "for the frontend that you are using. For more information, see\n",
       "https://altair-viz.github.io/user_guide/troubleshooting.html\n"
      ]
     },
     "execution_count": 6,
     "metadata": {},
     "output_type": "execute_result"
    }
   ],
   "source": [
    "scale = alt.Scale(domain=['sun', 'fog', 'drizzle', 'rain', 'snow'],\n",
    "                  range=['#e7ba52', '#a7a7a7', '#aec7e8', '#1f77b4', '#9467bd'])\n",
    "color = alt.Color('weather:N', scale=scale)\n",
    "\n",
    "# We create two selections:\n",
    "# - a brush that is active on the top panel\n",
    "# - a multi-click that is active on the bottom panel\n",
    "brush = alt.selection_interval(encodings=['x'])\n",
    "click = alt.selection_multi(encodings=['color'])\n",
    "\n",
    "# Top panel is scatter plot of temperature vs time\n",
    "points = alt.Chart().mark_point().encode(\n",
    "    alt.X('monthdate(date):T', axis=alt.Axis(title='Date')),\n",
    "    alt.Y('temp_max:Q',\n",
    "        axis=alt.Axis(title='Maximum Daily Temperature (C)'),\n",
    "        scale=alt.Scale(domain=[-5, 40])\n",
    "    ),\n",
    "    color=alt.condition(brush, color, alt.value('lightgray')),\n",
    "    size=alt.Size('precipitation:Q', scale=alt.Scale(range=[5, 200]))\n",
    ").properties(\n",
    "    width=600,\n",
    "    height=300\n",
    ").add_selection(\n",
    "    brush\n",
    ").transform_filter(\n",
    "    click\n",
    ")\n",
    "\n",
    "# Bottom panel is a bar chart of weather type\n",
    "bars = alt.Chart().mark_bar().encode(\n",
    "    x='count()',\n",
    "    y='weather:N',\n",
    "    color=alt.condition(click, color, alt.value('lightgray')),\n",
    ").transform_filter(\n",
    "    brush\n",
    ").properties(\n",
    "    width=600,\n",
    ").add_selection(\n",
    "    click\n",
    ")\n",
    "\n",
    "alt.vconcat(points, bars,\n",
    "    data=data.seattle_weather.url,\n",
    "    title=\"Seattle Weather: 2012-2015\"\n",
    ")"
   ]
  },
  {
   "cell_type": "code",
   "execution_count": null,
   "metadata": {},
   "outputs": [],
   "source": []
  }
 ],
 "metadata": {
  "kernel_info": {
   "name": "omnipotent"
  },
  "kernelspec": {
   "display_name": "omnipotent (Python 3.6)",
   "language": "python",
   "name": "omnipotent"
  },
  "language_info": {
   "codemirror_mode": {
    "name": "ipython",
    "version": 3
   },
   "file_extension": ".py",
   "mimetype": "text/x-python",
   "name": "python",
   "nbconvert_exporter": "python",
   "pygments_lexer": "ipython3",
   "version": "3.6.5"
  },
  "nteract": {
   "version": "0.8.4"
  }
 },
 "nbformat": 4,
 "nbformat_minor": 2
}
